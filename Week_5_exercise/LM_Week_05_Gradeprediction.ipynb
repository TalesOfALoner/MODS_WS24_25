{
  "cells": [
    {
      "cell_type": "markdown",
      "metadata": {
        "id": "zFsnHG8VJhAX"
      },
      "source": [
        "\n",
        "## Introduction\n",
        "\n",
        "In this week we will get a closer look to the possibilities of **linear regression** and methods to improve the performance of the model. We want to predict the Math-grade (G1) that a student at a Portuguese school will achieve under the existing observations.\n",
        "\n",
        "In this data set originally 33 different features were collected. We will only use a subset of the features to perform our analysis today.\n",
        "\n",
        "- **school** (GP - Gabriel Pereira, MS - Moisinho da Silveira)\n",
        "\n",
        "- **sex** (M (Male) or F (Female))\n",
        "\n",
        "- **age** (From 15 to 22)\n",
        "\n",
        "- **Medu** (Education of Mother,0 (none), 1 (4th grade), 2 (5th to 9th grade), 3 (secondary education), 4 (higher education))\n",
        "\n",
        "- **Fedu** (Education of Father,0 (none), 1 (4th grade), 2 (5th to 9th grade), 3 (secondary education), 4 (higher education))\n",
        "\n",
        "- **Mjob** (Job of Mother, 5 different values: teacher, health, services, at_home, other)\n",
        "\n",
        "- **Fjob** (Job of Father, 5 different values: teacher, health, services, at_home, other)\n",
        "\n",
        "- **reason** (reason chosen this school, home, reputation, course or other)\n",
        "\n",
        "- **studytime** (weekly studytime, 1 - 10 hours)\n",
        "\n",
        "- **failures** (number of past class failures, 0 to 4)\n",
        "\n",
        "- **goout** (go out with friends, 1 (very low) to 5 (very high)\n",
        "\n",
        "- **G1** (first period grade, from 0 to 20)\n",
        "\n",
        "<p><a href=\"http://www3.dsi.uminho.pt/pcortez\"><strong>Source: Paulo Cortez, University of Minho, Guimaraes, Portugal</strong></a></p>\n",
        "\n",
        "<https://www.kaggle.com/dipam7/student-grade-prediction?select=student-mat.csv>\n",
        "\n",
        "## Data Preperation\n",
        "\n",
        "### Numerical and categorical data"
      ]
    },
    {
      "cell_type": "code",
      "execution_count": 2,
      "metadata": {
        "id": "QBbHusZ1JhAZ"
      },
      "outputs": [],
      "source": [
        "# Imports\n",
        "import numpy as np\n",
        "import random\n",
        "\n",
        "from sklearn.metrics import root_mean_squared_error\n",
        "from statsmodels.formula.api import ols\n",
        "\n",
        "# Seed\n",
        "np.random.seed(42)  # Set seed for NumPy\n",
        "random.seed(42) # Set seed for random module"
      ]
    },
    {
      "cell_type": "markdown",
      "metadata": {
        "id": "ZNE8k0lnJhAZ"
      },
      "source": [
        "In the cell below, we load the data and select a subset of it. Additionally we select the numerical parameters of the dataframe.\n",
        "\n",
        "`iloc[:, 0:11]` is used to select data by the position. The first part before the comma selects the specified rows and the second part after it selects the columns. Here we want to select all rows so we can just use the colon. For the columns we want to select the first 11 columns starting by 0 and stopping after 10 which is done by 0:11.\n",
        "\n",
        "`loc[: , [\"column_name1\", \"column_name2\"]]` works similar to `iloc` but uses names to select rows and columns.\n",
        "\n",
        "Run the code below."
      ]
    },
    {
      "cell_type": "code",
      "execution_count": 3,
      "metadata": {
        "id": "A7zLMB1iJhAZ",
        "outputId": "a9e08ab0-7873-4e7a-e74e-63cd0fc29618",
        "colab": {
          "base_uri": "https://localhost:8080/",
          "height": 206
        }
      },
      "outputs": [
        {
          "output_type": "execute_result",
          "data": {
            "text/plain": [
              "   age  Medu  Fedu school sex  failures  studytime  goout     Mjob      Fjob  \\\n",
              "0   18     4     4     GP   F         0          2      4  at_home   teacher   \n",
              "1   17     1     1     GP   F         0          2      3  at_home     other   \n",
              "2   15     1     1     GP   F         3          2      2  at_home     other   \n",
              "3   15     4     2     GP   F         0          3      2   health  services   \n",
              "4   16     3     3     GP   F         0          2      2    other     other   \n",
              "\n",
              "   G1  \n",
              "0   5  \n",
              "1   5  \n",
              "2   7  \n",
              "3  15  \n",
              "4   6  "
            ],
            "text/html": [
              "\n",
              "  <div id=\"df-acbfc376-dd0e-4fa1-a84d-e1d4b3343b5a\" class=\"colab-df-container\">\n",
              "    <div>\n",
              "<style scoped>\n",
              "    .dataframe tbody tr th:only-of-type {\n",
              "        vertical-align: middle;\n",
              "    }\n",
              "\n",
              "    .dataframe tbody tr th {\n",
              "        vertical-align: top;\n",
              "    }\n",
              "\n",
              "    .dataframe thead th {\n",
              "        text-align: right;\n",
              "    }\n",
              "</style>\n",
              "<table border=\"1\" class=\"dataframe\">\n",
              "  <thead>\n",
              "    <tr style=\"text-align: right;\">\n",
              "      <th></th>\n",
              "      <th>age</th>\n",
              "      <th>Medu</th>\n",
              "      <th>Fedu</th>\n",
              "      <th>school</th>\n",
              "      <th>sex</th>\n",
              "      <th>failures</th>\n",
              "      <th>studytime</th>\n",
              "      <th>goout</th>\n",
              "      <th>Mjob</th>\n",
              "      <th>Fjob</th>\n",
              "      <th>G1</th>\n",
              "    </tr>\n",
              "  </thead>\n",
              "  <tbody>\n",
              "    <tr>\n",
              "      <th>0</th>\n",
              "      <td>18</td>\n",
              "      <td>4</td>\n",
              "      <td>4</td>\n",
              "      <td>GP</td>\n",
              "      <td>F</td>\n",
              "      <td>0</td>\n",
              "      <td>2</td>\n",
              "      <td>4</td>\n",
              "      <td>at_home</td>\n",
              "      <td>teacher</td>\n",
              "      <td>5</td>\n",
              "    </tr>\n",
              "    <tr>\n",
              "      <th>1</th>\n",
              "      <td>17</td>\n",
              "      <td>1</td>\n",
              "      <td>1</td>\n",
              "      <td>GP</td>\n",
              "      <td>F</td>\n",
              "      <td>0</td>\n",
              "      <td>2</td>\n",
              "      <td>3</td>\n",
              "      <td>at_home</td>\n",
              "      <td>other</td>\n",
              "      <td>5</td>\n",
              "    </tr>\n",
              "    <tr>\n",
              "      <th>2</th>\n",
              "      <td>15</td>\n",
              "      <td>1</td>\n",
              "      <td>1</td>\n",
              "      <td>GP</td>\n",
              "      <td>F</td>\n",
              "      <td>3</td>\n",
              "      <td>2</td>\n",
              "      <td>2</td>\n",
              "      <td>at_home</td>\n",
              "      <td>other</td>\n",
              "      <td>7</td>\n",
              "    </tr>\n",
              "    <tr>\n",
              "      <th>3</th>\n",
              "      <td>15</td>\n",
              "      <td>4</td>\n",
              "      <td>2</td>\n",
              "      <td>GP</td>\n",
              "      <td>F</td>\n",
              "      <td>0</td>\n",
              "      <td>3</td>\n",
              "      <td>2</td>\n",
              "      <td>health</td>\n",
              "      <td>services</td>\n",
              "      <td>15</td>\n",
              "    </tr>\n",
              "    <tr>\n",
              "      <th>4</th>\n",
              "      <td>16</td>\n",
              "      <td>3</td>\n",
              "      <td>3</td>\n",
              "      <td>GP</td>\n",
              "      <td>F</td>\n",
              "      <td>0</td>\n",
              "      <td>2</td>\n",
              "      <td>2</td>\n",
              "      <td>other</td>\n",
              "      <td>other</td>\n",
              "      <td>6</td>\n",
              "    </tr>\n",
              "  </tbody>\n",
              "</table>\n",
              "</div>\n",
              "    <div class=\"colab-df-buttons\">\n",
              "\n",
              "  <div class=\"colab-df-container\">\n",
              "    <button class=\"colab-df-convert\" onclick=\"convertToInteractive('df-acbfc376-dd0e-4fa1-a84d-e1d4b3343b5a')\"\n",
              "            title=\"Convert this dataframe to an interactive table.\"\n",
              "            style=\"display:none;\">\n",
              "\n",
              "  <svg xmlns=\"http://www.w3.org/2000/svg\" height=\"24px\" viewBox=\"0 -960 960 960\">\n",
              "    <path d=\"M120-120v-720h720v720H120Zm60-500h600v-160H180v160Zm220 220h160v-160H400v160Zm0 220h160v-160H400v160ZM180-400h160v-160H180v160Zm440 0h160v-160H620v160ZM180-180h160v-160H180v160Zm440 0h160v-160H620v160Z\"/>\n",
              "  </svg>\n",
              "    </button>\n",
              "\n",
              "  <style>\n",
              "    .colab-df-container {\n",
              "      display:flex;\n",
              "      gap: 12px;\n",
              "    }\n",
              "\n",
              "    .colab-df-convert {\n",
              "      background-color: #E8F0FE;\n",
              "      border: none;\n",
              "      border-radius: 50%;\n",
              "      cursor: pointer;\n",
              "      display: none;\n",
              "      fill: #1967D2;\n",
              "      height: 32px;\n",
              "      padding: 0 0 0 0;\n",
              "      width: 32px;\n",
              "    }\n",
              "\n",
              "    .colab-df-convert:hover {\n",
              "      background-color: #E2EBFA;\n",
              "      box-shadow: 0px 1px 2px rgba(60, 64, 67, 0.3), 0px 1px 3px 1px rgba(60, 64, 67, 0.15);\n",
              "      fill: #174EA6;\n",
              "    }\n",
              "\n",
              "    .colab-df-buttons div {\n",
              "      margin-bottom: 4px;\n",
              "    }\n",
              "\n",
              "    [theme=dark] .colab-df-convert {\n",
              "      background-color: #3B4455;\n",
              "      fill: #D2E3FC;\n",
              "    }\n",
              "\n",
              "    [theme=dark] .colab-df-convert:hover {\n",
              "      background-color: #434B5C;\n",
              "      box-shadow: 0px 1px 3px 1px rgba(0, 0, 0, 0.15);\n",
              "      filter: drop-shadow(0px 1px 2px rgba(0, 0, 0, 0.3));\n",
              "      fill: #FFFFFF;\n",
              "    }\n",
              "  </style>\n",
              "\n",
              "    <script>\n",
              "      const buttonEl =\n",
              "        document.querySelector('#df-acbfc376-dd0e-4fa1-a84d-e1d4b3343b5a button.colab-df-convert');\n",
              "      buttonEl.style.display =\n",
              "        google.colab.kernel.accessAllowed ? 'block' : 'none';\n",
              "\n",
              "      async function convertToInteractive(key) {\n",
              "        const element = document.querySelector('#df-acbfc376-dd0e-4fa1-a84d-e1d4b3343b5a');\n",
              "        const dataTable =\n",
              "          await google.colab.kernel.invokeFunction('convertToInteractive',\n",
              "                                                    [key], {});\n",
              "        if (!dataTable) return;\n",
              "\n",
              "        const docLinkHtml = 'Like what you see? Visit the ' +\n",
              "          '<a target=\"_blank\" href=https://colab.research.google.com/notebooks/data_table.ipynb>data table notebook</a>'\n",
              "          + ' to learn more about interactive tables.';\n",
              "        element.innerHTML = '';\n",
              "        dataTable['output_type'] = 'display_data';\n",
              "        await google.colab.output.renderOutput(dataTable, element);\n",
              "        const docLink = document.createElement('div');\n",
              "        docLink.innerHTML = docLinkHtml;\n",
              "        element.appendChild(docLink);\n",
              "      }\n",
              "    </script>\n",
              "  </div>\n",
              "\n",
              "\n",
              "<div id=\"df-0063ddda-e1aa-42c6-a681-a1a26ff0a819\">\n",
              "  <button class=\"colab-df-quickchart\" onclick=\"quickchart('df-0063ddda-e1aa-42c6-a681-a1a26ff0a819')\"\n",
              "            title=\"Suggest charts\"\n",
              "            style=\"display:none;\">\n",
              "\n",
              "<svg xmlns=\"http://www.w3.org/2000/svg\" height=\"24px\"viewBox=\"0 0 24 24\"\n",
              "     width=\"24px\">\n",
              "    <g>\n",
              "        <path d=\"M19 3H5c-1.1 0-2 .9-2 2v14c0 1.1.9 2 2 2h14c1.1 0 2-.9 2-2V5c0-1.1-.9-2-2-2zM9 17H7v-7h2v7zm4 0h-2V7h2v10zm4 0h-2v-4h2v4z\"/>\n",
              "    </g>\n",
              "</svg>\n",
              "  </button>\n",
              "\n",
              "<style>\n",
              "  .colab-df-quickchart {\n",
              "      --bg-color: #E8F0FE;\n",
              "      --fill-color: #1967D2;\n",
              "      --hover-bg-color: #E2EBFA;\n",
              "      --hover-fill-color: #174EA6;\n",
              "      --disabled-fill-color: #AAA;\n",
              "      --disabled-bg-color: #DDD;\n",
              "  }\n",
              "\n",
              "  [theme=dark] .colab-df-quickchart {\n",
              "      --bg-color: #3B4455;\n",
              "      --fill-color: #D2E3FC;\n",
              "      --hover-bg-color: #434B5C;\n",
              "      --hover-fill-color: #FFFFFF;\n",
              "      --disabled-bg-color: #3B4455;\n",
              "      --disabled-fill-color: #666;\n",
              "  }\n",
              "\n",
              "  .colab-df-quickchart {\n",
              "    background-color: var(--bg-color);\n",
              "    border: none;\n",
              "    border-radius: 50%;\n",
              "    cursor: pointer;\n",
              "    display: none;\n",
              "    fill: var(--fill-color);\n",
              "    height: 32px;\n",
              "    padding: 0;\n",
              "    width: 32px;\n",
              "  }\n",
              "\n",
              "  .colab-df-quickchart:hover {\n",
              "    background-color: var(--hover-bg-color);\n",
              "    box-shadow: 0 1px 2px rgba(60, 64, 67, 0.3), 0 1px 3px 1px rgba(60, 64, 67, 0.15);\n",
              "    fill: var(--button-hover-fill-color);\n",
              "  }\n",
              "\n",
              "  .colab-df-quickchart-complete:disabled,\n",
              "  .colab-df-quickchart-complete:disabled:hover {\n",
              "    background-color: var(--disabled-bg-color);\n",
              "    fill: var(--disabled-fill-color);\n",
              "    box-shadow: none;\n",
              "  }\n",
              "\n",
              "  .colab-df-spinner {\n",
              "    border: 2px solid var(--fill-color);\n",
              "    border-color: transparent;\n",
              "    border-bottom-color: var(--fill-color);\n",
              "    animation:\n",
              "      spin 1s steps(1) infinite;\n",
              "  }\n",
              "\n",
              "  @keyframes spin {\n",
              "    0% {\n",
              "      border-color: transparent;\n",
              "      border-bottom-color: var(--fill-color);\n",
              "      border-left-color: var(--fill-color);\n",
              "    }\n",
              "    20% {\n",
              "      border-color: transparent;\n",
              "      border-left-color: var(--fill-color);\n",
              "      border-top-color: var(--fill-color);\n",
              "    }\n",
              "    30% {\n",
              "      border-color: transparent;\n",
              "      border-left-color: var(--fill-color);\n",
              "      border-top-color: var(--fill-color);\n",
              "      border-right-color: var(--fill-color);\n",
              "    }\n",
              "    40% {\n",
              "      border-color: transparent;\n",
              "      border-right-color: var(--fill-color);\n",
              "      border-top-color: var(--fill-color);\n",
              "    }\n",
              "    60% {\n",
              "      border-color: transparent;\n",
              "      border-right-color: var(--fill-color);\n",
              "    }\n",
              "    80% {\n",
              "      border-color: transparent;\n",
              "      border-right-color: var(--fill-color);\n",
              "      border-bottom-color: var(--fill-color);\n",
              "    }\n",
              "    90% {\n",
              "      border-color: transparent;\n",
              "      border-bottom-color: var(--fill-color);\n",
              "    }\n",
              "  }\n",
              "</style>\n",
              "\n",
              "  <script>\n",
              "    async function quickchart(key) {\n",
              "      const quickchartButtonEl =\n",
              "        document.querySelector('#' + key + ' button');\n",
              "      quickchartButtonEl.disabled = true;  // To prevent multiple clicks.\n",
              "      quickchartButtonEl.classList.add('colab-df-spinner');\n",
              "      try {\n",
              "        const charts = await google.colab.kernel.invokeFunction(\n",
              "            'suggestCharts', [key], {});\n",
              "      } catch (error) {\n",
              "        console.error('Error during call to suggestCharts:', error);\n",
              "      }\n",
              "      quickchartButtonEl.classList.remove('colab-df-spinner');\n",
              "      quickchartButtonEl.classList.add('colab-df-quickchart-complete');\n",
              "    }\n",
              "    (() => {\n",
              "      let quickchartButtonEl =\n",
              "        document.querySelector('#df-0063ddda-e1aa-42c6-a681-a1a26ff0a819 button');\n",
              "      quickchartButtonEl.style.display =\n",
              "        google.colab.kernel.accessAllowed ? 'block' : 'none';\n",
              "    })();\n",
              "  </script>\n",
              "</div>\n",
              "\n",
              "    </div>\n",
              "  </div>\n"
            ],
            "application/vnd.google.colaboratory.intrinsic+json": {
              "type": "dataframe",
              "variable_name": "data",
              "summary": "{\n  \"name\": \"data\",\n  \"rows\": 395,\n  \"fields\": [\n    {\n      \"column\": \"age\",\n      \"properties\": {\n        \"dtype\": \"number\",\n        \"std\": 1,\n        \"min\": 15,\n        \"max\": 22,\n        \"num_unique_values\": 8,\n        \"samples\": [\n          17,\n          22,\n          18\n        ],\n        \"semantic_type\": \"\",\n        \"description\": \"\"\n      }\n    },\n    {\n      \"column\": \"Medu\",\n      \"properties\": {\n        \"dtype\": \"number\",\n        \"std\": 1,\n        \"min\": 0,\n        \"max\": 4,\n        \"num_unique_values\": 5,\n        \"samples\": [\n          1,\n          0,\n          3\n        ],\n        \"semantic_type\": \"\",\n        \"description\": \"\"\n      }\n    },\n    {\n      \"column\": \"Fedu\",\n      \"properties\": {\n        \"dtype\": \"number\",\n        \"std\": 1,\n        \"min\": 0,\n        \"max\": 4,\n        \"num_unique_values\": 5,\n        \"samples\": [\n          1,\n          0,\n          2\n        ],\n        \"semantic_type\": \"\",\n        \"description\": \"\"\n      }\n    },\n    {\n      \"column\": \"school\",\n      \"properties\": {\n        \"dtype\": \"category\",\n        \"num_unique_values\": 2,\n        \"samples\": [\n          \"MS\",\n          \"GP\"\n        ],\n        \"semantic_type\": \"\",\n        \"description\": \"\"\n      }\n    },\n    {\n      \"column\": \"sex\",\n      \"properties\": {\n        \"dtype\": \"category\",\n        \"num_unique_values\": 2,\n        \"samples\": [\n          \"M\",\n          \"F\"\n        ],\n        \"semantic_type\": \"\",\n        \"description\": \"\"\n      }\n    },\n    {\n      \"column\": \"failures\",\n      \"properties\": {\n        \"dtype\": \"number\",\n        \"std\": 0,\n        \"min\": 0,\n        \"max\": 3,\n        \"num_unique_values\": 4,\n        \"samples\": [\n          3,\n          1\n        ],\n        \"semantic_type\": \"\",\n        \"description\": \"\"\n      }\n    },\n    {\n      \"column\": \"studytime\",\n      \"properties\": {\n        \"dtype\": \"number\",\n        \"std\": 0,\n        \"min\": 1,\n        \"max\": 4,\n        \"num_unique_values\": 4,\n        \"samples\": [\n          3,\n          4\n        ],\n        \"semantic_type\": \"\",\n        \"description\": \"\"\n      }\n    },\n    {\n      \"column\": \"goout\",\n      \"properties\": {\n        \"dtype\": \"number\",\n        \"std\": 1,\n        \"min\": 1,\n        \"max\": 5,\n        \"num_unique_values\": 5,\n        \"samples\": [\n          3,\n          5\n        ],\n        \"semantic_type\": \"\",\n        \"description\": \"\"\n      }\n    },\n    {\n      \"column\": \"Mjob\",\n      \"properties\": {\n        \"dtype\": \"category\",\n        \"num_unique_values\": 5,\n        \"samples\": [\n          \"health\",\n          \"teacher\"\n        ],\n        \"semantic_type\": \"\",\n        \"description\": \"\"\n      }\n    },\n    {\n      \"column\": \"Fjob\",\n      \"properties\": {\n        \"dtype\": \"category\",\n        \"num_unique_values\": 5,\n        \"samples\": [\n          \"other\",\n          \"at_home\"\n        ],\n        \"semantic_type\": \"\",\n        \"description\": \"\"\n      }\n    },\n    {\n      \"column\": \"G1\",\n      \"properties\": {\n        \"dtype\": \"number\",\n        \"std\": 3,\n        \"min\": 3,\n        \"max\": 19,\n        \"num_unique_values\": 17,\n        \"samples\": [\n          5,\n          7\n        ],\n        \"semantic_type\": \"\",\n        \"description\": \"\"\n      }\n    }\n  ]\n}"
            }
          },
          "metadata": {},
          "execution_count": 3
        }
      ],
      "source": [
        "import pandas as pd\n",
        "data = pd.read_csv(\"https://raw.githubusercontent.com/kbrennig/MODS_WS24_25/refs/heads/main/data/mathgrades.csv\")\n",
        "data.head()"
      ]
    },
    {
      "cell_type": "code",
      "execution_count": 4,
      "metadata": {
        "id": "w9kGg1aYJhAa",
        "outputId": "36921bb7-a2df-4a60-e029-df0dcdbb4001",
        "colab": {
          "base_uri": "https://localhost:8080/"
        }
      },
      "outputs": [
        {
          "output_type": "stream",
          "name": "stdout",
          "text": [
            "   age  Medu  Fedu school sex  failures  studytime  goout     Mjob      Fjob  \\\n",
            "0   18     4     4     GP   F         0          2      4  at_home   teacher   \n",
            "1   17     1     1     GP   F         0          2      3  at_home     other   \n",
            "2   15     1     1     GP   F         3          2      2  at_home     other   \n",
            "3   15     4     2     GP   F         0          3      2   health  services   \n",
            "4   16     3     3     GP   F         0          2      2    other     other   \n",
            "\n",
            "   G1  \n",
            "0   5  \n",
            "1   5  \n",
            "2   7  \n",
            "3  15  \n",
            "4   6  \n"
          ]
        }
      ],
      "source": [
        "# Creating subset of data\n",
        "data = data.iloc[:, 0:11]\n",
        "print(data.head())\n",
        "\n",
        "# Selecting data\n",
        "numerical_data = data.loc[:, [\"age\", \"Medu\", \"Fedu\", \"studytime\", \"failures\", \"goout\", \"G1\"]]\n"
      ]
    },
    {
      "cell_type": "markdown",
      "metadata": {
        "id": "b283i9oAJhAa"
      },
      "source": [
        "### Create training and test sets\n",
        "\n",
        "Create the usual train-test split (80:20).\n",
        "\n",
        "Run the code below."
      ]
    },
    {
      "cell_type": "code",
      "execution_count": 5,
      "metadata": {
        "id": "Q-Kw2Pj0JhAa"
      },
      "outputs": [],
      "source": [
        "from sklearn.model_selection import train_test_split\n",
        "data_training, data_test = train_test_split(data, test_size=0.2, random_state=42)"
      ]
    },
    {
      "cell_type": "markdown",
      "metadata": {
        "id": "g-GKF-LaJhAa"
      },
      "source": [
        "### Baseline Model\n",
        "\n",
        "Let us create a simple baseline for predicting the math grades by using just the variable studytime. Use the package `statsmodels.formula.api` and the function `summary()` to report the results. Validate the performance on the test set by using the RMSE.\n",
        "\n",
        "Fill in the code below."
      ]
    },
    {
      "cell_type": "code",
      "execution_count": 8,
      "metadata": {
        "id": "0JO_x_HsJhAa",
        "outputId": "6dd69788-1df5-4f61-d291-bee1e0b69620",
        "colab": {
          "base_uri": "https://localhost:8080/"
        }
      },
      "outputs": [
        {
          "output_type": "stream",
          "name": "stdout",
          "text": [
            "                            OLS Regression Results                            \n",
            "==============================================================================\n",
            "Dep. Variable:                     G1   R-squared:                       0.041\n",
            "Model:                            OLS   Adj. R-squared:                  0.038\n",
            "Method:                 Least Squares   F-statistic:                     13.49\n",
            "Date:                Mon, 18 Nov 2024   Prob (F-statistic):           0.000282\n",
            "Time:                        16:46:27   Log-Likelihood:                -810.45\n",
            "No. Observations:                 316   AIC:                             1625.\n",
            "Df Residuals:                     314   BIC:                             1632.\n",
            "Df Model:                           1                                         \n",
            "Covariance Type:            nonrobust                                         \n",
            "==============================================================================\n",
            "                 coef    std err          t      P>|t|      [0.025      0.975]\n",
            "------------------------------------------------------------------------------\n",
            "Intercept      9.3349      0.470     19.861      0.000       8.410      10.260\n",
            "studytime      0.7808      0.213      3.673      0.000       0.363       1.199\n",
            "==============================================================================\n",
            "Omnibus:                       14.479   Durbin-Watson:                   1.859\n",
            "Prob(Omnibus):                  0.001   Jarque-Bera (JB):                8.797\n",
            "Skew:                           0.253   Prob(JB):                       0.0123\n",
            "Kurtosis:                       2.358   Cond. No.                         6.91\n",
            "==============================================================================\n",
            "\n",
            "Notes:\n",
            "[1] Standard Errors assume that the covariance matrix of the errors is correctly specified.\n",
            "RMSE: 3.7474122151268556\n"
          ]
        }
      ],
      "source": [
        "from statsmodels.formula.api import ols\n",
        "\n",
        "baseline_model = ols(\"G1 ~ studytime\", data=data_training).fit()\n",
        "print(baseline_model.summary())\n",
        "\n",
        "predictions = baseline_model.predict(data_test)\n",
        "data_test[\"predictions\"] = predictions\n",
        "from sklearn.metrics import root_mean_squared_error\n",
        "rmse = root_mean_squared_error(data_test[\"G1\"], data_test[\"predictions\"])\n",
        "print(\"RMSE:\", rmse)"
      ]
    },
    {
      "cell_type": "markdown",
      "metadata": {
        "id": "DaxV3JovJhAa"
      },
      "source": [
        "### Simple Linear Regression Model\n",
        "\n",
        "In contrast to the baseline model, create a simple linear regression with the variable age for predicting the math grades. Use the package `statsmodels.formula.api` and the function `summary()` to report the results. Validate the performance on the test set by using the RMSE.\n",
        "\n",
        "Fill in the code below."
      ]
    },
    {
      "cell_type": "code",
      "execution_count": 10,
      "metadata": {
        "id": "91y-iQEMJhAa",
        "outputId": "d553c026-8979-466f-9bfe-d732b8cf4571",
        "colab": {
          "base_uri": "https://localhost:8080/"
        }
      },
      "outputs": [
        {
          "output_type": "stream",
          "name": "stdout",
          "text": [
            "                            OLS Regression Results                            \n",
            "==============================================================================\n",
            "Dep. Variable:                     G1   R-squared:                       0.001\n",
            "Model:                            OLS   Adj. R-squared:                 -0.002\n",
            "Method:                 Least Squares   F-statistic:                    0.2511\n",
            "Date:                Mon, 18 Nov 2024   Prob (F-statistic):              0.617\n",
            "Time:                        16:48:43   Log-Likelihood:                -816.97\n",
            "No. Observations:                 316   AIC:                             1638.\n",
            "Df Residuals:                     314   BIC:                             1645.\n",
            "Df Model:                           1                                         \n",
            "Covariance Type:            nonrobust                                         \n",
            "==============================================================================\n",
            "                 coef    std err          t      P>|t|      [0.025      0.975]\n",
            "------------------------------------------------------------------------------\n",
            "Intercept     12.1322      2.399      5.057      0.000       7.412      16.852\n",
            "age           -0.0716      0.143     -0.501      0.617      -0.353       0.209\n",
            "==============================================================================\n",
            "Omnibus:                       16.708   Durbin-Watson:                   1.909\n",
            "Prob(Omnibus):                  0.000   Jarque-Bera (JB):                9.488\n",
            "Skew:                           0.255   Prob(JB):                      0.00870\n",
            "Kurtosis:                       2.321   Cond. No.                         223.\n",
            "==============================================================================\n",
            "\n",
            "Notes:\n",
            "[1] Standard Errors assume that the covariance matrix of the errors is correctly specified.\n"
          ]
        }
      ],
      "source": [
        "from statsmodels.formula.api import ols\n",
        "\n",
        "simple_model = ols(\"G1 ~ age\", data=data_training).fit()\n",
        "print(simple_model.summary())"
      ]
    },
    {
      "cell_type": "markdown",
      "metadata": {
        "id": "FbcbxV0PJhAb"
      },
      "source": [
        "## Non-linear transformations\n",
        "\n",
        "Non-linear transformations are a very powerful method to increase our model/'s performance and fit to the data, since it is unrealistic to expect linear relations in most of real-world problems. This kind of transformations are done by using so called interaction terms and quadratic or logarithmic or exponential transformations of the data.\n",
        "\n",
        "Before we continue with the modeling let's take a closer look at the correlation of the features. What do you notice?"
      ]
    },
    {
      "cell_type": "code",
      "execution_count": null,
      "metadata": {
        "id": "5IKnxwifJhAb"
      },
      "outputs": [],
      "source": [
        "import seaborn as sns\n",
        "correlations = data[[\"age\", \"Medu\", \"Fedu\", \"studytime\", \"failures\", \"goout\", \"G1\"]].corr(method=\"pearson\")\n",
        "sns.heatmap(correlations, cmap=\"vlag\", vmin=-1, vmax=1, annot=True)"
      ]
    },
    {
      "cell_type": "markdown",
      "metadata": {
        "id": "I1sbngZiJhAb"
      },
      "source": [
        "The correlation plot might help you to solve the next exercises.\n",
        "\n",
        "### Extending the model I\n",
        "\n",
        "Extend the baseline model with the variable age and an interaction term with age and studytime. Report the regression results. Validate the performance on the test set by using the RMSE.\n",
        "\n",
        "Run the code below."
      ]
    },
    {
      "cell_type": "code",
      "execution_count": 20,
      "metadata": {
        "id": "6E-gF522JhAb",
        "outputId": "3664464b-a5b0-416f-f007-4422a5e917b5",
        "colab": {
          "base_uri": "https://localhost:8080/"
        }
      },
      "outputs": [
        {
          "output_type": "stream",
          "name": "stdout",
          "text": [
            "                            OLS Regression Results                            \n",
            "==============================================================================\n",
            "Dep. Variable:                     G1   R-squared:                       0.047\n",
            "Model:                            OLS   Adj. R-squared:                  0.041\n",
            "No. Observations:                 316   F-statistic:                     7.754\n",
            "Covariance Type:            nonrobust   Prob (F-statistic):           0.000517\n",
            "=================================================================================\n",
            "                    coef    std err          t      P>|t|      [0.025      0.975]\n",
            "---------------------------------------------------------------------------------\n",
            "Intercept        12.4005      2.347      5.283      0.000       7.782      17.019\n",
            "age              -0.1894      0.143     -1.325      0.186      -0.471       0.092\n",
            "age:studytime     0.0497      0.013      3.905      0.000       0.025       0.075\n",
            "=================================================================================\n",
            "\n",
            "Notes:\n",
            "[1] Standard Errors assume that the covariance matrix of the errors is correctly specified.\n",
            "RMSE: 3.7271621062456477\n"
          ]
        }
      ],
      "source": [
        "extended_model = ols(\"G1 ~ age + age:studytime\", data=data_training)\n",
        "extended_model = extended_model.fit()\n",
        "print(extended_model.summary(slim=True))\n",
        "\n",
        "predictions = extended_model.predict(data_test)\n",
        "data_test[\"predictions\"] = predictions\n",
        "from sklearn.metrics import root_mean_squared_error\n",
        "rmse = root_mean_squared_error(data_test[\"G1\"], data_test[\"predictions\"])\n",
        "print(\"RMSE:\", rmse)"
      ]
    },
    {
      "cell_type": "markdown",
      "metadata": {
        "id": "Mx7ICqYIJhAb"
      },
      "source": [
        "## Non-Linear Transformations II\n",
        "\n",
        "### Extending the model II\n",
        "\n",
        "Extend the baseline model with the variable age, an quadratic transformation of age, the variable goout, and an interaction effect between studytime and goout. Report the regression results. Validate the performance on the test set by using the RMSE."
      ]
    },
    {
      "cell_type": "code",
      "execution_count": 22,
      "metadata": {
        "id": "1dMITDInJhAb",
        "outputId": "cdc4a254-9ed5-4044-bf93-b1383556e8d9",
        "colab": {
          "base_uri": "https://localhost:8080/"
        }
      },
      "outputs": [
        {
          "output_type": "stream",
          "name": "stdout",
          "text": [
            "                            OLS Regression Results                            \n",
            "==============================================================================\n",
            "Dep. Variable:                     G1   R-squared:                       0.051\n",
            "Model:                            OLS   Adj. R-squared:                  0.041\n",
            "No. Observations:                 316   F-statistic:                     5.543\n",
            "Covariance Type:            nonrobust   Prob (F-statistic):            0.00102\n",
            "===================================================================================\n",
            "                      coef    std err          t      P>|t|      [0.025      0.975]\n",
            "-----------------------------------------------------------------------------------\n",
            "Intercept          13.0089      2.365      5.502      0.000       8.356      17.661\n",
            "age                -0.0642      0.140     -0.457      0.648      -0.341       0.212\n",
            "goout              -0.7488      0.194     -3.854      0.000      -1.131      -0.366\n",
            "studytime:goout     0.2144      0.067      3.219      0.001       0.083       0.346\n",
            "===================================================================================\n",
            "\n",
            "Notes:\n",
            "[1] Standard Errors assume that the covariance matrix of the errors is correctly specified.\n",
            "RMSE: 3.670965041120238\n"
          ]
        }
      ],
      "source": [
        "extended_model2 = ols(\"G1 ~ age + age**2 + goout + studytime:goout\", data=data_training)\n",
        "extended_model2 = extended_model2.fit()\n",
        "print(extended_model2.summary(slim=True))\n",
        "\n",
        "predictions = extended_model2.predict(data_test)\n",
        "data_test[\"predictions\"] = predictions\n",
        "from sklearn.metrics import root_mean_squared_error\n",
        "rmse = root_mean_squared_error(data_test[\"G1\"], data_test[\"predictions\"])\n",
        "print(\"RMSE:\", rmse)"
      ]
    },
    {
      "cell_type": "markdown",
      "metadata": {
        "id": "E0X3kRrCJhAb"
      },
      "source": [
        "## Summary\n",
        "\n",
        "You can use the summary section to try out other combinations of variables and data. The splitted data can be found in the variables data_training and data_test."
      ]
    },
    {
      "cell_type": "code",
      "execution_count": 17,
      "metadata": {
        "id": "Akj6R1nuJhAb"
      },
      "outputs": [],
      "source": [
        "predictions = extended_model.predict(data_test)\n",
        "data_test[\"predictions\"] = predictions\n",
        "from sklearn.metrics import root_mean_squared_error\n",
        "rmse = root_mean_squared_error(data_test[\"G1\"], data_test[\"predictions\"])"
      ]
    }
  ],
  "metadata": {
    "kernelspec": {
      "display_name": "Python 3",
      "language": "python",
      "name": "python3"
    },
    "language_info": {
      "codemirror_mode": {
        "name": "ipython",
        "version": 3
      },
      "file_extension": ".py",
      "mimetype": "text/x-python",
      "name": "python",
      "nbconvert_exporter": "python",
      "pygments_lexer": "ipython3",
      "version": "3.12.4"
    },
    "colab": {
      "provenance": []
    }
  },
  "nbformat": 4,
  "nbformat_minor": 0
}