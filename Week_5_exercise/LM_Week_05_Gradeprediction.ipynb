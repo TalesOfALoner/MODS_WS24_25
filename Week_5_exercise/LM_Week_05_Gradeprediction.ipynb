{
 "cells": [
  {
   "cell_type": "markdown",
   "metadata": {},
   "source": [
    "\n",
    "## Introduction\n",
    "\n",
    "In this week we will get a closer look to the possibilities of **linear regression** and methods to improve the performance of the model. We want to predict the Math-grade (G1) that a student at a Portuguese school will achieve under the existing observations.\n",
    "\n",
    "In this data set originally 33 different features were collected. We will only use a subset of the features to perform our analysis today.\n",
    "\n",
    "- **school** (GP - Gabriel Pereira, MS - Moisinho da Silveira)\n",
    "\n",
    "- **sex** (M (Male) or F (Female))\n",
    "\n",
    "- **age** (From 15 to 22)\n",
    "\n",
    "- **Medu** (Education of Mother,0 (none), 1 (4th grade), 2 (5th to 9th grade), 3 (secondary education), 4 (higher education))\n",
    "\n",
    "- **Fedu** (Education of Father,0 (none), 1 (4th grade), 2 (5th to 9th grade), 3 (secondary education), 4 (higher education))\n",
    "\n",
    "- **Mjob** (Job of Mother, 5 different values: teacher, health, services, at_home, other)\n",
    "\n",
    "- **Fjob** (Job of Father, 5 different values: teacher, health, services, at_home, other)\n",
    "\n",
    "- **reason** (reason chosen this school, home, reputation, course or other)\n",
    "\n",
    "- **studytime** (weekly studytime, 1 - 10 hours)\n",
    "\n",
    "- **failures** (number of past class failures, 0 to 4)\n",
    "\n",
    "- **goout** (go out with friends, 1 (very low) to 5 (very high)\n",
    "\n",
    "- **G1** (first period grade, from 0 to 20)\n",
    "\n",
    "<p><a href=\"http://www3.dsi.uminho.pt/pcortez\"><strong>Source: Paulo Cortez, University of Minho, Guimaraes, Portugal</strong></a></p>\n",
    "\n",
    "<https://www.kaggle.com/dipam7/student-grade-prediction?select=student-mat.csv>\n",
    "\n",
    "## Data Preperation\n",
    "\n",
    "### Numerical and categorical data"
   ]
  },
  {
   "cell_type": "code",
   "execution_count": null,
   "metadata": {},
   "outputs": [],
   "source": [
    "# Imports\n",
    "import numpy as np\n",
    "import random\n",
    "\n",
    "from sklearn.metrics import root_mean_squared_error\n",
    "from statsmodels.formula.api import ols\n",
    "\n",
    "# Seed\n",
    "np.random.seed(42)  # Set seed for NumPy\n",
    "random.seed(42) # Set seed for random module"
   ]
  },
  {
   "cell_type": "markdown",
   "metadata": {},
   "source": [
    "In the cell below, we load the data and select a subset of it. Additionally we select the numerical parameters of the dataframe.\n",
    "\n",
    "`iloc[:, 0:11]` is used to select data by the position. The first part before the comma selects the specified rows and the second part after it selects the columns. Here we want to select all rows so we can just use the colon. For the columns we want to select the first 11 columns starting by 0 and stopping after 10 which is done by 0:11.\n",
    "\n",
    "`loc[: , [\"column_name1\", \"column_name2\"]]` works similar to `iloc` but uses names to select rows and columns. \n",
    "\n",
    "Run the code below."
   ]
  },
  {
   "cell_type": "code",
   "execution_count": null,
   "metadata": {},
   "outputs": [],
   "source": [
    "import pandas as pd\n",
    "data = pd.read_csv(\"https://raw.githubusercontent.com/kbrennig/MODS_WS24_25/refs/heads/main/data/mathgrades.csv\")\n",
    "data.head()"
   ]
  },
  {
   "cell_type": "code",
   "execution_count": null,
   "metadata": {},
   "outputs": [],
   "source": [
    "# Creating subset of data\n",
    "data = data.iloc[:, 0:11]\n",
    "print(data.head())\n",
    "\n",
    "# Selecting data\n",
    "numerical_data = data.loc[:, [\"age\", \"Medu\", \"Fedu\", \"studytime\", \"failures\", \"goout\", \"G1\"]]\n"
   ]
  },
  {
   "cell_type": "markdown",
   "metadata": {},
   "source": [
    "### Create training and test sets\n",
    "\n",
    "Create the usual train-test split (80:20).\n",
    "\n",
    "Run the code below."
   ]
  },
  {
   "cell_type": "code",
   "execution_count": null,
   "metadata": {},
   "outputs": [],
   "source": [
    "from sklearn.model_selection import train_test_split\n",
    "data_training, data_test = train_test_split(data, test_size=0.2, random_state=42)"
   ]
  },
  {
   "cell_type": "markdown",
   "metadata": {},
   "source": [
    "### Baseline Model\n",
    "\n",
    "Let us create a simple baseline for predicting the math grades by using just the variable studytime. Use the package `statsmodels.formula.api` and the function `summary()` to report the results. Validate the performance on the test set by using the RMSE.\n",
    "\n",
    "Fill in the code below."
   ]
  },
  {
   "cell_type": "code",
   "execution_count": null,
   "metadata": {},
   "outputs": [],
   "source": [
    "# Enter your code here"
   ]
  },
  {
   "cell_type": "markdown",
   "metadata": {},
   "source": [
    "### Simple Linear Regression Model\n",
    "\n",
    "In contrast to the baseline model, create a simple linear regression with the variable age for predicting the math grades. Use the package `statsmodels.formula.api` and the function `summary()` to report the results. Validate the performance on the test set by using the RMSE.\n",
    "\n",
    "Fill in the code below."
   ]
  },
  {
   "cell_type": "code",
   "execution_count": null,
   "metadata": {},
   "outputs": [],
   "source": [
    "# Enter your code here"
   ]
  },
  {
   "cell_type": "markdown",
   "metadata": {},
   "source": [
    "## Non-linear transformations\n",
    "\n",
    "Non-linear transformations are a very powerful method to increase our model/'s performance and fit to the data, since it is unrealistic to expect linear relations in most of real-world problems. This kind of transformations are done by using so called interaction terms and quadratic or logarithmic or exponential transformations of the data.\n",
    "\n",
    "Before we continue with the modeling let's take a closer look at the correlation of the features. What do you notice?"
   ]
  },
  {
   "cell_type": "code",
   "execution_count": null,
   "metadata": {},
   "outputs": [],
   "source": [
    "import seaborn as sns\n",
    "correlations = data[[\"age\", \"Medu\", \"Fedu\", \"studytime\", \"failures\", \"goout\", \"G1\"]].corr(method=\"pearson\")\n",
    "sns.heatmap(correlations, cmap=\"vlag\", vmin=-1, vmax=1, annot=True)"
   ]
  },
  {
   "cell_type": "markdown",
   "metadata": {},
   "source": [
    "The correlation plot might help you to solve the next exercises.\n",
    "\n",
    "### Extending the model I\n",
    "\n",
    "Extend the baseline model with the variable age and an interaction term with age and studytime. Report the regression results. Validate the performance on the test set by using the RMSE.\n",
    "\n",
    "Run the code below."
   ]
  },
  {
   "cell_type": "code",
   "execution_count": null,
   "metadata": {},
   "outputs": [],
   "source": [
    "# Enter your code here!"
   ]
  },
  {
   "cell_type": "markdown",
   "metadata": {},
   "source": [
    "## Non-Linear Transformations II\n",
    "\n",
    "### Extending the model II\n",
    "\n",
    "Extend the baseline model with the variable age, an quadratic transformation of age, the variable goout, and an interaction effect between studytime and goout. Report the regression results. Validate the performance on the test set by using the RMSE."
   ]
  },
  {
   "cell_type": "code",
   "execution_count": null,
   "metadata": {},
   "outputs": [],
   "source": [
    "# Enter your code here!"
   ]
  },
  {
   "cell_type": "markdown",
   "metadata": {},
   "source": [
    "## Summary\n",
    "\n",
    "You can use the summary section to try out other combinations of variables and data. The splitted data can be found in the variables data_training and data_test."
   ]
  },
  {
   "cell_type": "code",
   "execution_count": null,
   "metadata": {},
   "outputs": [],
   "source": [
    "# Enter your code here!"
   ]
  }
 ],
 "metadata": {
  "kernelspec": {
   "display_name": "Python 3",
   "language": "python",
   "name": "python3"
  },
  "language_info": {
   "codemirror_mode": {
    "name": "ipython",
    "version": 3
   },
   "file_extension": ".py",
   "mimetype": "text/x-python",
   "name": "python",
   "nbconvert_exporter": "python",
   "pygments_lexer": "ipython3",
   "version": "3.12.4"
  }
 },
 "nbformat": 4,
 "nbformat_minor": 2
}
