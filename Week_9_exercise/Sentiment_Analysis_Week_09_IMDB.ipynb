{
  "cells": [
    {
      "cell_type": "code",
      "execution_count": 2,
      "metadata": {
        "id": "V-Ltum5ATzP4"
      },
      "outputs": [],
      "source": [
        "import numpy as np\n",
        "import random\n",
        "# Set seed for reproducibility\n",
        "np.random.seed(42)  # Set seed for NumPy\n",
        "random.seed(42) # Set seed for random module"
      ]
    },
    {
      "cell_type": "markdown",
      "metadata": {
        "id": "rWvxWzdt3yr8"
      },
      "source": [
        "## Introduction\n",
        "\n",
        "So far we have only worked with what we call \"structured\" data, meaning the information was always stored in a tabular form where each instance (row) contained the same properties (columns). However, estimates suggest that about 80% of today's data is unstructured.\n",
        "\n",
        "Unlike structured data, which is tidy and mostly numeric in content, unstructured data is mainly textual or visual and, therefore, messy. The task of extracting knowledge from text documents, known as text analysis or natural language understanding, is highly complex and still limited by the ability of computers to understand the subtleties of human languages.\n",
        "\n",
        "One popular task in natural language processing (NLP) is `Sentiment Analysis`, which tries to extract the sentiment (e.g., positive, negative, etc.) of a given text (e.g., tweet).\n",
        "\n",
        "In this weeks tutorial we will start working with textual data, go through the necessary `Preprocessing` steps for the computer to be able to understand the information and lastly apply `dictionary-based Sentiment Analysis` to the texts in order to extract their sentiment."
      ]
    },
    {
      "cell_type": "markdown",
      "metadata": {
        "id": "9D2Lcyxm3yr9"
      },
      "source": [
        "## Data\n",
        "\n",
        "The dataset we will use contains movie reviews from IMDB. Initially the data is stored as a dataframe with three columns (id, sentiment_human, text)."
      ]
    },
    {
      "cell_type": "markdown",
      "metadata": {
        "id": "ZjRXt9kW3yr-"
      },
      "source": [
        "\n",
        "Run the code below."
      ]
    },
    {
      "cell_type": "code",
      "execution_count": 3,
      "metadata": {
        "id": "gkZIDbVJ3yr-"
      },
      "outputs": [],
      "source": [
        "import pandas as pd\n",
        "#Loading the data from a csv file\n",
        "reviews = pd.read_csv(\"https://raw.githubusercontent.com/kbrennig/MODS_WS24_25/refs/heads/main/data/imdb_sample.csv\")"
      ]
    },
    {
      "cell_type": "markdown",
      "metadata": {
        "id": "zEw4DSv13yr_"
      },
      "source": [
        "### Display Document\n",
        "\n",
        "First of all, let's have a look at the raw data. The raw data contains an ID, a human sentiment (positive or negative), and the corresponding review text.\n",
        "\n",
        "Run the code below to get first insights on the reviews."
      ]
    },
    {
      "cell_type": "code",
      "execution_count": 4,
      "metadata": {
        "colab": {
          "base_uri": "https://localhost:8080/",
          "height": 206
        },
        "id": "ExVrJRPr3yr_",
        "outputId": "9f49206b-0671-4fb8-f39f-53fd82501d31"
      },
      "outputs": [
        {
          "output_type": "execute_result",
          "data": {
            "text/plain": [
              "       id sentiment_human                                               text\n",
              "0  5814_8        positive  With all this stuff going down at the moment w...\n",
              "1  2381_9        positive  \\\"The Classic War of the Worlds\\\" by Timothy H...\n",
              "2  7759_3        negative  The film starts with a manager (Nicholas Bell)...\n",
              "3  3630_4        negative  It must be assumed that those who praised this...\n",
              "4  9495_8        positive  Superbly trashy and wondrously unpretentious 8..."
            ],
            "text/html": [
              "\n",
              "  <div id=\"df-89e0c9bf-9ff2-41c8-8e02-579b1916fd6c\" class=\"colab-df-container\">\n",
              "    <div>\n",
              "<style scoped>\n",
              "    .dataframe tbody tr th:only-of-type {\n",
              "        vertical-align: middle;\n",
              "    }\n",
              "\n",
              "    .dataframe tbody tr th {\n",
              "        vertical-align: top;\n",
              "    }\n",
              "\n",
              "    .dataframe thead th {\n",
              "        text-align: right;\n",
              "    }\n",
              "</style>\n",
              "<table border=\"1\" class=\"dataframe\">\n",
              "  <thead>\n",
              "    <tr style=\"text-align: right;\">\n",
              "      <th></th>\n",
              "      <th>id</th>\n",
              "      <th>sentiment_human</th>\n",
              "      <th>text</th>\n",
              "    </tr>\n",
              "  </thead>\n",
              "  <tbody>\n",
              "    <tr>\n",
              "      <th>0</th>\n",
              "      <td>5814_8</td>\n",
              "      <td>positive</td>\n",
              "      <td>With all this stuff going down at the moment w...</td>\n",
              "    </tr>\n",
              "    <tr>\n",
              "      <th>1</th>\n",
              "      <td>2381_9</td>\n",
              "      <td>positive</td>\n",
              "      <td>\\\"The Classic War of the Worlds\\\" by Timothy H...</td>\n",
              "    </tr>\n",
              "    <tr>\n",
              "      <th>2</th>\n",
              "      <td>7759_3</td>\n",
              "      <td>negative</td>\n",
              "      <td>The film starts with a manager (Nicholas Bell)...</td>\n",
              "    </tr>\n",
              "    <tr>\n",
              "      <th>3</th>\n",
              "      <td>3630_4</td>\n",
              "      <td>negative</td>\n",
              "      <td>It must be assumed that those who praised this...</td>\n",
              "    </tr>\n",
              "    <tr>\n",
              "      <th>4</th>\n",
              "      <td>9495_8</td>\n",
              "      <td>positive</td>\n",
              "      <td>Superbly trashy and wondrously unpretentious 8...</td>\n",
              "    </tr>\n",
              "  </tbody>\n",
              "</table>\n",
              "</div>\n",
              "    <div class=\"colab-df-buttons\">\n",
              "\n",
              "  <div class=\"colab-df-container\">\n",
              "    <button class=\"colab-df-convert\" onclick=\"convertToInteractive('df-89e0c9bf-9ff2-41c8-8e02-579b1916fd6c')\"\n",
              "            title=\"Convert this dataframe to an interactive table.\"\n",
              "            style=\"display:none;\">\n",
              "\n",
              "  <svg xmlns=\"http://www.w3.org/2000/svg\" height=\"24px\" viewBox=\"0 -960 960 960\">\n",
              "    <path d=\"M120-120v-720h720v720H120Zm60-500h600v-160H180v160Zm220 220h160v-160H400v160Zm0 220h160v-160H400v160ZM180-400h160v-160H180v160Zm440 0h160v-160H620v160ZM180-180h160v-160H180v160Zm440 0h160v-160H620v160Z\"/>\n",
              "  </svg>\n",
              "    </button>\n",
              "\n",
              "  <style>\n",
              "    .colab-df-container {\n",
              "      display:flex;\n",
              "      gap: 12px;\n",
              "    }\n",
              "\n",
              "    .colab-df-convert {\n",
              "      background-color: #E8F0FE;\n",
              "      border: none;\n",
              "      border-radius: 50%;\n",
              "      cursor: pointer;\n",
              "      display: none;\n",
              "      fill: #1967D2;\n",
              "      height: 32px;\n",
              "      padding: 0 0 0 0;\n",
              "      width: 32px;\n",
              "    }\n",
              "\n",
              "    .colab-df-convert:hover {\n",
              "      background-color: #E2EBFA;\n",
              "      box-shadow: 0px 1px 2px rgba(60, 64, 67, 0.3), 0px 1px 3px 1px rgba(60, 64, 67, 0.15);\n",
              "      fill: #174EA6;\n",
              "    }\n",
              "\n",
              "    .colab-df-buttons div {\n",
              "      margin-bottom: 4px;\n",
              "    }\n",
              "\n",
              "    [theme=dark] .colab-df-convert {\n",
              "      background-color: #3B4455;\n",
              "      fill: #D2E3FC;\n",
              "    }\n",
              "\n",
              "    [theme=dark] .colab-df-convert:hover {\n",
              "      background-color: #434B5C;\n",
              "      box-shadow: 0px 1px 3px 1px rgba(0, 0, 0, 0.15);\n",
              "      filter: drop-shadow(0px 1px 2px rgba(0, 0, 0, 0.3));\n",
              "      fill: #FFFFFF;\n",
              "    }\n",
              "  </style>\n",
              "\n",
              "    <script>\n",
              "      const buttonEl =\n",
              "        document.querySelector('#df-89e0c9bf-9ff2-41c8-8e02-579b1916fd6c button.colab-df-convert');\n",
              "      buttonEl.style.display =\n",
              "        google.colab.kernel.accessAllowed ? 'block' : 'none';\n",
              "\n",
              "      async function convertToInteractive(key) {\n",
              "        const element = document.querySelector('#df-89e0c9bf-9ff2-41c8-8e02-579b1916fd6c');\n",
              "        const dataTable =\n",
              "          await google.colab.kernel.invokeFunction('convertToInteractive',\n",
              "                                                    [key], {});\n",
              "        if (!dataTable) return;\n",
              "\n",
              "        const docLinkHtml = 'Like what you see? Visit the ' +\n",
              "          '<a target=\"_blank\" href=https://colab.research.google.com/notebooks/data_table.ipynb>data table notebook</a>'\n",
              "          + ' to learn more about interactive tables.';\n",
              "        element.innerHTML = '';\n",
              "        dataTable['output_type'] = 'display_data';\n",
              "        await google.colab.output.renderOutput(dataTable, element);\n",
              "        const docLink = document.createElement('div');\n",
              "        docLink.innerHTML = docLinkHtml;\n",
              "        element.appendChild(docLink);\n",
              "      }\n",
              "    </script>\n",
              "  </div>\n",
              "\n",
              "\n",
              "<div id=\"df-ea50bf13-1133-4345-bc25-441c3cbb217b\">\n",
              "  <button class=\"colab-df-quickchart\" onclick=\"quickchart('df-ea50bf13-1133-4345-bc25-441c3cbb217b')\"\n",
              "            title=\"Suggest charts\"\n",
              "            style=\"display:none;\">\n",
              "\n",
              "<svg xmlns=\"http://www.w3.org/2000/svg\" height=\"24px\"viewBox=\"0 0 24 24\"\n",
              "     width=\"24px\">\n",
              "    <g>\n",
              "        <path d=\"M19 3H5c-1.1 0-2 .9-2 2v14c0 1.1.9 2 2 2h14c1.1 0 2-.9 2-2V5c0-1.1-.9-2-2-2zM9 17H7v-7h2v7zm4 0h-2V7h2v10zm4 0h-2v-4h2v4z\"/>\n",
              "    </g>\n",
              "</svg>\n",
              "  </button>\n",
              "\n",
              "<style>\n",
              "  .colab-df-quickchart {\n",
              "      --bg-color: #E8F0FE;\n",
              "      --fill-color: #1967D2;\n",
              "      --hover-bg-color: #E2EBFA;\n",
              "      --hover-fill-color: #174EA6;\n",
              "      --disabled-fill-color: #AAA;\n",
              "      --disabled-bg-color: #DDD;\n",
              "  }\n",
              "\n",
              "  [theme=dark] .colab-df-quickchart {\n",
              "      --bg-color: #3B4455;\n",
              "      --fill-color: #D2E3FC;\n",
              "      --hover-bg-color: #434B5C;\n",
              "      --hover-fill-color: #FFFFFF;\n",
              "      --disabled-bg-color: #3B4455;\n",
              "      --disabled-fill-color: #666;\n",
              "  }\n",
              "\n",
              "  .colab-df-quickchart {\n",
              "    background-color: var(--bg-color);\n",
              "    border: none;\n",
              "    border-radius: 50%;\n",
              "    cursor: pointer;\n",
              "    display: none;\n",
              "    fill: var(--fill-color);\n",
              "    height: 32px;\n",
              "    padding: 0;\n",
              "    width: 32px;\n",
              "  }\n",
              "\n",
              "  .colab-df-quickchart:hover {\n",
              "    background-color: var(--hover-bg-color);\n",
              "    box-shadow: 0 1px 2px rgba(60, 64, 67, 0.3), 0 1px 3px 1px rgba(60, 64, 67, 0.15);\n",
              "    fill: var(--button-hover-fill-color);\n",
              "  }\n",
              "\n",
              "  .colab-df-quickchart-complete:disabled,\n",
              "  .colab-df-quickchart-complete:disabled:hover {\n",
              "    background-color: var(--disabled-bg-color);\n",
              "    fill: var(--disabled-fill-color);\n",
              "    box-shadow: none;\n",
              "  }\n",
              "\n",
              "  .colab-df-spinner {\n",
              "    border: 2px solid var(--fill-color);\n",
              "    border-color: transparent;\n",
              "    border-bottom-color: var(--fill-color);\n",
              "    animation:\n",
              "      spin 1s steps(1) infinite;\n",
              "  }\n",
              "\n",
              "  @keyframes spin {\n",
              "    0% {\n",
              "      border-color: transparent;\n",
              "      border-bottom-color: var(--fill-color);\n",
              "      border-left-color: var(--fill-color);\n",
              "    }\n",
              "    20% {\n",
              "      border-color: transparent;\n",
              "      border-left-color: var(--fill-color);\n",
              "      border-top-color: var(--fill-color);\n",
              "    }\n",
              "    30% {\n",
              "      border-color: transparent;\n",
              "      border-left-color: var(--fill-color);\n",
              "      border-top-color: var(--fill-color);\n",
              "      border-right-color: var(--fill-color);\n",
              "    }\n",
              "    40% {\n",
              "      border-color: transparent;\n",
              "      border-right-color: var(--fill-color);\n",
              "      border-top-color: var(--fill-color);\n",
              "    }\n",
              "    60% {\n",
              "      border-color: transparent;\n",
              "      border-right-color: var(--fill-color);\n",
              "    }\n",
              "    80% {\n",
              "      border-color: transparent;\n",
              "      border-right-color: var(--fill-color);\n",
              "      border-bottom-color: var(--fill-color);\n",
              "    }\n",
              "    90% {\n",
              "      border-color: transparent;\n",
              "      border-bottom-color: var(--fill-color);\n",
              "    }\n",
              "  }\n",
              "</style>\n",
              "\n",
              "  <script>\n",
              "    async function quickchart(key) {\n",
              "      const quickchartButtonEl =\n",
              "        document.querySelector('#' + key + ' button');\n",
              "      quickchartButtonEl.disabled = true;  // To prevent multiple clicks.\n",
              "      quickchartButtonEl.classList.add('colab-df-spinner');\n",
              "      try {\n",
              "        const charts = await google.colab.kernel.invokeFunction(\n",
              "            'suggestCharts', [key], {});\n",
              "      } catch (error) {\n",
              "        console.error('Error during call to suggestCharts:', error);\n",
              "      }\n",
              "      quickchartButtonEl.classList.remove('colab-df-spinner');\n",
              "      quickchartButtonEl.classList.add('colab-df-quickchart-complete');\n",
              "    }\n",
              "    (() => {\n",
              "      let quickchartButtonEl =\n",
              "        document.querySelector('#df-ea50bf13-1133-4345-bc25-441c3cbb217b button');\n",
              "      quickchartButtonEl.style.display =\n",
              "        google.colab.kernel.accessAllowed ? 'block' : 'none';\n",
              "    })();\n",
              "  </script>\n",
              "</div>\n",
              "\n",
              "    </div>\n",
              "  </div>\n"
            ],
            "application/vnd.google.colaboratory.intrinsic+json": {
              "type": "dataframe",
              "variable_name": "reviews",
              "summary": "{\n  \"name\": \"reviews\",\n  \"rows\": 5000,\n  \"fields\": [\n    {\n      \"column\": \"id\",\n      \"properties\": {\n        \"dtype\": \"string\",\n        \"num_unique_values\": 5000,\n        \"samples\": [\n          \"9516_8\",\n          \"10137_1\",\n          \"5794_2\"\n        ],\n        \"semantic_type\": \"\",\n        \"description\": \"\"\n      }\n    },\n    {\n      \"column\": \"sentiment_human\",\n      \"properties\": {\n        \"dtype\": \"category\",\n        \"num_unique_values\": 2,\n        \"samples\": [\n          \"negative\",\n          \"positive\"\n        ],\n        \"semantic_type\": \"\",\n        \"description\": \"\"\n      }\n    },\n    {\n      \"column\": \"text\",\n      \"properties\": {\n        \"dtype\": \"string\",\n        \"num_unique_values\": 4996,\n        \"samples\": [\n          \"And I'm serious! Truly one of the most fantastic films I have ever had the pleasure of watching. What's so wonderful is that very rarely does a good book turn into a movie that is not only good, but if possible better than the novel it was based on. Perhaps in the case of Lord of the Rings and Trainspotting, but it is a rare occurrence indeed. But I think that the fact that Louis Sachar was involved from the beginning helped masses, so that the film sticks close to the story but takes it even further. This film has many elements that make it what it is:<br /><br />1. A unique, original story with a good mix of fun and humour, but a mature edge. 2. Brilliant actors. Adults and kids alike, these actors know how to bring the story to life and deliver their lines with enthusiasm and style without going overboard, as sometimes happen with kids movies. 3. Breathtaking scenery. And it doesn't matter if it's real or CGI, the setting in itself is a masterpiece. I especially love the image of the holes from a birds eye view. 4. A talented director who breathes life into the book and turns it into technicolour genius. The transitions in time work well and capture the steady climax from the book, leading up to the twists throughout the film. 5. Louis Sachar! The guy who had me reading a book nonstop from start to finish so that I couldn't put it down. He makes sure that the script sticks to the book, with new bits added in to make it even better. 6. And speaking of the script! The one-liners in this are smart, funny and unpatronising. But there are also parts to make you smile, make you cry, and tug at your heartstrings to make you love this story all the more. 7. Beautiful soundtrack. There's not a song in this film that I haven't fallen for, and that's something considering I'm supposed to be a punk-rocker. The songs link to the story well and add extra jazz to the overall style of the film. If you're going to buy the film, I recommend you buy the soundtrack too, especially for \\\\\\\"If Only\\\\\\\", which centres around the story and contains the chorus from the book.<br /><br />I do not work for the people who made Holes, by the way, I'm just a fan, plugging my favourite film and giving it the review it deserves. If you haven't seen it, do it. Now. This very instant. Go!\",\n          \"The movie is great and I like the story. I prefer this movie than other movie such The cell ( sick movie ) and Highlander ( silly movie ). I just tell the truth, I like a reality hehe and also a true story :)<br /><br />\"\n        ],\n        \"semantic_type\": \"\",\n        \"description\": \"\"\n      }\n    }\n  ]\n}"
            }
          },
          "metadata": {},
          "execution_count": 4
        }
      ],
      "source": [
        "reviews.head()"
      ]
    },
    {
      "cell_type": "markdown",
      "metadata": {
        "id": "7iNVEVqk3ysA"
      },
      "source": [
        "## Preprocessing\n",
        "Since unstructured data doesn't have an inherent and consistent structure we have to perform some preprocessing steps in order to make the data usable for the computer.\n",
        "One thing to keep in mind is that the more preprocessing we perform the more information we lose, but the basic methods we are using here require it."
      ]
    },
    {
      "cell_type": "markdown",
      "metadata": {
        "id": "v1ZKKhND3ysA"
      },
      "source": [
        "### Tokenize documents\n",
        "First, we tokenize the texts. This means we transform the texts from one long string to a list of tokens. Additionally we also start removing unwanted characters (e.g punctuation between sentences, numbers, etc.).\n",
        "For a full list and explanation of the used parameters you can have a look at the documentation.\n",
        "\n",
        "### Stem all words\n",
        "After tokenizing the texts we perform stemming (alternatively lemmatization could be performed). Stemming reduces every word to its stem.\n",
        "The stemmer we use here is the Porter Stemmer.\n",
        "\n",
        "### Remove stopwords\n",
        "Finally we remove words that don't contain real meaning and are commonly used (e.g. 'this', 'the', 'a', etc.).\n",
        "\n",
        "Run the code below.\n",
        "\n"
      ]
    },
    {
      "cell_type": "code",
      "execution_count": 5,
      "metadata": {
        "colab": {
          "base_uri": "https://localhost:8080/"
        },
        "id": "H57M6Gr93ysA",
        "outputId": "65111a00-bee5-438a-ac08-4e0964ecf63b"
      },
      "outputs": [
        {
          "output_type": "stream",
          "name": "stderr",
          "text": [
            "[nltk_data] Downloading package punkt to /root/nltk_data...\n",
            "[nltk_data]   Package punkt is already up-to-date!\n",
            "[nltk_data] Downloading package stopwords to /root/nltk_data...\n",
            "[nltk_data]   Package stopwords is already up-to-date!\n",
            "[nltk_data] Downloading package punkt_tab to /root/nltk_data...\n",
            "[nltk_data]   Unzipping tokenizers/punkt_tab.zip.\n"
          ]
        }
      ],
      "source": [
        "# Preprocessing\n",
        "import nltk\n",
        "import string\n",
        "\n",
        "# Download the necessary nltk resource\n",
        "nltk.download('punkt')\n",
        "nltk.download('stopwords')\n",
        "nltk.download('punkt_tab')\n",
        "\n",
        "\n",
        "#Define function with all necessary preprocessing steps for our IMDB reviews.\n",
        "def preprocess(text):\n",
        "    # tokenize the text\n",
        "    tokens = nltk.word_tokenize(text)\n",
        "\n",
        "    # create stemmer object\n",
        "    stemmer = nltk.stem.PorterStemmer()\n",
        "\n",
        "    # stem each token\n",
        "    stemmed_tokens = [stemmer.stem(token) for token in tokens]\n",
        "\n",
        "    # get list of stopwords in English\n",
        "    stopwords = nltk.corpus.stopwords.words(\"english\")\n",
        "\n",
        "    # remove stopwords\n",
        "    filtered_tokens = [token for token in stemmed_tokens if token.lower() not in stopwords]\n",
        "\n",
        "    # remove punctuation\n",
        "    filtered_tokens_nopunct = [token for token in filtered_tokens if token not in string.punctuation]\n",
        "\n",
        "    return filtered_tokens_nopunct"
      ]
    },
    {
      "cell_type": "markdown",
      "metadata": {
        "id": "-PDDeqId3ysB"
      },
      "source": [
        "## Apply preprocessing\n",
        "\n",
        "After defining the different preprocessing steps, we now apply these preprocessing steps to our IMDB reviews. Running the code below we apply the preprocess function to the \"text\" column of our data and save the new preprocessed reviews as a new column in our dataset."
      ]
    },
    {
      "cell_type": "code",
      "execution_count": 7,
      "metadata": {
        "colab": {
          "base_uri": "https://localhost:8080/",
          "height": 210
        },
        "id": "-Jyd4YuU3ysB",
        "outputId": "20df0e7e-4914-43ca-d678-2ca08d981cdc"
      },
      "outputs": [
        {
          "output_type": "execute_result",
          "data": {
            "text/plain": [
              "id                                                            5814_8\n",
              "sentiment_human                                             positive\n",
              "text               With all this stuff going down at the moment w...\n",
              "tokens             [thi, stuff, go, moment, mj, 've, start, liste...\n",
              "Name: 0, dtype: object"
            ],
            "text/html": [
              "<div>\n",
              "<style scoped>\n",
              "    .dataframe tbody tr th:only-of-type {\n",
              "        vertical-align: middle;\n",
              "    }\n",
              "\n",
              "    .dataframe tbody tr th {\n",
              "        vertical-align: top;\n",
              "    }\n",
              "\n",
              "    .dataframe thead th {\n",
              "        text-align: right;\n",
              "    }\n",
              "</style>\n",
              "<table border=\"1\" class=\"dataframe\">\n",
              "  <thead>\n",
              "    <tr style=\"text-align: right;\">\n",
              "      <th></th>\n",
              "      <th>0</th>\n",
              "    </tr>\n",
              "  </thead>\n",
              "  <tbody>\n",
              "    <tr>\n",
              "      <th>id</th>\n",
              "      <td>5814_8</td>\n",
              "    </tr>\n",
              "    <tr>\n",
              "      <th>sentiment_human</th>\n",
              "      <td>positive</td>\n",
              "    </tr>\n",
              "    <tr>\n",
              "      <th>text</th>\n",
              "      <td>With all this stuff going down at the moment w...</td>\n",
              "    </tr>\n",
              "    <tr>\n",
              "      <th>tokens</th>\n",
              "      <td>[thi, stuff, go, moment, mj, 've, start, liste...</td>\n",
              "    </tr>\n",
              "  </tbody>\n",
              "</table>\n",
              "</div><br><label><b>dtype:</b> object</label>"
            ]
          },
          "metadata": {},
          "execution_count": 7
        }
      ],
      "source": [
        "reviews['tokens'] = reviews['text'].apply(preprocess)\n",
        "\n",
        "#show tokens for the first review in our dataset to get some insights\n",
        "reviews.iloc[0]"
      ]
    },
    {
      "cell_type": "code",
      "execution_count": 8,
      "metadata": {
        "colab": {
          "base_uri": "https://localhost:8080/",
          "height": 206
        },
        "id": "KMHFLbcimo77",
        "outputId": "1b684931-0161-40df-fc39-4d855b2710d4"
      },
      "outputs": [
        {
          "output_type": "execute_result",
          "data": {
            "text/plain": [
              "       id sentiment_human                                               text  \\\n",
              "0  5814_8        positive  With all this stuff going down at the moment w...   \n",
              "1  2381_9        positive  \\\"The Classic War of the Worlds\\\" by Timothy H...   \n",
              "2  7759_3        negative  The film starts with a manager (Nicholas Bell)...   \n",
              "3  3630_4        negative  It must be assumed that those who praised this...   \n",
              "4  9495_8        positive  Superbly trashy and wondrously unpretentious 8...   \n",
              "\n",
              "                                              tokens  \n",
              "0  [thi, stuff, go, moment, mj, 've, start, liste...  \n",
              "1  ['', classic, war, worlds\\, '', timothi, hine,...  \n",
              "2  [film, start, manag, nichola, bell, give, welc...  \n",
              "3  [must, assum, prais, thi, film, '', greatest, ...  \n",
              "4  [superbl, trashi, wondrous, unpretenti, 80, 's...  "
            ],
            "text/html": [
              "\n",
              "  <div id=\"df-8803279a-6333-4670-a1d4-83b76d911ea9\" class=\"colab-df-container\">\n",
              "    <div>\n",
              "<style scoped>\n",
              "    .dataframe tbody tr th:only-of-type {\n",
              "        vertical-align: middle;\n",
              "    }\n",
              "\n",
              "    .dataframe tbody tr th {\n",
              "        vertical-align: top;\n",
              "    }\n",
              "\n",
              "    .dataframe thead th {\n",
              "        text-align: right;\n",
              "    }\n",
              "</style>\n",
              "<table border=\"1\" class=\"dataframe\">\n",
              "  <thead>\n",
              "    <tr style=\"text-align: right;\">\n",
              "      <th></th>\n",
              "      <th>id</th>\n",
              "      <th>sentiment_human</th>\n",
              "      <th>text</th>\n",
              "      <th>tokens</th>\n",
              "    </tr>\n",
              "  </thead>\n",
              "  <tbody>\n",
              "    <tr>\n",
              "      <th>0</th>\n",
              "      <td>5814_8</td>\n",
              "      <td>positive</td>\n",
              "      <td>With all this stuff going down at the moment w...</td>\n",
              "      <td>[thi, stuff, go, moment, mj, 've, start, liste...</td>\n",
              "    </tr>\n",
              "    <tr>\n",
              "      <th>1</th>\n",
              "      <td>2381_9</td>\n",
              "      <td>positive</td>\n",
              "      <td>\\\"The Classic War of the Worlds\\\" by Timothy H...</td>\n",
              "      <td>['', classic, war, worlds\\, '', timothi, hine,...</td>\n",
              "    </tr>\n",
              "    <tr>\n",
              "      <th>2</th>\n",
              "      <td>7759_3</td>\n",
              "      <td>negative</td>\n",
              "      <td>The film starts with a manager (Nicholas Bell)...</td>\n",
              "      <td>[film, start, manag, nichola, bell, give, welc...</td>\n",
              "    </tr>\n",
              "    <tr>\n",
              "      <th>3</th>\n",
              "      <td>3630_4</td>\n",
              "      <td>negative</td>\n",
              "      <td>It must be assumed that those who praised this...</td>\n",
              "      <td>[must, assum, prais, thi, film, '', greatest, ...</td>\n",
              "    </tr>\n",
              "    <tr>\n",
              "      <th>4</th>\n",
              "      <td>9495_8</td>\n",
              "      <td>positive</td>\n",
              "      <td>Superbly trashy and wondrously unpretentious 8...</td>\n",
              "      <td>[superbl, trashi, wondrous, unpretenti, 80, 's...</td>\n",
              "    </tr>\n",
              "  </tbody>\n",
              "</table>\n",
              "</div>\n",
              "    <div class=\"colab-df-buttons\">\n",
              "\n",
              "  <div class=\"colab-df-container\">\n",
              "    <button class=\"colab-df-convert\" onclick=\"convertToInteractive('df-8803279a-6333-4670-a1d4-83b76d911ea9')\"\n",
              "            title=\"Convert this dataframe to an interactive table.\"\n",
              "            style=\"display:none;\">\n",
              "\n",
              "  <svg xmlns=\"http://www.w3.org/2000/svg\" height=\"24px\" viewBox=\"0 -960 960 960\">\n",
              "    <path d=\"M120-120v-720h720v720H120Zm60-500h600v-160H180v160Zm220 220h160v-160H400v160Zm0 220h160v-160H400v160ZM180-400h160v-160H180v160Zm440 0h160v-160H620v160ZM180-180h160v-160H180v160Zm440 0h160v-160H620v160Z\"/>\n",
              "  </svg>\n",
              "    </button>\n",
              "\n",
              "  <style>\n",
              "    .colab-df-container {\n",
              "      display:flex;\n",
              "      gap: 12px;\n",
              "    }\n",
              "\n",
              "    .colab-df-convert {\n",
              "      background-color: #E8F0FE;\n",
              "      border: none;\n",
              "      border-radius: 50%;\n",
              "      cursor: pointer;\n",
              "      display: none;\n",
              "      fill: #1967D2;\n",
              "      height: 32px;\n",
              "      padding: 0 0 0 0;\n",
              "      width: 32px;\n",
              "    }\n",
              "\n",
              "    .colab-df-convert:hover {\n",
              "      background-color: #E2EBFA;\n",
              "      box-shadow: 0px 1px 2px rgba(60, 64, 67, 0.3), 0px 1px 3px 1px rgba(60, 64, 67, 0.15);\n",
              "      fill: #174EA6;\n",
              "    }\n",
              "\n",
              "    .colab-df-buttons div {\n",
              "      margin-bottom: 4px;\n",
              "    }\n",
              "\n",
              "    [theme=dark] .colab-df-convert {\n",
              "      background-color: #3B4455;\n",
              "      fill: #D2E3FC;\n",
              "    }\n",
              "\n",
              "    [theme=dark] .colab-df-convert:hover {\n",
              "      background-color: #434B5C;\n",
              "      box-shadow: 0px 1px 3px 1px rgba(0, 0, 0, 0.15);\n",
              "      filter: drop-shadow(0px 1px 2px rgba(0, 0, 0, 0.3));\n",
              "      fill: #FFFFFF;\n",
              "    }\n",
              "  </style>\n",
              "\n",
              "    <script>\n",
              "      const buttonEl =\n",
              "        document.querySelector('#df-8803279a-6333-4670-a1d4-83b76d911ea9 button.colab-df-convert');\n",
              "      buttonEl.style.display =\n",
              "        google.colab.kernel.accessAllowed ? 'block' : 'none';\n",
              "\n",
              "      async function convertToInteractive(key) {\n",
              "        const element = document.querySelector('#df-8803279a-6333-4670-a1d4-83b76d911ea9');\n",
              "        const dataTable =\n",
              "          await google.colab.kernel.invokeFunction('convertToInteractive',\n",
              "                                                    [key], {});\n",
              "        if (!dataTable) return;\n",
              "\n",
              "        const docLinkHtml = 'Like what you see? Visit the ' +\n",
              "          '<a target=\"_blank\" href=https://colab.research.google.com/notebooks/data_table.ipynb>data table notebook</a>'\n",
              "          + ' to learn more about interactive tables.';\n",
              "        element.innerHTML = '';\n",
              "        dataTable['output_type'] = 'display_data';\n",
              "        await google.colab.output.renderOutput(dataTable, element);\n",
              "        const docLink = document.createElement('div');\n",
              "        docLink.innerHTML = docLinkHtml;\n",
              "        element.appendChild(docLink);\n",
              "      }\n",
              "    </script>\n",
              "  </div>\n",
              "\n",
              "\n",
              "<div id=\"df-b8bab600-8bbe-4c38-a150-02d63d4bab09\">\n",
              "  <button class=\"colab-df-quickchart\" onclick=\"quickchart('df-b8bab600-8bbe-4c38-a150-02d63d4bab09')\"\n",
              "            title=\"Suggest charts\"\n",
              "            style=\"display:none;\">\n",
              "\n",
              "<svg xmlns=\"http://www.w3.org/2000/svg\" height=\"24px\"viewBox=\"0 0 24 24\"\n",
              "     width=\"24px\">\n",
              "    <g>\n",
              "        <path d=\"M19 3H5c-1.1 0-2 .9-2 2v14c0 1.1.9 2 2 2h14c1.1 0 2-.9 2-2V5c0-1.1-.9-2-2-2zM9 17H7v-7h2v7zm4 0h-2V7h2v10zm4 0h-2v-4h2v4z\"/>\n",
              "    </g>\n",
              "</svg>\n",
              "  </button>\n",
              "\n",
              "<style>\n",
              "  .colab-df-quickchart {\n",
              "      --bg-color: #E8F0FE;\n",
              "      --fill-color: #1967D2;\n",
              "      --hover-bg-color: #E2EBFA;\n",
              "      --hover-fill-color: #174EA6;\n",
              "      --disabled-fill-color: #AAA;\n",
              "      --disabled-bg-color: #DDD;\n",
              "  }\n",
              "\n",
              "  [theme=dark] .colab-df-quickchart {\n",
              "      --bg-color: #3B4455;\n",
              "      --fill-color: #D2E3FC;\n",
              "      --hover-bg-color: #434B5C;\n",
              "      --hover-fill-color: #FFFFFF;\n",
              "      --disabled-bg-color: #3B4455;\n",
              "      --disabled-fill-color: #666;\n",
              "  }\n",
              "\n",
              "  .colab-df-quickchart {\n",
              "    background-color: var(--bg-color);\n",
              "    border: none;\n",
              "    border-radius: 50%;\n",
              "    cursor: pointer;\n",
              "    display: none;\n",
              "    fill: var(--fill-color);\n",
              "    height: 32px;\n",
              "    padding: 0;\n",
              "    width: 32px;\n",
              "  }\n",
              "\n",
              "  .colab-df-quickchart:hover {\n",
              "    background-color: var(--hover-bg-color);\n",
              "    box-shadow: 0 1px 2px rgba(60, 64, 67, 0.3), 0 1px 3px 1px rgba(60, 64, 67, 0.15);\n",
              "    fill: var(--button-hover-fill-color);\n",
              "  }\n",
              "\n",
              "  .colab-df-quickchart-complete:disabled,\n",
              "  .colab-df-quickchart-complete:disabled:hover {\n",
              "    background-color: var(--disabled-bg-color);\n",
              "    fill: var(--disabled-fill-color);\n",
              "    box-shadow: none;\n",
              "  }\n",
              "\n",
              "  .colab-df-spinner {\n",
              "    border: 2px solid var(--fill-color);\n",
              "    border-color: transparent;\n",
              "    border-bottom-color: var(--fill-color);\n",
              "    animation:\n",
              "      spin 1s steps(1) infinite;\n",
              "  }\n",
              "\n",
              "  @keyframes spin {\n",
              "    0% {\n",
              "      border-color: transparent;\n",
              "      border-bottom-color: var(--fill-color);\n",
              "      border-left-color: var(--fill-color);\n",
              "    }\n",
              "    20% {\n",
              "      border-color: transparent;\n",
              "      border-left-color: var(--fill-color);\n",
              "      border-top-color: var(--fill-color);\n",
              "    }\n",
              "    30% {\n",
              "      border-color: transparent;\n",
              "      border-left-color: var(--fill-color);\n",
              "      border-top-color: var(--fill-color);\n",
              "      border-right-color: var(--fill-color);\n",
              "    }\n",
              "    40% {\n",
              "      border-color: transparent;\n",
              "      border-right-color: var(--fill-color);\n",
              "      border-top-color: var(--fill-color);\n",
              "    }\n",
              "    60% {\n",
              "      border-color: transparent;\n",
              "      border-right-color: var(--fill-color);\n",
              "    }\n",
              "    80% {\n",
              "      border-color: transparent;\n",
              "      border-right-color: var(--fill-color);\n",
              "      border-bottom-color: var(--fill-color);\n",
              "    }\n",
              "    90% {\n",
              "      border-color: transparent;\n",
              "      border-bottom-color: var(--fill-color);\n",
              "    }\n",
              "  }\n",
              "</style>\n",
              "\n",
              "  <script>\n",
              "    async function quickchart(key) {\n",
              "      const quickchartButtonEl =\n",
              "        document.querySelector('#' + key + ' button');\n",
              "      quickchartButtonEl.disabled = true;  // To prevent multiple clicks.\n",
              "      quickchartButtonEl.classList.add('colab-df-spinner');\n",
              "      try {\n",
              "        const charts = await google.colab.kernel.invokeFunction(\n",
              "            'suggestCharts', [key], {});\n",
              "      } catch (error) {\n",
              "        console.error('Error during call to suggestCharts:', error);\n",
              "      }\n",
              "      quickchartButtonEl.classList.remove('colab-df-spinner');\n",
              "      quickchartButtonEl.classList.add('colab-df-quickchart-complete');\n",
              "    }\n",
              "    (() => {\n",
              "      let quickchartButtonEl =\n",
              "        document.querySelector('#df-b8bab600-8bbe-4c38-a150-02d63d4bab09 button');\n",
              "      quickchartButtonEl.style.display =\n",
              "        google.colab.kernel.accessAllowed ? 'block' : 'none';\n",
              "    })();\n",
              "  </script>\n",
              "</div>\n",
              "\n",
              "    </div>\n",
              "  </div>\n"
            ],
            "application/vnd.google.colaboratory.intrinsic+json": {
              "type": "dataframe",
              "variable_name": "reviews",
              "summary": "{\n  \"name\": \"reviews\",\n  \"rows\": 5000,\n  \"fields\": [\n    {\n      \"column\": \"id\",\n      \"properties\": {\n        \"dtype\": \"string\",\n        \"num_unique_values\": 5000,\n        \"samples\": [\n          \"9516_8\",\n          \"10137_1\",\n          \"5794_2\"\n        ],\n        \"semantic_type\": \"\",\n        \"description\": \"\"\n      }\n    },\n    {\n      \"column\": \"sentiment_human\",\n      \"properties\": {\n        \"dtype\": \"category\",\n        \"num_unique_values\": 2,\n        \"samples\": [\n          \"negative\",\n          \"positive\"\n        ],\n        \"semantic_type\": \"\",\n        \"description\": \"\"\n      }\n    },\n    {\n      \"column\": \"text\",\n      \"properties\": {\n        \"dtype\": \"string\",\n        \"num_unique_values\": 4996,\n        \"samples\": [\n          \"And I'm serious! Truly one of the most fantastic films I have ever had the pleasure of watching. What's so wonderful is that very rarely does a good book turn into a movie that is not only good, but if possible better than the novel it was based on. Perhaps in the case of Lord of the Rings and Trainspotting, but it is a rare occurrence indeed. But I think that the fact that Louis Sachar was involved from the beginning helped masses, so that the film sticks close to the story but takes it even further. This film has many elements that make it what it is:<br /><br />1. A unique, original story with a good mix of fun and humour, but a mature edge. 2. Brilliant actors. Adults and kids alike, these actors know how to bring the story to life and deliver their lines with enthusiasm and style without going overboard, as sometimes happen with kids movies. 3. Breathtaking scenery. And it doesn't matter if it's real or CGI, the setting in itself is a masterpiece. I especially love the image of the holes from a birds eye view. 4. A talented director who breathes life into the book and turns it into technicolour genius. The transitions in time work well and capture the steady climax from the book, leading up to the twists throughout the film. 5. Louis Sachar! The guy who had me reading a book nonstop from start to finish so that I couldn't put it down. He makes sure that the script sticks to the book, with new bits added in to make it even better. 6. And speaking of the script! The one-liners in this are smart, funny and unpatronising. But there are also parts to make you smile, make you cry, and tug at your heartstrings to make you love this story all the more. 7. Beautiful soundtrack. There's not a song in this film that I haven't fallen for, and that's something considering I'm supposed to be a punk-rocker. The songs link to the story well and add extra jazz to the overall style of the film. If you're going to buy the film, I recommend you buy the soundtrack too, especially for \\\\\\\"If Only\\\\\\\", which centres around the story and contains the chorus from the book.<br /><br />I do not work for the people who made Holes, by the way, I'm just a fan, plugging my favourite film and giving it the review it deserves. If you haven't seen it, do it. Now. This very instant. Go!\",\n          \"The movie is great and I like the story. I prefer this movie than other movie such The cell ( sick movie ) and Highlander ( silly movie ). I just tell the truth, I like a reality hehe and also a true story :)<br /><br />\"\n        ],\n        \"semantic_type\": \"\",\n        \"description\": \"\"\n      }\n    },\n    {\n      \"column\": \"tokens\",\n      \"properties\": {\n        \"dtype\": \"object\",\n        \"semantic_type\": \"\",\n        \"description\": \"\"\n      }\n    }\n  ]\n}"
            }
          },
          "metadata": {},
          "execution_count": 8
        }
      ],
      "source": [
        "#show review data with new column tokens\n",
        "reviews.head()"
      ]
    },
    {
      "cell_type": "markdown",
      "metadata": {
        "id": "Fy-9wov43ysC"
      },
      "source": [
        "## Dictionary-Based Sentiment Analysis\n",
        "`Dictionary-based Sentiment Analysis` works by looking up the sentiment of each word occurring in a text in a `sentiment dictionary`. Afterwards the single sentiment scores are summed up to evaluate the text's sentiment."
      ]
    },
    {
      "cell_type": "markdown",
      "metadata": {
        "id": "9qczieEumo77"
      },
      "source": [
        "## NRC Sentiment Dictionary"
      ]
    },
    {
      "cell_type": "markdown",
      "metadata": {
        "id": "gv--FV5p3ysC"
      },
      "source": [
        "### Load NRC sentiment dictionary\n",
        "We use the NRC sentiment dictionary. This dictionary contains ten classes: anger, anticipation, disgust, fear, joy, negative, positive, sadness, surprise and trust.\n",
        "Currently we are only interested in positive and negative words.\n",
        "\n",
        "Run the code below."
      ]
    },
    {
      "cell_type": "code",
      "execution_count": 9,
      "metadata": {
        "id": "OGMkbdhR3ysC"
      },
      "outputs": [],
      "source": [
        "# Load NRC Emotion Lexicon\n",
        "nrc_df = pd.read_csv('https://raw.githubusercontent.com/kbrennig/MODS_WS24_25/refs/heads/main/data/NRC-Emotion-Lexicon-Wordlevel-v0.92.txt', sep='\\t', header=None, names=['word', 'emotion', 'association'])\n",
        "\n",
        "# Filter out rows where association is 0\n",
        "nrc_df = nrc_df[nrc_df['association'] == 1]\n",
        "\n",
        "# Define positive and negative emotion categories\n",
        "positive_emotions = {'positive'}\n",
        "negative_emotions = {'negative'}\n",
        "\n",
        "# Filter words by emotion category and collect unique words for each sentiment orientation\n",
        "positive_words = nrc_df[nrc_df['emotion'].isin(positive_emotions)]['word'].unique()\n",
        "negative_words = nrc_df[nrc_df['emotion'].isin(negative_emotions)]['word'].unique()\n",
        "\n"
      ]
    },
    {
      "cell_type": "markdown",
      "metadata": {
        "id": "Yh2dN7Ul3ysC"
      },
      "source": [
        "### Sample from dictionary\n",
        "We can look at an excerpt of the positive words contained in the dictionary.\n",
        "\n",
        "Run the code below."
      ]
    },
    {
      "cell_type": "code",
      "execution_count": 10,
      "metadata": {
        "colab": {
          "base_uri": "https://localhost:8080/"
        },
        "id": "_Xqz4inW3ysC",
        "outputId": "2026ab05-83cf-410e-8b89-94efdf190503"
      },
      "outputs": [
        {
          "output_type": "execute_result",
          "data": {
            "text/plain": [
              "array(['abba', 'ability', 'abovementioned', 'absolute', 'absolution',\n",
              "       'absorbed', 'abundance', 'abundant', 'academic', 'academy'],\n",
              "      dtype=object)"
            ]
          },
          "metadata": {},
          "execution_count": 10
        }
      ],
      "source": [
        "positive_words[:10]"
      ]
    },
    {
      "cell_type": "markdown",
      "metadata": {
        "id": "WsuBrvzo3ysC"
      },
      "source": [
        "### Stem the positive and negative dictionaries\n",
        "The tokens in the dictionary aren't stemmed per default. Since we stemmed the tokens in our data, we also stem the positive and negative words in the dictionary.\n",
        "\n",
        "Run the code below."
      ]
    },
    {
      "cell_type": "code",
      "execution_count": 11,
      "metadata": {
        "id": "sbXXfmYi3ysC",
        "colab": {
          "base_uri": "https://localhost:8080/"
        },
        "outputId": "fdfe542d-b257-4d67-db9b-6bf3179e3c9e"
      },
      "outputs": [
        {
          "output_type": "execute_result",
          "data": {
            "text/plain": [
              "['abba',\n",
              " 'abil',\n",
              " 'abovement',\n",
              " 'absolut',\n",
              " 'absolut',\n",
              " 'absorb',\n",
              " 'abund',\n",
              " 'abund',\n",
              " 'academ',\n",
              " 'academi']"
            ]
          },
          "metadata": {},
          "execution_count": 11
        }
      ],
      "source": [
        "# Initialize the Porter stemmer\n",
        "stemmer = nltk.stem.PorterStemmer()\n",
        "\n",
        "# Stem the words in each list\n",
        "positive_words_stemmed = [stemmer.stem(word) for word in positive_words]\n",
        "negative_words_stemmed = [stemmer.stem(word) for word in negative_words]\n",
        "\n",
        "\n",
        "positive_words_stemmed[:10]"
      ]
    },
    {
      "cell_type": "markdown",
      "metadata": {
        "id": "eDM4Bx2y3ysC"
      },
      "source": [
        "### Look-up remaining tokens in NRC dictionary and transform results to data frame\n",
        "If you want to perform the analysis with the unstemmed tokens you can copy the needed code parts to the summary section and use the unstemmed reviews as input and remove the stemming from the preprocessing to use the unstemmed tokens. Additionally you will have to set stemmed_dict = False.\n",
        "\n",
        "Which procedure yields more accurate results and what do you believe to be the reason for the outcome?\n",
        "\n",
        "Run the code below."
      ]
    },
    {
      "cell_type": "code",
      "execution_count": 12,
      "metadata": {
        "colab": {
          "base_uri": "https://localhost:8080/",
          "height": 356
        },
        "id": "MWKuN0z5Zw35",
        "outputId": "74793856-0900-47fe-cfc0-5836f47f2f03"
      },
      "outputs": [
        {
          "output_type": "error",
          "ename": "KeyboardInterrupt",
          "evalue": "",
          "traceback": [
            "\u001b[0;31m---------------------------------------------------------------------------\u001b[0m",
            "\u001b[0;31mKeyboardInterrupt\u001b[0m                         Traceback (most recent call last)",
            "\u001b[0;32m<ipython-input-12-55092db330c5>\u001b[0m in \u001b[0;36m<cell line: 29>\u001b[0;34m()\u001b[0m\n\u001b[1;32m     27\u001b[0m \u001b[0;34m\u001b[0m\u001b[0m\n\u001b[1;32m     28\u001b[0m \u001b[0;31m# Perform lookup with stemmed dictionary\u001b[0m\u001b[0;34m\u001b[0m\u001b[0;34m\u001b[0m\u001b[0m\n\u001b[0;32m---> 29\u001b[0;31m \u001b[0mresults\u001b[0m \u001b[0;34m=\u001b[0m \u001b[0;34m[\u001b[0m\u001b[0msentiment_lookup\u001b[0m\u001b[0;34m(\u001b[0m\u001b[0mreview\u001b[0m\u001b[0;34m,\u001b[0m \u001b[0msentiment_dict\u001b[0m\u001b[0;34m,\u001b[0m \u001b[0mstemmed_dict\u001b[0m\u001b[0;34m=\u001b[0m\u001b[0;32mTrue\u001b[0m\u001b[0;34m)\u001b[0m \u001b[0;32mfor\u001b[0m \u001b[0mreview\u001b[0m \u001b[0;32min\u001b[0m \u001b[0mreviews_toks_stemmed\u001b[0m\u001b[0;34m]\u001b[0m\u001b[0;34m\u001b[0m\u001b[0;34m\u001b[0m\u001b[0m\n\u001b[0m\u001b[1;32m     30\u001b[0m \u001b[0mdf_results\u001b[0m \u001b[0;34m=\u001b[0m \u001b[0mpd\u001b[0m\u001b[0;34m.\u001b[0m\u001b[0mDataFrame\u001b[0m\u001b[0;34m(\u001b[0m\u001b[0mresults\u001b[0m\u001b[0;34m,\u001b[0m \u001b[0mcolumns\u001b[0m\u001b[0;34m=\u001b[0m\u001b[0;34m[\u001b[0m\u001b[0;34m'positive_count'\u001b[0m\u001b[0;34m,\u001b[0m \u001b[0;34m'negative_count'\u001b[0m\u001b[0;34m]\u001b[0m\u001b[0;34m)\u001b[0m\u001b[0;34m\u001b[0m\u001b[0;34m\u001b[0m\u001b[0m\n\u001b[1;32m     31\u001b[0m \u001b[0mprint\u001b[0m\u001b[0;34m(\u001b[0m\u001b[0;34m\"Results with Stemmed Dictionary:\"\u001b[0m\u001b[0;34m)\u001b[0m\u001b[0;34m\u001b[0m\u001b[0;34m\u001b[0m\u001b[0m\n",
            "\u001b[0;32m<ipython-input-12-55092db330c5>\u001b[0m in \u001b[0;36m<listcomp>\u001b[0;34m(.0)\u001b[0m\n\u001b[1;32m     27\u001b[0m \u001b[0;34m\u001b[0m\u001b[0m\n\u001b[1;32m     28\u001b[0m \u001b[0;31m# Perform lookup with stemmed dictionary\u001b[0m\u001b[0;34m\u001b[0m\u001b[0;34m\u001b[0m\u001b[0m\n\u001b[0;32m---> 29\u001b[0;31m \u001b[0mresults\u001b[0m \u001b[0;34m=\u001b[0m \u001b[0;34m[\u001b[0m\u001b[0msentiment_lookup\u001b[0m\u001b[0;34m(\u001b[0m\u001b[0mreview\u001b[0m\u001b[0;34m,\u001b[0m \u001b[0msentiment_dict\u001b[0m\u001b[0;34m,\u001b[0m \u001b[0mstemmed_dict\u001b[0m\u001b[0;34m=\u001b[0m\u001b[0;32mTrue\u001b[0m\u001b[0;34m)\u001b[0m \u001b[0;32mfor\u001b[0m \u001b[0mreview\u001b[0m \u001b[0;32min\u001b[0m \u001b[0mreviews_toks_stemmed\u001b[0m\u001b[0;34m]\u001b[0m\u001b[0;34m\u001b[0m\u001b[0;34m\u001b[0m\u001b[0m\n\u001b[0m\u001b[1;32m     30\u001b[0m \u001b[0mdf_results\u001b[0m \u001b[0;34m=\u001b[0m \u001b[0mpd\u001b[0m\u001b[0;34m.\u001b[0m\u001b[0mDataFrame\u001b[0m\u001b[0;34m(\u001b[0m\u001b[0mresults\u001b[0m\u001b[0;34m,\u001b[0m \u001b[0mcolumns\u001b[0m\u001b[0;34m=\u001b[0m\u001b[0;34m[\u001b[0m\u001b[0;34m'positive_count'\u001b[0m\u001b[0;34m,\u001b[0m \u001b[0;34m'negative_count'\u001b[0m\u001b[0;34m]\u001b[0m\u001b[0;34m)\u001b[0m\u001b[0;34m\u001b[0m\u001b[0;34m\u001b[0m\u001b[0m\n\u001b[1;32m     31\u001b[0m \u001b[0mprint\u001b[0m\u001b[0;34m(\u001b[0m\u001b[0;34m\"Results with Stemmed Dictionary:\"\u001b[0m\u001b[0;34m)\u001b[0m\u001b[0;34m\u001b[0m\u001b[0;34m\u001b[0m\u001b[0m\n",
            "\u001b[0;32m<ipython-input-12-55092db330c5>\u001b[0m in \u001b[0;36msentiment_lookup\u001b[0;34m(tokens, sentiment_dict, stemmed_dict)\u001b[0m\n\u001b[1;32m     19\u001b[0m     \u001b[0;31m# Count positive and negative word matches\u001b[0m\u001b[0;34m\u001b[0m\u001b[0;34m\u001b[0m\u001b[0m\n\u001b[1;32m     20\u001b[0m     \u001b[0mpositive_count\u001b[0m \u001b[0;34m=\u001b[0m \u001b[0msum\u001b[0m\u001b[0;34m(\u001b[0m\u001b[0;36m1\u001b[0m \u001b[0;32mfor\u001b[0m \u001b[0mtoken\u001b[0m \u001b[0;32min\u001b[0m \u001b[0mtokens\u001b[0m \u001b[0;32mif\u001b[0m \u001b[0mtoken\u001b[0m \u001b[0;32min\u001b[0m \u001b[0mpositive_words\u001b[0m\u001b[0;34m)\u001b[0m\u001b[0;34m\u001b[0m\u001b[0;34m\u001b[0m\u001b[0m\n\u001b[0;32m---> 21\u001b[0;31m     \u001b[0mnegative_count\u001b[0m \u001b[0;34m=\u001b[0m \u001b[0msum\u001b[0m\u001b[0;34m(\u001b[0m\u001b[0;36m1\u001b[0m \u001b[0;32mfor\u001b[0m \u001b[0mtoken\u001b[0m \u001b[0;32min\u001b[0m \u001b[0mtokens\u001b[0m \u001b[0;32mif\u001b[0m \u001b[0mtoken\u001b[0m \u001b[0;32min\u001b[0m \u001b[0mnegative_words\u001b[0m\u001b[0;34m)\u001b[0m\u001b[0;34m\u001b[0m\u001b[0;34m\u001b[0m\u001b[0m\n\u001b[0m\u001b[1;32m     22\u001b[0m \u001b[0;34m\u001b[0m\u001b[0m\n\u001b[1;32m     23\u001b[0m     \u001b[0;32mreturn\u001b[0m \u001b[0mpositive_count\u001b[0m\u001b[0;34m,\u001b[0m \u001b[0mnegative_count\u001b[0m\u001b[0;34m\u001b[0m\u001b[0;34m\u001b[0m\u001b[0m\n",
            "\u001b[0;32m<ipython-input-12-55092db330c5>\u001b[0m in \u001b[0;36m<genexpr>\u001b[0;34m(.0)\u001b[0m\n\u001b[1;32m     19\u001b[0m     \u001b[0;31m# Count positive and negative word matches\u001b[0m\u001b[0;34m\u001b[0m\u001b[0;34m\u001b[0m\u001b[0m\n\u001b[1;32m     20\u001b[0m     \u001b[0mpositive_count\u001b[0m \u001b[0;34m=\u001b[0m \u001b[0msum\u001b[0m\u001b[0;34m(\u001b[0m\u001b[0;36m1\u001b[0m \u001b[0;32mfor\u001b[0m \u001b[0mtoken\u001b[0m \u001b[0;32min\u001b[0m \u001b[0mtokens\u001b[0m \u001b[0;32mif\u001b[0m \u001b[0mtoken\u001b[0m \u001b[0;32min\u001b[0m \u001b[0mpositive_words\u001b[0m\u001b[0;34m)\u001b[0m\u001b[0;34m\u001b[0m\u001b[0;34m\u001b[0m\u001b[0m\n\u001b[0;32m---> 21\u001b[0;31m     \u001b[0mnegative_count\u001b[0m \u001b[0;34m=\u001b[0m \u001b[0msum\u001b[0m\u001b[0;34m(\u001b[0m\u001b[0;36m1\u001b[0m \u001b[0;32mfor\u001b[0m \u001b[0mtoken\u001b[0m \u001b[0;32min\u001b[0m \u001b[0mtokens\u001b[0m \u001b[0;32mif\u001b[0m \u001b[0mtoken\u001b[0m \u001b[0;32min\u001b[0m \u001b[0mnegative_words\u001b[0m\u001b[0;34m)\u001b[0m\u001b[0;34m\u001b[0m\u001b[0;34m\u001b[0m\u001b[0m\n\u001b[0m\u001b[1;32m     22\u001b[0m \u001b[0;34m\u001b[0m\u001b[0m\n\u001b[1;32m     23\u001b[0m     \u001b[0;32mreturn\u001b[0m \u001b[0mpositive_count\u001b[0m\u001b[0;34m,\u001b[0m \u001b[0mnegative_count\u001b[0m\u001b[0;34m\u001b[0m\u001b[0;34m\u001b[0m\u001b[0m\n",
            "\u001b[0;31mKeyboardInterrupt\u001b[0m: "
          ]
        }
      ],
      "source": [
        "# Create a dictionary with both stemmed and unstemmed words for sentiment analysis\n",
        "sentiment_dict = {\n",
        "    'positive': list(positive_words),\n",
        "    'negative': list(negative_words),\n",
        "    'positive_stemmed': positive_words_stemmed,\n",
        "    'negative_stemmed': negative_words_stemmed\n",
        "}\n",
        "\n",
        "def sentiment_lookup(tokens, sentiment_dict, stemmed_dict=True):\n",
        "    if stemmed_dict:\n",
        "        # Use stemmed versions of the dictionary\n",
        "        positive_words = sentiment_dict['positive_stemmed']\n",
        "        negative_words = sentiment_dict['negative_stemmed']\n",
        "    else:\n",
        "        # Use original versions of the dictionary\n",
        "        positive_words = sentiment_dict['positive']\n",
        "        negative_words = sentiment_dict['negative']\n",
        "\n",
        "    # Count positive and negative word matches\n",
        "    positive_count = sum(1 for token in tokens if token in positive_words)\n",
        "    negative_count = sum(1 for token in tokens if token in negative_words)\n",
        "\n",
        "    return positive_count, negative_count\n",
        "\n",
        "#Use the preprocessed reviews as input, which we saved as \"tokens\" in our data, to perform the lookup\n",
        "reviews_toks_stemmed = reviews['tokens']\n",
        "\n",
        "# Perform lookup with stemmed dictionary\n",
        "results = [sentiment_lookup(review, sentiment_dict, stemmed_dict=True) for review in reviews_toks_stemmed]\n",
        "df_results = pd.DataFrame(results, columns=['positive_count', 'negative_count'])\n",
        "print(\"Results with Stemmed Dictionary:\")\n",
        "print(df_results)\n"
      ]
    },
    {
      "cell_type": "markdown",
      "metadata": {
        "id": "fIPHK0id3ysC"
      },
      "source": [
        "### Calculate overall sentiment score\n",
        "After looking up the sentiment for the remaining tokens of each text we can now aggregate them by simply subtracting the number of negative words from the number of positive words found.\n",
        "\n",
        "Run the code below."
      ]
    },
    {
      "cell_type": "code",
      "execution_count": null,
      "metadata": {
        "id": "46drmg3Zmo78",
        "outputId": "92ba89f0-666a-4b7c-8e3a-5ef80e84c1b9"
      },
      "outputs": [
        {
          "data": {
            "text/html": [
              "<div>\n",
              "<style scoped>\n",
              "    .dataframe tbody tr th:only-of-type {\n",
              "        vertical-align: middle;\n",
              "    }\n",
              "\n",
              "    .dataframe tbody tr th {\n",
              "        vertical-align: top;\n",
              "    }\n",
              "\n",
              "    .dataframe thead th {\n",
              "        text-align: right;\n",
              "    }\n",
              "</style>\n",
              "<table border=\"1\" class=\"dataframe\">\n",
              "  <thead>\n",
              "    <tr style=\"text-align: right;\">\n",
              "      <th></th>\n",
              "      <th>positive_count</th>\n",
              "      <th>negative_count</th>\n",
              "    </tr>\n",
              "  </thead>\n",
              "  <tbody>\n",
              "    <tr>\n",
              "      <th>count</th>\n",
              "      <td>5000.000000</td>\n",
              "      <td>5000.000000</td>\n",
              "    </tr>\n",
              "    <tr>\n",
              "      <th>mean</th>\n",
              "      <td>31.613800</td>\n",
              "      <td>19.301800</td>\n",
              "    </tr>\n",
              "    <tr>\n",
              "      <th>std</th>\n",
              "      <td>24.080918</td>\n",
              "      <td>15.816597</td>\n",
              "    </tr>\n",
              "    <tr>\n",
              "      <th>min</th>\n",
              "      <td>0.000000</td>\n",
              "      <td>0.000000</td>\n",
              "    </tr>\n",
              "    <tr>\n",
              "      <th>25%</th>\n",
              "      <td>16.000000</td>\n",
              "      <td>9.000000</td>\n",
              "    </tr>\n",
              "    <tr>\n",
              "      <th>50%</th>\n",
              "      <td>24.000000</td>\n",
              "      <td>15.000000</td>\n",
              "    </tr>\n",
              "    <tr>\n",
              "      <th>75%</th>\n",
              "      <td>39.000000</td>\n",
              "      <td>24.000000</td>\n",
              "    </tr>\n",
              "    <tr>\n",
              "      <th>max</th>\n",
              "      <td>334.000000</td>\n",
              "      <td>245.000000</td>\n",
              "    </tr>\n",
              "  </tbody>\n",
              "</table>\n",
              "</div>"
            ],
            "text/plain": [
              "       positive_count  negative_count\n",
              "count     5000.000000     5000.000000\n",
              "mean        31.613800       19.301800\n",
              "std         24.080918       15.816597\n",
              "min          0.000000        0.000000\n",
              "25%         16.000000        9.000000\n",
              "50%         24.000000       15.000000\n",
              "75%         39.000000       24.000000\n",
              "max        334.000000      245.000000"
            ]
          },
          "execution_count": 11,
          "metadata": {},
          "output_type": "execute_result"
        }
      ],
      "source": [
        "#Get a quick overview of the positive and negative results\n",
        "df_results.describe()"
      ]
    },
    {
      "cell_type": "code",
      "execution_count": null,
      "metadata": {
        "colab": {
          "base_uri": "https://localhost:8080/"
        },
        "id": "RwzHC64S3ysD",
        "outputId": "599d06d9-ae47-4069-dc1e-f3a3eaf09721"
      },
      "outputs": [
        {
          "name": "stdout",
          "output_type": "stream",
          "text": [
            "Results DataFrame:\n",
            "      positive_count  negative_count  sentiment_algo_score\n",
            "0                 53              39                    14\n",
            "1                 26               5                    21\n",
            "2                 57              48                     9\n",
            "3                 51              26                    25\n",
            "4                 51              39                    12\n",
            "...              ...             ...                   ...\n",
            "4995              25              12                    13\n",
            "4996              25              12                    13\n",
            "4997              27              16                    11\n",
            "4998              17              11                     6\n",
            "4999              22               8                    14\n",
            "\n",
            "[5000 rows x 3 columns]\n"
          ]
        }
      ],
      "source": [
        "# Calculate sentiment algorithm score (positive - negative)\n",
        "df_results['sentiment_algo_score'] = df_results['positive_count'] - df_results['negative_count']\n",
        "\n",
        "# Print the results with sentiment scores\n",
        "print(\"Results DataFrame:\")\n",
        "print(df_results)"
      ]
    },
    {
      "cell_type": "markdown",
      "metadata": {
        "id": "5eyV-djH3ysD"
      },
      "source": [
        "### Scale sentiment score by number of emotional words in a review\n",
        "\n",
        "Run the code below."
      ]
    },
    {
      "cell_type": "code",
      "execution_count": null,
      "metadata": {
        "colab": {
          "base_uri": "https://localhost:8080/",
          "height": 464
        },
        "id": "_aLRPXe-3ysD",
        "outputId": "f1a27fc6-c80b-4491-a735-33c4bd02a345"
      },
      "outputs": [
        {
          "data": {
            "text/plain": [
              "count    5000.000000\n",
              "mean        0.252911\n",
              "std         0.190534\n",
              "min        -1.000000\n",
              "25%         0.131843\n",
              "50%         0.250000\n",
              "75%         0.373134\n",
              "max         1.000000\n",
              "Name: sentiment_algo_scaled, dtype: float64"
            ]
          },
          "execution_count": 34,
          "metadata": {},
          "output_type": "execute_result"
        }
      ],
      "source": [
        "df_results['sentiment_algo_scaled'] = df_results['sentiment_algo_score'] / (df_results['positive_count'] + df_results['negative_count'])\n",
        "df_results.fillna({'sentiment_algo_scaled': 0}, inplace=True)\n",
        "df_results['sentiment_algo_scaled'].describe()"
      ]
    },
    {
      "cell_type": "markdown",
      "metadata": {
        "id": "PcVW_KkH3ysD"
      },
      "source": [
        "### Calculate binary sentiment label\n",
        "Similarly to classification we still have to decide which label to assign to each instance because until now we only have calculated their sentiment scores. Because we scaled the scores in the previous cell we can infer that scores greater than 0 indicate a positive sentiment and otherwise a negative sentiment.\n",
        "\n",
        "Our model predicts 685 negative reviews and 4315 positive reviews.\n",
        "\n",
        "Run the code below."
      ]
    },
    {
      "cell_type": "code",
      "execution_count": null,
      "metadata": {
        "colab": {
          "base_uri": "https://localhost:8080/",
          "height": 458
        },
        "id": "dEVHjnla3ysD",
        "outputId": "b29c45c8-84fe-4938-aa61-c464e4573d10"
      },
      "outputs": [
        {
          "data": {
            "text/plain": [
              "positive    4532\n",
              "negative     468\n",
              "Name: sentiment_algo_binary, dtype: int64"
            ]
          },
          "execution_count": 36,
          "metadata": {},
          "output_type": "execute_result"
        }
      ],
      "source": [
        "df_results['sentiment_algo_binary'] = ['positive' if x > 0 else 'negative' for x in df_results['sentiment_algo_scaled']]\n",
        "df_results['sentiment_algo_binary'].value_counts()\n"
      ]
    },
    {
      "cell_type": "markdown",
      "metadata": {
        "id": "uXdANuDp3ysD"
      },
      "source": [
        "### Show distribution of human sentiment lables\n",
        "As a reference we can also display the ground truth distribution of positive and negative reviews, which is represented through the column \"sentiment_human\" in our dataset. We can see that our model predicts a lot more positive reviews than contained in the dataset. (What could be a possible reason?)\n",
        "\n",
        "Run the code below."
      ]
    },
    {
      "cell_type": "code",
      "execution_count": null,
      "metadata": {
        "colab": {
          "base_uri": "https://localhost:8080/",
          "height": 178
        },
        "id": "0psY1-8V3ysD",
        "outputId": "d33b7c0c-c632-457e-f79f-743eaa52af58"
      },
      "outputs": [
        {
          "data": {
            "text/plain": [
              "positive    2517\n",
              "negative    2483\n",
              "Name: sentiment_human, dtype: int64"
            ]
          },
          "execution_count": 15,
          "metadata": {},
          "output_type": "execute_result"
        }
      ],
      "source": [
        "reviews['sentiment_human'].value_counts()"
      ]
    },
    {
      "cell_type": "markdown",
      "metadata": {
        "id": "xni3qqmP3ysD"
      },
      "source": [
        "### Evaluate accuracy with human sentiment lables as ground truth\n",
        "Since the task at hand is classification (the only difference lies in the type of input data) we can evaluate our model in the same way as we did before.\n",
        "\n",
        "Run the code below."
      ]
    },
    {
      "cell_type": "code",
      "execution_count": null,
      "metadata": {
        "id": "6gmmY_rWfMAn"
      },
      "outputs": [],
      "source": [
        "reviews_df_sent, results_df_bin = pd.DataFrame(reviews['sentiment_human']), pd.DataFrame(df_results['sentiment_algo_binary'])"
      ]
    },
    {
      "cell_type": "code",
      "execution_count": null,
      "metadata": {
        "colab": {
          "base_uri": "https://localhost:8080/",
          "height": 490
        },
        "id": "s53MwZN1aVwB",
        "outputId": "5e4fff19-61f2-41cd-b5bd-ecb5f196a3e6"
      },
      "outputs": [
        {
          "name": "stdout",
          "output_type": "stream",
          "text": [
            "Accuracy (NRC): 0.557\n"
          ]
        },
        {
          "data": {
            "text/plain": [
              "<sklearn.metrics._plot.confusion_matrix.ConfusionMatrixDisplay at 0x1548ebf40>"
            ]
          },
          "execution_count": 17,
          "metadata": {},
          "output_type": "execute_result"
        },
        {
          "data": {
            "image/png": "[encoded data removed]",
            "text/plain": [
              "<Figure size 432x288 with 2 Axes>"
            ]
          },
          "metadata": {
            "needs_background": "light"
          },
          "output_type": "display_data"
        }
      ],
      "source": [
        "from sklearn.metrics import accuracy_score\n",
        "from sklearn.metrics import ConfusionMatrixDisplay\n",
        "\n",
        "#Compute accuracy\n",
        "accuracy_nrc = accuracy_score(reviews_df_sent['sentiment_human'], results_df_bin['sentiment_algo_binary'])\n",
        "print(\"Accuracy (NRC):\", accuracy_nrc)\n",
        "\n",
        "#Compute confusion matrix of human sentiment and algorithm sentiment\n",
        "ConfusionMatrixDisplay.from_predictions(reviews_df_sent['sentiment_human'], results_df_bin['sentiment_algo_binary'])\n"
      ]
    },
    {
      "cell_type": "markdown",
      "metadata": {
        "id": "7ytrSOQR3ysD"
      },
      "source": [
        "## Vader Dictionary"
      ]
    },
    {
      "cell_type": "markdown",
      "metadata": {
        "id": "JVQ6moUemo79"
      },
      "source": [
        "### Load Vader Dictionary\n",
        "\n",
        "We install the Vader package first, as it is not natively supported on google colab"
      ]
    },
    {
      "cell_type": "code",
      "execution_count": null,
      "metadata": {
        "colab": {
          "base_uri": "https://localhost:8080/"
        },
        "id": "i6LU0W3e3ysD",
        "outputId": "15d7ffe6-49e5-482a-bfbe-e1b83f19aa74"
      },
      "outputs": [
        {
          "name": "stdout",
          "output_type": "stream",
          "text": [
            "Requirement already satisfied: vaderSentiment in /Users/katharinabrennig/opt/anaconda3/lib/python3.9/site-packages (3.3.2)\n",
            "Requirement already satisfied: requests in /Users/katharinabrennig/opt/anaconda3/lib/python3.9/site-packages (from vaderSentiment) (2.27.1)\n",
            "Requirement already satisfied: urllib3<1.27,>=1.21.1 in /Users/katharinabrennig/opt/anaconda3/lib/python3.9/site-packages (from requests->vaderSentiment) (1.26.9)\n",
            "Requirement already satisfied: certifi>=2017.4.17 in /Users/katharinabrennig/opt/anaconda3/lib/python3.9/site-packages (from requests->vaderSentiment) (2022.5.18.1)\n",
            "Requirement already satisfied: idna<4,>=2.5 in /Users/katharinabrennig/opt/anaconda3/lib/python3.9/site-packages (from requests->vaderSentiment) (3.3)\n",
            "Requirement already satisfied: charset-normalizer~=2.0.0 in /Users/katharinabrennig/opt/anaconda3/lib/python3.9/site-packages (from requests->vaderSentiment) (2.0.4)\n"
          ]
        }
      ],
      "source": [
        "# Installing the Vader Package\n",
        "!pip install vaderSentiment"
      ]
    },
    {
      "cell_type": "markdown",
      "metadata": {
        "id": "uDpGkCe4mo7-"
      },
      "source": [
        "We load the Vader (Valence Aware Dictionary and Sentiment Reasoner) model. It is a rule-based sentiment analysis tool that is specifically designed for analyzing social media texts. Vader is a pre-trained sentiment analysis model that provides a sentiment score for a given text."
      ]
    },
    {
      "cell_type": "code",
      "execution_count": null,
      "metadata": {
        "id": "4Zh_DIdX3ysD"
      },
      "outputs": [],
      "source": [
        "from vaderSentiment.vaderSentiment import SentimentIntensityAnalyzer\n",
        "\n",
        "vader_sa_classifier = SentimentIntensityAnalyzer()"
      ]
    },
    {
      "cell_type": "markdown",
      "metadata": {
        "id": "Lu6Aa-Mrmo7-"
      },
      "source": [
        "### Preprocessing\n",
        "\n",
        "Similar as before we tokenize the texts first, remove stopwords, and punctuation. The difference to before is that we do not perform stemming. Further we return the preprocessed tokens as a whole string and not a list of tokens as Vader expects a complete string as input."
      ]
    },
    {
      "cell_type": "code",
      "execution_count": null,
      "metadata": {
        "id": "Zjl2F5Ermo7-"
      },
      "outputs": [],
      "source": [
        "def preprocess(text):\n",
        "    # Tokenize the text\n",
        "    tokens = nltk.word_tokenize(text)\n",
        "\n",
        "    # Get the list of stopwords in English\n",
        "    stopwords = nltk.corpus.stopwords.words(\"english\")\n",
        "\n",
        "    # Remove stopwords\n",
        "    filtered_tokens = [token for token in tokens if token.lower() not in stopwords]\n",
        "\n",
        "    # Remove punctuation\n",
        "    filtered_tokens_nopunct = [token for token in filtered_tokens if token not in string.punctuation]\n",
        "\n",
        "    return \" \".join(filtered_tokens_nopunct)\n"
      ]
    },
    {
      "cell_type": "markdown",
      "metadata": {
        "id": "CpRR4wb5mo7-"
      },
      "source": [
        "Applying the preprocessing on the text and save the preprocessed text in a new column called 'text_prep'."
      ]
    },
    {
      "cell_type": "code",
      "execution_count": null,
      "metadata": {
        "id": "URaLhCa93ysD"
      },
      "outputs": [],
      "source": [
        "reviews['text_prep'] = reviews['text'].apply(preprocess)"
      ]
    },
    {
      "cell_type": "markdown",
      "metadata": {
        "id": "5Y56VkE_mo7-"
      },
      "source": [
        "### Dataunderstanding"
      ]
    },
    {
      "cell_type": "markdown",
      "metadata": {
        "id": "oE-jbANomo7_"
      },
      "source": [
        "Taking a closer look how the prepared text for a positive and negative review looks."
      ]
    },
    {
      "cell_type": "code",
      "execution_count": null,
      "metadata": {
        "colab": {
          "base_uri": "https://localhost:8080/"
        },
        "id": "FRdjZVLJ3ysG",
        "outputId": "524a508a-a586-4a9e-de66-eef000a1c1e9"
      },
      "outputs": [
        {
          "name": "stdout",
          "output_type": "stream",
          "text": [
            "stuff going moment MJ 've started listening music watching odd documentary watched Wiz watched Moonwalker Maybe want get certain insight guy thought really cool eighties maybe make mind whether guilty innocent Moonwalker part biography part feature film remember going see cinema originally released subtle messages MJ 's feeling towards press also obvious message drugs bad m'kay. br br Visually impressive course Michael Jackson unless remotely like MJ anyway going hate find boring may call MJ egotist consenting making movie MJ fans would say made fans true really nice him. br br actual feature film bit finally starts 20 minutes excluding Smooth Criminal sequence Joe Pesci convincing psychopathic powerful drug lord wants MJ dead bad beyond MJ overheard plans Nah Joe Pesci 's character ranted wanted people know supplying drugs etc dunno maybe hates MJ 's music. br br Lots cool things like MJ turning car robot whole Speed Demon sequence Also director must patience saint came filming kiddy Bad sequence usually directors hate working one kid let alone whole bunch performing complex dance scene. br br Bottom line movie people like MJ one level another think people stay away try give wholesome message ironically MJ 's bestest buddy movie girl Michael Jackson truly one talented people ever grace planet guilty Well attention 've gave subject .... hmmm well n't know people different behind closed doors know fact either extremely nice stupid guy one sickest liars hope latter\n",
            "===\n",
            "positive\n"
          ]
        }
      ],
      "source": [
        "print(reviews.iloc[0]['text_prep'])\n",
        "print(\"===\")\n",
        "print(reviews.iloc[0]['sentiment_human'])"
      ]
    },
    {
      "cell_type": "code",
      "execution_count": null,
      "metadata": {
        "colab": {
          "base_uri": "https://localhost:8080/"
        },
        "id": "bRcRB5a63ysG",
        "outputId": "1b3f16e9-d2d8-4e56-f7f1-003405288120"
      },
      "outputs": [
        {
          "name": "stdout",
          "output_type": "stream",
          "text": [
            "film starts manager Nicholas Bell giving welcome investors Robert Carradine Primal Park secret project mutating primal animal using fossilized DNA like Jurassik Park scientists resurrect one nature 's fearsome predators Sabretooth tiger Smilodon Scientific ambition turns deadly however high voltage fence opened creature escape begins savagely stalking prey human visitors tourists scientific.Meanwhile youngsters enter restricted area security center attacked pack large pre-historical animals deadlier bigger addition security agent Stacy Haiduk mate Brian Wimmer fight hardly carnivorous Smilodons Sabretooths course real star stars astounding terrifyingly though convincing giant animals savagely stalking prey group run afoul fight one nature 's fearsome predators Furthermore third Sabretooth dangerous slow stalks victims. br br movie delivers goods lots blood gore beheading hair-raising chills full scares Sabretooths appear mediocre special effects.The story provides exciting stirring entertainment results quite boring .The giant animals majority made computer generator seem totally lousy .Middling performances though players reacting appropriately becoming food.Actors give vigorously physical performances dodging beasts running bound leaps dangling walls packs ridiculous final deadly scene small kids realistic gory violent attack scenes films Sabretooths Smilodon following Sabretooth 2002 James R Hickox Vanessa Angel David Keith John Rhys Davies much better 10.000 BC 2006 Roland Emmerich Steven Strait Cliff Curtis Camilla Belle motion picture filled bloody moments badly directed George Miller originality takes many elements previous films Miller Australian director usually working television Tidal wave Journey center earth many others occasionally cinema man Snowy river Zeus Roxanne Robinson Crusoe Rating average bottom barrel\n",
            "===\n",
            "negative\n"
          ]
        }
      ],
      "source": [
        "print(reviews.iloc[2]['text_prep'])\n",
        "print(\"===\")\n",
        "print(reviews.iloc[2]['sentiment_human'])"
      ]
    },
    {
      "cell_type": "markdown",
      "metadata": {
        "id": "qSw9trv6mo7_"
      },
      "source": [
        "### Distribution of the reviews\n",
        "\n",
        "Running the code below will give us an overview of how the human sentiment is distributed among the data."
      ]
    },
    {
      "cell_type": "code",
      "execution_count": null,
      "metadata": {
        "colab": {
          "base_uri": "https://localhost:8080/",
          "height": 468
        },
        "id": "eqYWU6o73ysG",
        "outputId": "06d1010f-712e-473a-b247-93a3627e8d4d"
      },
      "outputs": [
        {
          "data": {
            "text/plain": [
              "<AxesSubplot:xlabel='sentiment_human', ylabel='count'>"
            ]
          },
          "execution_count": 41,
          "metadata": {},
          "output_type": "execute_result"
        },
        {
          "data": {
            "image/png": "[encoded data removed]",
            "text/plain": [
              "<Figure size 432x288 with 1 Axes>"
            ]
          },
          "metadata": {
            "needs_background": "light"
          },
          "output_type": "display_data"
        }
      ],
      "source": [
        "import seaborn as sns\n",
        "\n",
        "sns.countplot(data=reviews, x=\"sentiment_human\")"
      ]
    },
    {
      "cell_type": "code",
      "execution_count": null,
      "metadata": {
        "colab": {
          "base_uri": "https://localhost:8080/",
          "height": 178
        },
        "id": "A8Bp6PvJ3ysH",
        "outputId": "284888e7-a9e5-49ce-b988-3f1419b432ec"
      },
      "outputs": [
        {
          "data": {
            "text/plain": [
              "positive    2517\n",
              "negative    2483\n",
              "Name: sentiment_human, dtype: int64"
            ]
          },
          "execution_count": 42,
          "metadata": {},
          "output_type": "execute_result"
        }
      ],
      "source": [
        "#count absolute human sentiment for the reviews\n",
        "reviews[\"sentiment_human\"].value_counts()"
      ]
    },
    {
      "cell_type": "code",
      "execution_count": null,
      "metadata": {
        "colab": {
          "base_uri": "https://localhost:8080/",
          "height": 178
        },
        "id": "KlQJV7Rn3ysH",
        "outputId": "8147caa7-7bd5-4bdd-81f1-1e2fc26a8fda"
      },
      "outputs": [
        {
          "data": {
            "text/plain": [
              "positive    0.5034\n",
              "negative    0.4966\n",
              "Name: sentiment_human, dtype: float64"
            ]
          },
          "execution_count": 43,
          "metadata": {},
          "output_type": "execute_result"
        }
      ],
      "source": [
        "#calculate the relative human sentiment for the reviews\n",
        "reviews[\"sentiment_human\"].value_counts()/reviews.shape[0]"
      ]
    },
    {
      "cell_type": "markdown",
      "metadata": {
        "id": "2Q5bhzPamo7_"
      },
      "source": [
        "### Determine the sentiment with the model on the reviews"
      ]
    },
    {
      "cell_type": "markdown",
      "metadata": {
        "id": "P_E6t2Ktmo7_"
      },
      "source": [
        "The code below retrieves preprocessed text (text_prep) from the data (X) and uses VADER's polarity_scores to compute sentiment scores (neg, neu, pos, compound) for one specific review. This will give us some insights on how VADER works."
      ]
    },
    {
      "cell_type": "code",
      "execution_count": null,
      "metadata": {
        "colab": {
          "base_uri": "https://localhost:8080/"
        },
        "id": "zSL9weKa3ysH",
        "outputId": "a0e30bc4-1076-4d68-edd3-fc241d650dcb"
      },
      "outputs": [
        {
          "name": "stdout",
          "output_type": "stream",
          "text": [
            "'' Classic War Worlds\\ '' Timothy Hines entertaining film obviously goes great effort lengths faithfully recreate H. G. Wells classic book Mr. Hines succeeds watched film appreciated fact standard predictable Hollywood fare comes every year e.g Spielberg version Tom Cruise slightest resemblance book Obviously everyone looks different things movie envision amateur '' critics\\ '' look criticize everything Others rate movie important bases like entertained people never agree '' critics\\ '' enjoyed effort Mr. Hines put faithful H.G Wells classic novel found entertaining made easy overlook '' critics\\ '' perceive shortcomings\n"
          ]
        },
        {
          "data": {
            "text/plain": [
              "{'neg': 0.104, 'neu': 0.55, 'pos': 0.347, 'compound': 0.9808}"
            ]
          },
          "execution_count": 44,
          "metadata": {},
          "output_type": "execute_result"
        }
      ],
      "source": [
        "print(reviews.iloc[1][\"text_prep\"])\n",
        "vader_sa_classifier.polarity_scores(reviews.iloc[1][\"text_prep\"])"
      ]
    },
    {
      "cell_type": "code",
      "execution_count": null,
      "metadata": {
        "id": "l_z4772Wmo7_",
        "outputId": "eb9f8cbf-24e0-4316-b993-cc5ad3949110"
      },
      "outputs": [
        {
          "name": "stdout",
          "output_type": "stream",
          "text": [
            "positive\n"
          ]
        }
      ],
      "source": [
        "#print the human sentiment for this review\n",
        "print(reviews.iloc[1][\"sentiment_human\"])"
      ]
    },
    {
      "cell_type": "markdown",
      "metadata": {
        "id": "ACMcHrUAmo8A"
      },
      "source": [
        "The code below now predicts the sentiment based reviews. Therefore the code iterates through each row of the dataset (X), calculates sentiment scores using VADER's polarity_scores on the preprocessed text (text_prep), classifies the sentiment as \"positive\" (if compound > 0) or \"negative\" otherwise, and stores the results in the y_vader list."
      ]
    },
    {
      "cell_type": "code",
      "execution_count": null,
      "metadata": {
        "id": "O2Y5IPYq3ysH"
      },
      "outputs": [],
      "source": [
        "sentiment_vader = []\n",
        "for index, row in reviews.iterrows():\n",
        "    vs = vader_sa_classifier.polarity_scores(row[\"text_prep\"])\n",
        "    if vs[\"compound\"] > 0:\n",
        "      sentiment = \"positive\"\n",
        "    else:\n",
        "      sentiment = \"negative\"\n",
        "    sentiment_vader.append(sentiment)"
      ]
    },
    {
      "cell_type": "code",
      "execution_count": null,
      "metadata": {
        "id": "gvFd6xrTmo8A",
        "outputId": "729a2fe4-e26c-4c18-a063-bceef36c66eb"
      },
      "outputs": [
        {
          "name": "stdout",
          "output_type": "stream",
          "text": [
            "Negative Sentiment Vader: 1534\n",
            "Positive Sentiment Vader: 3466\n"
          ]
        }
      ],
      "source": [
        "#count values for positive and negative sentiment\n",
        "negative_sentiment_vader=sentiment_vader.count(\"negative\")\n",
        "positive_sentiment_vader=sentiment_vader.count(\"positive\")\n",
        "print(\"Negative Sentiment Vader:\",negative_sentiment_vader)\n",
        "print(\"Positive Sentiment Vader:\",positive_sentiment_vader)"
      ]
    },
    {
      "cell_type": "code",
      "execution_count": null,
      "metadata": {
        "colab": {
          "base_uri": "https://localhost:8080/"
        },
        "id": "tU3umkuC3ysH",
        "outputId": "bd126139-cc2b-4e57-aeee-a1cde0dfcea0"
      },
      "outputs": [
        {
          "data": {
            "text/plain": [
              "['negative',\n",
              " 'positive',\n",
              " 'negative',\n",
              " 'positive',\n",
              " 'positive',\n",
              " 'positive',\n",
              " 'negative',\n",
              " 'negative',\n",
              " 'positive',\n",
              " 'positive']"
            ]
          },
          "execution_count": 48,
          "metadata": {},
          "output_type": "execute_result"
        }
      ],
      "source": [
        "sentiment_vader[0:10]"
      ]
    },
    {
      "cell_type": "markdown",
      "metadata": {
        "id": "HR-K5BqOmo8A"
      },
      "source": [
        "### Evaluate accuracy with human sentiment lables as ground truth"
      ]
    },
    {
      "cell_type": "markdown",
      "metadata": {
        "id": "e3ao2mzJmo8A"
      },
      "source": [
        "Since the task at hand is classification (the only difference lies in the type of input data) we can evaluate our model in the same way as we did before.\n",
        "\n",
        "Run the code below."
      ]
    },
    {
      "cell_type": "code",
      "execution_count": null,
      "metadata": {
        "colab": {
          "base_uri": "https://localhost:8080/"
        },
        "id": "p-5dhNB23ysH",
        "outputId": "10bba03f-2996-4ad5-ede3-b63c28ea53f8"
      },
      "outputs": [
        {
          "name": "stdout",
          "output_type": "stream",
          "text": [
            "Accuracy (Vader): 0.687\n"
          ]
        },
        {
          "data": {
            "text/plain": [
              "<sklearn.metrics._plot.confusion_matrix.ConfusionMatrixDisplay at 0x15f57ddc0>"
            ]
          },
          "execution_count": 49,
          "metadata": {},
          "output_type": "execute_result"
        },
        {
          "data": {
            "image/png": "[encoded data removed]",
            "text/plain": [
              "<Figure size 432x288 with 2 Axes>"
            ]
          },
          "metadata": {
            "needs_background": "light"
          },
          "output_type": "display_data"
        }
      ],
      "source": [
        "# Calculate Accuracy\n",
        "accuracy_vader = accuracy_score(reviews['sentiment_human'], sentiment_vader)\n",
        "print(\"Accuracy (Vader):\", accuracy_vader)\n",
        "\n",
        "# Create the confusion matrix\n",
        "ConfusionMatrixDisplay.from_predictions(reviews['sentiment_human'], sentiment_vader)"
      ]
    },
    {
      "cell_type": "markdown",
      "metadata": {
        "id": "ALXHLA4Vmo8A"
      },
      "source": [
        "## Summary\n",
        "So to sum it up let us have a look what we did in this week's tutorial:\n",
        "\n",
        "* First, we had a look at the necessary preprocessing steps (tokenization, unwanted character removal, stemming, stopword removal) needed to transform text into a more structured form.\n",
        "* Secondly we performed dictionary-based sentiment analysis where we looked up the sentiment of each token in a dict and aggregated the scores in order to decide whether a review is positive or negative.\n",
        "* Lastly we used known evaluation metrics for classification to evaluate our model.\n",
        "* Additionaly we had a little excursion of using the pre-trained VADER model and evaluating the performance.\n",
        "\n",
        "\n",
        "You can use the cell below to perform and evaluate different sentiment analyses"
      ]
    },
    {
      "cell_type": "code",
      "execution_count": 14,
      "metadata": {
        "colab": {
          "base_uri": "https://localhost:8080/",
          "height": 553
        },
        "id": "XAt-D2p0mo8A",
        "outputId": "8268b707-d400-40de-94d1-32b1597786e2"
      },
      "outputs": [
        {
          "output_type": "stream",
          "name": "stderr",
          "text": [
            "[nltk_data] Downloading package punkt to /root/nltk_data...\n",
            "[nltk_data]   Package punkt is already up-to-date!\n",
            "[nltk_data] Downloading package stopwords to /root/nltk_data...\n",
            "[nltk_data]   Package stopwords is already up-to-date!\n"
          ]
        },
        {
          "output_type": "stream",
          "name": "stdout",
          "text": [
            "Accuracy (NRC - no stemming, threshold -0.5): 0.6306\n"
          ]
        },
        {
          "output_type": "execute_result",
          "data": {
            "text/plain": [
              "<sklearn.metrics._plot.confusion_matrix.ConfusionMatrixDisplay at 0x7c26e4b66620>"
            ]
          },
          "metadata": {},
          "execution_count": 14
        },
        {
          "output_type": "display_data",
          "data": {
            "text/plain": [
              "<Figure size 640x480 with 2 Axes>"
            ],
            "image/png": "[encoded data removed]"
          },
          "metadata": {}
        }
      ],
      "source": [
        "# prompt: - Nutzen Sie für die Aufgabe das NRC Sentiment Dictionary.\n",
        "# - Nutzen Sie eine NLP-Pipeline in der die Reviews nur tokenisiert werden, jedoch nicht gestemmed und die Stopwörter und die Punctuation nicht entfernt werden.\n",
        "# - Nutzen Sie die nicht gestemmten Token aus dem Dictionary zu Ermittlung des Sentiment Scores.\n",
        "# - Setzen Sie den Grenzwert für die algorithmische Zuordnung der positiv und negativ Labels auf -0.5 für die nicht skalierten Ergebnisse.\n",
        "# - Berechnen Sie die Accuracy der Klassifikation.\n",
        "# - Erstellen Sie eine Confusion Matrix.\n",
        "\n",
        "import nltk\n",
        "nltk.download('punkt')\n",
        "nltk.download('stopwords')\n",
        "\n",
        "# Import accuracy_score and ConfusionMatrixDisplay\n",
        "from sklearn.metrics import accuracy_score\n",
        "from sklearn.metrics import ConfusionMatrixDisplay\n",
        "\n",
        "\n",
        "def preprocess_no_stem(text):\n",
        "    tokens = nltk.word_tokenize(text)\n",
        "    return tokens\n",
        "\n",
        "reviews['tokens'] = reviews['text'].apply(preprocess_no_stem)\n",
        "\n",
        "#Use the preprocessed reviews as input, which we saved as \"tokens\" in our data, to perform the lookup\n",
        "reviews_toks_nostemmed = reviews['tokens']\n",
        "\n",
        "# Perform lookup with unstemmed dictionary\n",
        "results_no_stem = [sentiment_lookup(review, sentiment_dict, stemmed_dict=False) for review in reviews_toks_nostemmed]\n",
        "df_results_no_stem = pd.DataFrame(results_no_stem, columns=['positive_count', 'negative_count'])\n",
        "\n",
        "df_results_no_stem['sentiment_algo_score'] = df_results_no_stem['positive_count'] - df_results_no_stem['negative_count']\n",
        "\n",
        "df_results_no_stem['sentiment_algo_scaled'] = df_results_no_stem['sentiment_algo_score'] / (df_results_no_stem['positive_count'] + df_results_no_stem['negative_count'])\n",
        "df_results_no_stem.fillna({'sentiment_algo_scaled': 0}, inplace=True)\n",
        "\n",
        "df_results_no_stem['sentiment_algo_binary'] = ['positive' if x > -0.5 else 'negative' for x in df_results_no_stem['sentiment_algo_score']]\n",
        "\n",
        "reviews_df_sent, results_df_bin_no_stem = pd.DataFrame(reviews['sentiment_human']), pd.DataFrame(df_results_no_stem['sentiment_algo_binary'])\n",
        "\n",
        "#Compute accuracy\n",
        "accuracy_nrc_no_stem = accuracy_score(reviews_df_sent['sentiment_human'], results_df_bin_no_stem['sentiment_algo_binary'])\n",
        "print(\"Accuracy (NRC - no stemming, threshold -0.5):\", accuracy_nrc_no_stem)\n",
        "\n",
        "#Compute confusion matrix of human sentiment and algorithm sentiment\n",
        "ConfusionMatrixDisplay.from_predictions(reviews_df_sent['sentiment_human'], results_df_bin_no_stem['sentiment_algo_binary'])"
      ]
    }
  ],
  "metadata": {
    "colab": {
      "provenance": []
    },
    "kernelspec": {
      "display_name": "base",
      "language": "python",
      "name": "python3"
    },
    "language_info": {
      "codemirror_mode": {
        "name": "ipython",
        "version": 3
      },
      "file_extension": ".py",
      "mimetype": "text/x-python",
      "name": "python",
      "nbconvert_exporter": "python",
      "pygments_lexer": "ipython3",
      "version": "3.9.12"
    }
  },
  "nbformat": 4,
  "nbformat_minor": 0
}