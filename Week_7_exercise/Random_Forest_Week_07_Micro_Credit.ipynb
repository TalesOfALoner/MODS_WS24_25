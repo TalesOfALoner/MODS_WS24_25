{
  "cells": [
    {
      "cell_type": "markdown",
      "metadata": {
        "id": "I_bHIxggTKKK"
      },
      "source": [
        "# Random Forest - Week 07 - Micro Credit\n",
        "\n",
        "Last week we introduced decision trees, which we used to predict credit approvals. This week we will extend the basic decision trees by two powerful ideas.  \n",
        "First we will have a look at __Bagging__ and then at __Random Forests__. Afterwards __Hyperparameter Tuning__ will be demonstrated and last but not least we will examine __Permutation based feature importance__ as an interpretability approach."
      ]
    },
    {
      "cell_type": "code",
      "execution_count": 1,
      "metadata": {
        "id": "i685963UTKKL"
      },
      "outputs": [],
      "source": [
        "# Imports\n",
        "import numpy as np\n",
        "import random\n",
        "# Set seed for reproducibility\n",
        "np.random.seed(42)  # Set seed for NumPy\n",
        "random.seed(42) # Set seed for random module"
      ]
    },
    {
      "cell_type": "markdown",
      "metadata": {
        "id": "DfFAzZb5TKKL"
      },
      "source": [
        "## Load Data"
      ]
    },
    {
      "cell_type": "code",
      "execution_count": 2,
      "metadata": {
        "id": "JHHZdSUwTKKM"
      },
      "outputs": [],
      "source": [
        "import pandas as pd\n",
        "# Load the data\n",
        "data = pd.read_csv(\"https://raw.githubusercontent.com/kbrennig/MODS_WS24_25/refs/heads/main/data/MicroCredit.csv\")"
      ]
    },
    {
      "cell_type": "markdown",
      "metadata": {
        "id": "WozQI7lmTKKM"
      },
      "source": [
        "## Explore data\n",
        "\n",
        "First let's have a look at the raw data.\n",
        "\n",
        "*Run the code below.*"
      ]
    },
    {
      "cell_type": "code",
      "execution_count": 3,
      "metadata": {
        "id": "oO9PPev_TKKM",
        "outputId": "2e1cf69e-f03a-4915-eb6c-efca9cf505a5",
        "colab": {
          "base_uri": "https://localhost:8080/",
          "height": 429
        }
      },
      "outputs": [
        {
          "output_type": "execute_result",
          "data": {
            "text/plain": [
              "                ID  Decision     Build_Selfcon  Tier Accommodation_Class  \\\n",
              "0  FBD-E2B0-588300         1  Self Contruction     2          Non_Rented   \n",
              "1  GUJ-A79X-831476         0  Self Contruction     1          Non_Rented   \n",
              "2  SHB-947O-759226         1  Self Contruction     3              Rented   \n",
              "3  SHB-7S3I-679761         1  Self Contruction     3          Non_Rented   \n",
              "4  VAD-BPKZ-551476         0  Self Contruction     2          Non_Rented   \n",
              "\n",
              "   Loan_Type  Gender Employment_Type Doc_Proof_Inc Marital_Status  ...  \\\n",
              "0  Home_Loan  Female        Salaried             N        Married  ...   \n",
              "1  Home_Loan  Female   Self_Employed             N        Married  ...   \n",
              "2  Home_Loan  Female        Salaried             N        Married  ...   \n",
              "3  Home_Loan  Female   Self_Employed             N        Married  ...   \n",
              "4  Home_Loan  Female   Self_Employed             N        Married  ...   \n",
              "\n",
              "   LoanReq Term  Dwnpay  BankSave       CalcEmi        IIR        IAR  \\\n",
              "0   780000  180  670000         0  12004.230470  34.999797  45.000114   \n",
              "1   800000  180  470000         0  12312.030270  49.248121  75.533928   \n",
              "2   480000  120  120000    300000   8342.290039  41.999144  79.998946   \n",
              "3   300000  180   95000         0   4617.009766  30.999126  84.996498   \n",
              "4  1000000  180  375000         0  15390.040040  45.000117  57.999020   \n",
              "\n",
              "        FOIR        LTV        LVR  \n",
              "0  34.999797  80.000000  54.000000  \n",
              "1  49.248121  62.992126  62.992126  \n",
              "2  41.999144  78.999992  80.000000  \n",
              "3  30.999126  20.000000  76.000000  \n",
              "4  45.000117  73.000001  73.000000  \n",
              "\n",
              "[5 rows x 34 columns]"
            ],
            "text/html": [
              "\n",
              "  <div id=\"df-e3def302-6de2-4631-8e03-fb4ef6d12c80\" class=\"colab-df-container\">\n",
              "    <div>\n",
              "<style scoped>\n",
              "    .dataframe tbody tr th:only-of-type {\n",
              "        vertical-align: middle;\n",
              "    }\n",
              "\n",
              "    .dataframe tbody tr th {\n",
              "        vertical-align: top;\n",
              "    }\n",
              "\n",
              "    .dataframe thead th {\n",
              "        text-align: right;\n",
              "    }\n",
              "</style>\n",
              "<table border=\"1\" class=\"dataframe\">\n",
              "  <thead>\n",
              "    <tr style=\"text-align: right;\">\n",
              "      <th></th>\n",
              "      <th>ID</th>\n",
              "      <th>Decision</th>\n",
              "      <th>Build_Selfcon</th>\n",
              "      <th>Tier</th>\n",
              "      <th>Accommodation_Class</th>\n",
              "      <th>Loan_Type</th>\n",
              "      <th>Gender</th>\n",
              "      <th>Employment_Type</th>\n",
              "      <th>Doc_Proof_Inc</th>\n",
              "      <th>Marital_Status</th>\n",
              "      <th>...</th>\n",
              "      <th>LoanReq</th>\n",
              "      <th>Term</th>\n",
              "      <th>Dwnpay</th>\n",
              "      <th>BankSave</th>\n",
              "      <th>CalcEmi</th>\n",
              "      <th>IIR</th>\n",
              "      <th>IAR</th>\n",
              "      <th>FOIR</th>\n",
              "      <th>LTV</th>\n",
              "      <th>LVR</th>\n",
              "    </tr>\n",
              "  </thead>\n",
              "  <tbody>\n",
              "    <tr>\n",
              "      <th>0</th>\n",
              "      <td>FBD-E2B0-588300</td>\n",
              "      <td>1</td>\n",
              "      <td>Self Contruction</td>\n",
              "      <td>2</td>\n",
              "      <td>Non_Rented</td>\n",
              "      <td>Home_Loan</td>\n",
              "      <td>Female</td>\n",
              "      <td>Salaried</td>\n",
              "      <td>N</td>\n",
              "      <td>Married</td>\n",
              "      <td>...</td>\n",
              "      <td>780000</td>\n",
              "      <td>180</td>\n",
              "      <td>670000</td>\n",
              "      <td>0</td>\n",
              "      <td>12004.230470</td>\n",
              "      <td>34.999797</td>\n",
              "      <td>45.000114</td>\n",
              "      <td>34.999797</td>\n",
              "      <td>80.000000</td>\n",
              "      <td>54.000000</td>\n",
              "    </tr>\n",
              "    <tr>\n",
              "      <th>1</th>\n",
              "      <td>GUJ-A79X-831476</td>\n",
              "      <td>0</td>\n",
              "      <td>Self Contruction</td>\n",
              "      <td>1</td>\n",
              "      <td>Non_Rented</td>\n",
              "      <td>Home_Loan</td>\n",
              "      <td>Female</td>\n",
              "      <td>Self_Employed</td>\n",
              "      <td>N</td>\n",
              "      <td>Married</td>\n",
              "      <td>...</td>\n",
              "      <td>800000</td>\n",
              "      <td>180</td>\n",
              "      <td>470000</td>\n",
              "      <td>0</td>\n",
              "      <td>12312.030270</td>\n",
              "      <td>49.248121</td>\n",
              "      <td>75.533928</td>\n",
              "      <td>49.248121</td>\n",
              "      <td>62.992126</td>\n",
              "      <td>62.992126</td>\n",
              "    </tr>\n",
              "    <tr>\n",
              "      <th>2</th>\n",
              "      <td>SHB-947O-759226</td>\n",
              "      <td>1</td>\n",
              "      <td>Self Contruction</td>\n",
              "      <td>3</td>\n",
              "      <td>Rented</td>\n",
              "      <td>Home_Loan</td>\n",
              "      <td>Female</td>\n",
              "      <td>Salaried</td>\n",
              "      <td>N</td>\n",
              "      <td>Married</td>\n",
              "      <td>...</td>\n",
              "      <td>480000</td>\n",
              "      <td>120</td>\n",
              "      <td>120000</td>\n",
              "      <td>300000</td>\n",
              "      <td>8342.290039</td>\n",
              "      <td>41.999144</td>\n",
              "      <td>79.998946</td>\n",
              "      <td>41.999144</td>\n",
              "      <td>78.999992</td>\n",
              "      <td>80.000000</td>\n",
              "    </tr>\n",
              "    <tr>\n",
              "      <th>3</th>\n",
              "      <td>SHB-7S3I-679761</td>\n",
              "      <td>1</td>\n",
              "      <td>Self Contruction</td>\n",
              "      <td>3</td>\n",
              "      <td>Non_Rented</td>\n",
              "      <td>Home_Loan</td>\n",
              "      <td>Female</td>\n",
              "      <td>Self_Employed</td>\n",
              "      <td>N</td>\n",
              "      <td>Married</td>\n",
              "      <td>...</td>\n",
              "      <td>300000</td>\n",
              "      <td>180</td>\n",
              "      <td>95000</td>\n",
              "      <td>0</td>\n",
              "      <td>4617.009766</td>\n",
              "      <td>30.999126</td>\n",
              "      <td>84.996498</td>\n",
              "      <td>30.999126</td>\n",
              "      <td>20.000000</td>\n",
              "      <td>76.000000</td>\n",
              "    </tr>\n",
              "    <tr>\n",
              "      <th>4</th>\n",
              "      <td>VAD-BPKZ-551476</td>\n",
              "      <td>0</td>\n",
              "      <td>Self Contruction</td>\n",
              "      <td>2</td>\n",
              "      <td>Non_Rented</td>\n",
              "      <td>Home_Loan</td>\n",
              "      <td>Female</td>\n",
              "      <td>Self_Employed</td>\n",
              "      <td>N</td>\n",
              "      <td>Married</td>\n",
              "      <td>...</td>\n",
              "      <td>1000000</td>\n",
              "      <td>180</td>\n",
              "      <td>375000</td>\n",
              "      <td>0</td>\n",
              "      <td>15390.040040</td>\n",
              "      <td>45.000117</td>\n",
              "      <td>57.999020</td>\n",
              "      <td>45.000117</td>\n",
              "      <td>73.000001</td>\n",
              "      <td>73.000000</td>\n",
              "    </tr>\n",
              "  </tbody>\n",
              "</table>\n",
              "<p>5 rows × 34 columns</p>\n",
              "</div>\n",
              "    <div class=\"colab-df-buttons\">\n",
              "\n",
              "  <div class=\"colab-df-container\">\n",
              "    <button class=\"colab-df-convert\" onclick=\"convertToInteractive('df-e3def302-6de2-4631-8e03-fb4ef6d12c80')\"\n",
              "            title=\"Convert this dataframe to an interactive table.\"\n",
              "            style=\"display:none;\">\n",
              "\n",
              "  <svg xmlns=\"http://www.w3.org/2000/svg\" height=\"24px\" viewBox=\"0 -960 960 960\">\n",
              "    <path d=\"M120-120v-720h720v720H120Zm60-500h600v-160H180v160Zm220 220h160v-160H400v160Zm0 220h160v-160H400v160ZM180-400h160v-160H180v160Zm440 0h160v-160H620v160ZM180-180h160v-160H180v160Zm440 0h160v-160H620v160Z\"/>\n",
              "  </svg>\n",
              "    </button>\n",
              "\n",
              "  <style>\n",
              "    .colab-df-container {\n",
              "      display:flex;\n",
              "      gap: 12px;\n",
              "    }\n",
              "\n",
              "    .colab-df-convert {\n",
              "      background-color: #E8F0FE;\n",
              "      border: none;\n",
              "      border-radius: 50%;\n",
              "      cursor: pointer;\n",
              "      display: none;\n",
              "      fill: #1967D2;\n",
              "      height: 32px;\n",
              "      padding: 0 0 0 0;\n",
              "      width: 32px;\n",
              "    }\n",
              "\n",
              "    .colab-df-convert:hover {\n",
              "      background-color: #E2EBFA;\n",
              "      box-shadow: 0px 1px 2px rgba(60, 64, 67, 0.3), 0px 1px 3px 1px rgba(60, 64, 67, 0.15);\n",
              "      fill: #174EA6;\n",
              "    }\n",
              "\n",
              "    .colab-df-buttons div {\n",
              "      margin-bottom: 4px;\n",
              "    }\n",
              "\n",
              "    [theme=dark] .colab-df-convert {\n",
              "      background-color: #3B4455;\n",
              "      fill: #D2E3FC;\n",
              "    }\n",
              "\n",
              "    [theme=dark] .colab-df-convert:hover {\n",
              "      background-color: #434B5C;\n",
              "      box-shadow: 0px 1px 3px 1px rgba(0, 0, 0, 0.15);\n",
              "      filter: drop-shadow(0px 1px 2px rgba(0, 0, 0, 0.3));\n",
              "      fill: #FFFFFF;\n",
              "    }\n",
              "  </style>\n",
              "\n",
              "    <script>\n",
              "      const buttonEl =\n",
              "        document.querySelector('#df-e3def302-6de2-4631-8e03-fb4ef6d12c80 button.colab-df-convert');\n",
              "      buttonEl.style.display =\n",
              "        google.colab.kernel.accessAllowed ? 'block' : 'none';\n",
              "\n",
              "      async function convertToInteractive(key) {\n",
              "        const element = document.querySelector('#df-e3def302-6de2-4631-8e03-fb4ef6d12c80');\n",
              "        const dataTable =\n",
              "          await google.colab.kernel.invokeFunction('convertToInteractive',\n",
              "                                                    [key], {});\n",
              "        if (!dataTable) return;\n",
              "\n",
              "        const docLinkHtml = 'Like what you see? Visit the ' +\n",
              "          '<a target=\"_blank\" href=https://colab.research.google.com/notebooks/data_table.ipynb>data table notebook</a>'\n",
              "          + ' to learn more about interactive tables.';\n",
              "        element.innerHTML = '';\n",
              "        dataTable['output_type'] = 'display_data';\n",
              "        await google.colab.output.renderOutput(dataTable, element);\n",
              "        const docLink = document.createElement('div');\n",
              "        docLink.innerHTML = docLinkHtml;\n",
              "        element.appendChild(docLink);\n",
              "      }\n",
              "    </script>\n",
              "  </div>\n",
              "\n",
              "\n",
              "<div id=\"df-ce57eff6-acf2-4ebd-9ed9-b2a7ac51b1fa\">\n",
              "  <button class=\"colab-df-quickchart\" onclick=\"quickchart('df-ce57eff6-acf2-4ebd-9ed9-b2a7ac51b1fa')\"\n",
              "            title=\"Suggest charts\"\n",
              "            style=\"display:none;\">\n",
              "\n",
              "<svg xmlns=\"http://www.w3.org/2000/svg\" height=\"24px\"viewBox=\"0 0 24 24\"\n",
              "     width=\"24px\">\n",
              "    <g>\n",
              "        <path d=\"M19 3H5c-1.1 0-2 .9-2 2v14c0 1.1.9 2 2 2h14c1.1 0 2-.9 2-2V5c0-1.1-.9-2-2-2zM9 17H7v-7h2v7zm4 0h-2V7h2v10zm4 0h-2v-4h2v4z\"/>\n",
              "    </g>\n",
              "</svg>\n",
              "  </button>\n",
              "\n",
              "<style>\n",
              "  .colab-df-quickchart {\n",
              "      --bg-color: #E8F0FE;\n",
              "      --fill-color: #1967D2;\n",
              "      --hover-bg-color: #E2EBFA;\n",
              "      --hover-fill-color: #174EA6;\n",
              "      --disabled-fill-color: #AAA;\n",
              "      --disabled-bg-color: #DDD;\n",
              "  }\n",
              "\n",
              "  [theme=dark] .colab-df-quickchart {\n",
              "      --bg-color: #3B4455;\n",
              "      --fill-color: #D2E3FC;\n",
              "      --hover-bg-color: #434B5C;\n",
              "      --hover-fill-color: #FFFFFF;\n",
              "      --disabled-bg-color: #3B4455;\n",
              "      --disabled-fill-color: #666;\n",
              "  }\n",
              "\n",
              "  .colab-df-quickchart {\n",
              "    background-color: var(--bg-color);\n",
              "    border: none;\n",
              "    border-radius: 50%;\n",
              "    cursor: pointer;\n",
              "    display: none;\n",
              "    fill: var(--fill-color);\n",
              "    height: 32px;\n",
              "    padding: 0;\n",
              "    width: 32px;\n",
              "  }\n",
              "\n",
              "  .colab-df-quickchart:hover {\n",
              "    background-color: var(--hover-bg-color);\n",
              "    box-shadow: 0 1px 2px rgba(60, 64, 67, 0.3), 0 1px 3px 1px rgba(60, 64, 67, 0.15);\n",
              "    fill: var(--button-hover-fill-color);\n",
              "  }\n",
              "\n",
              "  .colab-df-quickchart-complete:disabled,\n",
              "  .colab-df-quickchart-complete:disabled:hover {\n",
              "    background-color: var(--disabled-bg-color);\n",
              "    fill: var(--disabled-fill-color);\n",
              "    box-shadow: none;\n",
              "  }\n",
              "\n",
              "  .colab-df-spinner {\n",
              "    border: 2px solid var(--fill-color);\n",
              "    border-color: transparent;\n",
              "    border-bottom-color: var(--fill-color);\n",
              "    animation:\n",
              "      spin 1s steps(1) infinite;\n",
              "  }\n",
              "\n",
              "  @keyframes spin {\n",
              "    0% {\n",
              "      border-color: transparent;\n",
              "      border-bottom-color: var(--fill-color);\n",
              "      border-left-color: var(--fill-color);\n",
              "    }\n",
              "    20% {\n",
              "      border-color: transparent;\n",
              "      border-left-color: var(--fill-color);\n",
              "      border-top-color: var(--fill-color);\n",
              "    }\n",
              "    30% {\n",
              "      border-color: transparent;\n",
              "      border-left-color: var(--fill-color);\n",
              "      border-top-color: var(--fill-color);\n",
              "      border-right-color: var(--fill-color);\n",
              "    }\n",
              "    40% {\n",
              "      border-color: transparent;\n",
              "      border-right-color: var(--fill-color);\n",
              "      border-top-color: var(--fill-color);\n",
              "    }\n",
              "    60% {\n",
              "      border-color: transparent;\n",
              "      border-right-color: var(--fill-color);\n",
              "    }\n",
              "    80% {\n",
              "      border-color: transparent;\n",
              "      border-right-color: var(--fill-color);\n",
              "      border-bottom-color: var(--fill-color);\n",
              "    }\n",
              "    90% {\n",
              "      border-color: transparent;\n",
              "      border-bottom-color: var(--fill-color);\n",
              "    }\n",
              "  }\n",
              "</style>\n",
              "\n",
              "  <script>\n",
              "    async function quickchart(key) {\n",
              "      const quickchartButtonEl =\n",
              "        document.querySelector('#' + key + ' button');\n",
              "      quickchartButtonEl.disabled = true;  // To prevent multiple clicks.\n",
              "      quickchartButtonEl.classList.add('colab-df-spinner');\n",
              "      try {\n",
              "        const charts = await google.colab.kernel.invokeFunction(\n",
              "            'suggestCharts', [key], {});\n",
              "      } catch (error) {\n",
              "        console.error('Error during call to suggestCharts:', error);\n",
              "      }\n",
              "      quickchartButtonEl.classList.remove('colab-df-spinner');\n",
              "      quickchartButtonEl.classList.add('colab-df-quickchart-complete');\n",
              "    }\n",
              "    (() => {\n",
              "      let quickchartButtonEl =\n",
              "        document.querySelector('#df-ce57eff6-acf2-4ebd-9ed9-b2a7ac51b1fa button');\n",
              "      quickchartButtonEl.style.display =\n",
              "        google.colab.kernel.accessAllowed ? 'block' : 'none';\n",
              "    })();\n",
              "  </script>\n",
              "</div>\n",
              "\n",
              "    </div>\n",
              "  </div>\n"
            ],
            "application/vnd.google.colaboratory.intrinsic+json": {
              "type": "dataframe",
              "variable_name": "data"
            }
          },
          "metadata": {},
          "execution_count": 3
        }
      ],
      "source": [
        "data.head()"
      ]
    },
    {
      "cell_type": "code",
      "execution_count": 4,
      "metadata": {
        "id": "mU2e4TkZTKKM",
        "outputId": "bced593c-b5cc-4681-b5e5-b2c394c3ccb0",
        "colab": {
          "base_uri": "https://localhost:8080/",
          "height": 1000
        }
      },
      "outputs": [
        {
          "output_type": "stream",
          "name": "stdout",
          "text": [
            "          Decision         Tier       eom_25     OldEmi_d   BankSave_d  \\\n",
            "count  1256.000000  1256.000000  1256.000000  1256.000000  1256.000000   \n",
            "mean      0.799363     1.980096     0.216561     0.132962     0.118631   \n",
            "std       0.400636     0.793651     0.412065     0.339669     0.323482   \n",
            "min       0.000000     1.000000     0.000000     0.000000     0.000000   \n",
            "25%       1.000000     1.000000     0.000000     0.000000     0.000000   \n",
            "50%       1.000000     2.000000     0.000000     0.000000     0.000000   \n",
            "75%       1.000000     3.000000     0.000000     0.000000     0.000000   \n",
            "max       1.000000     3.000000     1.000000     1.000000     1.000000   \n",
            "\n",
            "               Age       YrsAdd       YrsJob         Expen         TotInc  \\\n",
            "count  1256.000000  1256.000000  1256.000000   1256.000000    1256.000000   \n",
            "mean     37.726115     9.933917    10.883758  11946.937102   29911.050955   \n",
            "std       8.458466    10.575304     7.974213   7390.216194   18748.496342   \n",
            "min      22.000000     0.000000     0.000000   1148.000000    7000.000000   \n",
            "25%      31.000000     2.000000     4.000000   7687.750000   18843.750000   \n",
            "50%      37.000000     5.000000    10.000000  10185.500000   25127.000000   \n",
            "75%      43.000000    15.000000    15.000000  13811.250000   35177.000000   \n",
            "max      63.000000    61.000000    60.000000  71820.000000  219858.000000   \n",
            "\n",
            "       ...         LoanReq         Term        Dwnpay      BankSave  \\\n",
            "count  ...     1256.000000  1256.000000  1.256000e+03  1.256000e+03   \n",
            "mean   ...   592793.544586   160.056529  3.870431e+05  2.440344e+04   \n",
            "std    ...   234355.115163    36.912527  3.405127e+05  1.346137e+05   \n",
            "min    ...    76000.000000    15.000000  0.000000e+00  0.000000e+00   \n",
            "25%    ...   400000.000000   166.500000  2.000000e+05  0.000000e+00   \n",
            "50%    ...   600000.000000   180.000000  3.000000e+05  0.000000e+00   \n",
            "75%    ...   800000.000000   180.000000  5.000000e+05  0.000000e+00   \n",
            "max    ...  1000000.000000   180.000000  3.500000e+06  2.000000e+06   \n",
            "\n",
            "            CalcEmi          IIR          IAR         FOIR          LTV  \\\n",
            "count   1256.000000  1256.000000  1256.000000  1256.000000  1256.000000   \n",
            "mean    9602.348968    35.555121    64.700303    37.542734    56.684440   \n",
            "std     3566.958411    10.616165    21.637883    10.693173    21.948730   \n",
            "min      960.130005     4.000042     4.999896     4.000042     8.000000   \n",
            "25%     6925.520020    28.000544    49.000382    30.999096    42.000007   \n",
            "50%     9234.030273    36.000524    67.000605    39.000218    57.000031   \n",
            "75%    12312.030270    44.000458    82.001492    46.000401    71.000035   \n",
            "max    19882.060550    62.000354    99.999126    73.250858   222.222222   \n",
            "\n",
            "               LVR  \n",
            "count  1256.000000  \n",
            "mean     63.160097  \n",
            "std      21.863486  \n",
            "min       0.000000  \n",
            "25%      51.000000  \n",
            "50%      67.000000  \n",
            "75%      76.000000  \n",
            "max     222.222229  \n",
            "\n",
            "[8 rows x 23 columns]\n"
          ]
        },
        {
          "output_type": "execute_result",
          "data": {
            "text/plain": [
              "ID                       object\n",
              "Decision                  int64\n",
              "Build_Selfcon            object\n",
              "Tier                      int64\n",
              "Accommodation_Class      object\n",
              "Loan_Type                object\n",
              "Gender                   object\n",
              "Employment_Type          object\n",
              "Doc_Proof_Inc            object\n",
              "Marital_Status           object\n",
              "Employer_Type            object\n",
              "Education_Class          object\n",
              "Mode_of_origin_class     object\n",
              "eom_25                    int64\n",
              "OldEmi_d                  int64\n",
              "BankSave_d                int64\n",
              "Age                       int64\n",
              "YrsAdd                    int64\n",
              "YrsJob                    int64\n",
              "Expen                     int64\n",
              "TotInc                    int64\n",
              "DispInc                   int64\n",
              "MarVal                    int64\n",
              "OldEmi                    int64\n",
              "LoanReq                   int64\n",
              "Term                      int64\n",
              "Dwnpay                    int64\n",
              "BankSave                  int64\n",
              "CalcEmi                 float64\n",
              "IIR                     float64\n",
              "IAR                     float64\n",
              "FOIR                    float64\n",
              "LTV                     float64\n",
              "LVR                     float64\n",
              "dtype: object"
            ],
            "text/html": [
              "<div>\n",
              "<style scoped>\n",
              "    .dataframe tbody tr th:only-of-type {\n",
              "        vertical-align: middle;\n",
              "    }\n",
              "\n",
              "    .dataframe tbody tr th {\n",
              "        vertical-align: top;\n",
              "    }\n",
              "\n",
              "    .dataframe thead th {\n",
              "        text-align: right;\n",
              "    }\n",
              "</style>\n",
              "<table border=\"1\" class=\"dataframe\">\n",
              "  <thead>\n",
              "    <tr style=\"text-align: right;\">\n",
              "      <th></th>\n",
              "      <th>0</th>\n",
              "    </tr>\n",
              "  </thead>\n",
              "  <tbody>\n",
              "    <tr>\n",
              "      <th>ID</th>\n",
              "      <td>object</td>\n",
              "    </tr>\n",
              "    <tr>\n",
              "      <th>Decision</th>\n",
              "      <td>int64</td>\n",
              "    </tr>\n",
              "    <tr>\n",
              "      <th>Build_Selfcon</th>\n",
              "      <td>object</td>\n",
              "    </tr>\n",
              "    <tr>\n",
              "      <th>Tier</th>\n",
              "      <td>int64</td>\n",
              "    </tr>\n",
              "    <tr>\n",
              "      <th>Accommodation_Class</th>\n",
              "      <td>object</td>\n",
              "    </tr>\n",
              "    <tr>\n",
              "      <th>Loan_Type</th>\n",
              "      <td>object</td>\n",
              "    </tr>\n",
              "    <tr>\n",
              "      <th>Gender</th>\n",
              "      <td>object</td>\n",
              "    </tr>\n",
              "    <tr>\n",
              "      <th>Employment_Type</th>\n",
              "      <td>object</td>\n",
              "    </tr>\n",
              "    <tr>\n",
              "      <th>Doc_Proof_Inc</th>\n",
              "      <td>object</td>\n",
              "    </tr>\n",
              "    <tr>\n",
              "      <th>Marital_Status</th>\n",
              "      <td>object</td>\n",
              "    </tr>\n",
              "    <tr>\n",
              "      <th>Employer_Type</th>\n",
              "      <td>object</td>\n",
              "    </tr>\n",
              "    <tr>\n",
              "      <th>Education_Class</th>\n",
              "      <td>object</td>\n",
              "    </tr>\n",
              "    <tr>\n",
              "      <th>Mode_of_origin_class</th>\n",
              "      <td>object</td>\n",
              "    </tr>\n",
              "    <tr>\n",
              "      <th>eom_25</th>\n",
              "      <td>int64</td>\n",
              "    </tr>\n",
              "    <tr>\n",
              "      <th>OldEmi_d</th>\n",
              "      <td>int64</td>\n",
              "    </tr>\n",
              "    <tr>\n",
              "      <th>BankSave_d</th>\n",
              "      <td>int64</td>\n",
              "    </tr>\n",
              "    <tr>\n",
              "      <th>Age</th>\n",
              "      <td>int64</td>\n",
              "    </tr>\n",
              "    <tr>\n",
              "      <th>YrsAdd</th>\n",
              "      <td>int64</td>\n",
              "    </tr>\n",
              "    <tr>\n",
              "      <th>YrsJob</th>\n",
              "      <td>int64</td>\n",
              "    </tr>\n",
              "    <tr>\n",
              "      <th>Expen</th>\n",
              "      <td>int64</td>\n",
              "    </tr>\n",
              "    <tr>\n",
              "      <th>TotInc</th>\n",
              "      <td>int64</td>\n",
              "    </tr>\n",
              "    <tr>\n",
              "      <th>DispInc</th>\n",
              "      <td>int64</td>\n",
              "    </tr>\n",
              "    <tr>\n",
              "      <th>MarVal</th>\n",
              "      <td>int64</td>\n",
              "    </tr>\n",
              "    <tr>\n",
              "      <th>OldEmi</th>\n",
              "      <td>int64</td>\n",
              "    </tr>\n",
              "    <tr>\n",
              "      <th>LoanReq</th>\n",
              "      <td>int64</td>\n",
              "    </tr>\n",
              "    <tr>\n",
              "      <th>Term</th>\n",
              "      <td>int64</td>\n",
              "    </tr>\n",
              "    <tr>\n",
              "      <th>Dwnpay</th>\n",
              "      <td>int64</td>\n",
              "    </tr>\n",
              "    <tr>\n",
              "      <th>BankSave</th>\n",
              "      <td>int64</td>\n",
              "    </tr>\n",
              "    <tr>\n",
              "      <th>CalcEmi</th>\n",
              "      <td>float64</td>\n",
              "    </tr>\n",
              "    <tr>\n",
              "      <th>IIR</th>\n",
              "      <td>float64</td>\n",
              "    </tr>\n",
              "    <tr>\n",
              "      <th>IAR</th>\n",
              "      <td>float64</td>\n",
              "    </tr>\n",
              "    <tr>\n",
              "      <th>FOIR</th>\n",
              "      <td>float64</td>\n",
              "    </tr>\n",
              "    <tr>\n",
              "      <th>LTV</th>\n",
              "      <td>float64</td>\n",
              "    </tr>\n",
              "    <tr>\n",
              "      <th>LVR</th>\n",
              "      <td>float64</td>\n",
              "    </tr>\n",
              "  </tbody>\n",
              "</table>\n",
              "</div><br><label><b>dtype:</b> object</label>"
            ]
          },
          "metadata": {},
          "execution_count": 4
        }
      ],
      "source": [
        "print(data.describe())\n",
        "data.dtypes"
      ]
    },
    {
      "cell_type": "markdown",
      "metadata": {
        "id": "USB2hYejTKKM"
      },
      "source": [
        "## Transform data"
      ]
    },
    {
      "cell_type": "markdown",
      "metadata": {
        "id": "BWhg4K62TKKM"
      },
      "source": [
        "\n",
        "### Transform variables\n",
        "\n",
        "Similarly to last week, we drop the ID column.\n",
        "\n",
        "*Run the code below.*"
      ]
    },
    {
      "cell_type": "code",
      "execution_count": 5,
      "metadata": {
        "id": "dqSVr7iWTKKM"
      },
      "outputs": [],
      "source": [
        "data_transformed = data.drop(columns=\"ID\")"
      ]
    },
    {
      "cell_type": "markdown",
      "metadata": {
        "id": "GlsaPdsVTKKN"
      },
      "source": [
        "### Create training and test sets\n",
        "\n",
        "Business as usual: We create a 80-20 training and test set.\n",
        "\n",
        "*Run the code below.*"
      ]
    },
    {
      "cell_type": "code",
      "execution_count": 6,
      "metadata": {
        "id": "uOKbzQFfTKKN"
      },
      "outputs": [],
      "source": [
        "from sklearn.model_selection import train_test_split\n",
        "\n",
        "data_train, data_test = train_test_split(data_transformed, test_size=0.2, random_state=42)"
      ]
    },
    {
      "cell_type": "markdown",
      "metadata": {
        "id": "AKSu_jJbTKKN"
      },
      "source": [
        "### Preprocess Categorical Columns\n",
        "\n",
        "DecisionTreeClassifier, like many other machine learning models, requires __numerical input data__. If a dataset contains categorical variables or non-numeric data, they need to be __preprocessed before fitting the model__. Therefore categorical variables can be converted into numerical representations using techniques such as __one-hot encoding__. One-hot encoding creates binary columns for each category.\n",
        "\n",
        "*Run the code below.*"
      ]
    },
    {
      "cell_type": "code",
      "execution_count": 7,
      "metadata": {
        "id": "leTM1Y_ZTKKN"
      },
      "outputs": [],
      "source": [
        "from sklearn.preprocessing import OneHotEncoder\n",
        "# Dummy encoding / One-hot encoding\n",
        "\n",
        "categorical_columns = [\n",
        "    \"Tier\",\n",
        "    \"Build_Selfcon\",\n",
        "    \"Accommodation_Class\",\n",
        "    \"Loan_Type\",\n",
        "    \"Gender\",\n",
        "    \"Employment_Type\",\n",
        "    \"Doc_Proof_Inc\",\n",
        "    \"Marital_Status\",\n",
        "    \"Employer_Type\",\n",
        "    \"Education_Class\",\n",
        "    \"Mode_of_origin_class\"\n",
        "]\n",
        "\n",
        "# Creating the OneHotEncoder object\n",
        "encoder = OneHotEncoder(drop='first', handle_unknown='infrequent_if_exist', sparse_output=False)\n",
        "\n",
        "# Fit and transform the training data\n",
        "encoded_training = encoder.fit_transform(data_train.loc[:,categorical_columns])\n",
        "# Create a DataFrame with the encoded variables\n",
        "encoded_training_df = pd.DataFrame(encoded_training, columns=encoder.get_feature_names_out(categorical_columns))\n",
        "# Join the encoded variables to the original DataFrame and remove the original columns\n",
        "data_train = data_train.reset_index(drop=True).join(encoded_training_df).drop(columns=categorical_columns)\n",
        "X_train = data_train.drop(columns=\"Decision\")\n",
        "y_train = data_train[\"Decision\"]\n",
        "\n",
        "\n",
        "# Transform the test data\n",
        "encoded_test = encoder.transform(data_test.loc[:,categorical_columns])\n",
        "encoded_test_df = pd.DataFrame(encoded_test, columns=encoder.get_feature_names_out(categorical_columns))\n",
        "data_test = data_test.reset_index(drop=True).join(encoded_test_df).drop(columns=categorical_columns)\n",
        "X_test = data_test.drop(columns=\"Decision\")\n",
        "y_test = data_test[\"Decision\"]"
      ]
    },
    {
      "cell_type": "markdown",
      "metadata": {
        "id": "l7mr6OrnTKKN"
      },
      "source": [
        "## Bagged Trees by Hand\n",
        "\n",
        "Bagging (Bootstrap Aggregation) is a statistical method to __reduce variance__ and make predictions more stable. It describes the process of creating multiple __bootstrap samples__ from your training set and using them to train multiple models which are then aggregated to make predictions.  \n",
        "More specifically the steps for Training are:\n",
        "\n",
        "1. create m bootstrap samples by sampling from the training set.\n",
        "2. train m classifiers on the created samples.\n",
        "\n",
        "When we want to use the model to make predictions on new data, we proceed as follows:\n",
        "\n",
        "1. make m separate predictions on the new data.\n",
        "2. aggregate the m predictions by carrying out a __majory vote__. Majority voting outputs the class which occurs most often in the m predictions.\n",
        "\n",
        "![bagging.png](https://raw.githubusercontent.com/kbrennig/MODS_WS24_25/refs/heads/main/Week_7_exercise/images/bagging.png)\n",
        "<br>\n",
        "Source: Raschka (2019)"
      ]
    },
    {
      "cell_type": "markdown",
      "metadata": {
        "id": "XcqcJRQxTKKN"
      },
      "source": [
        "### Draw 10 boostrap samples (sample with replacement)\n",
        "\n",
        "First we draw ten samples, using sampling with replacement. Each sample contains as many instances as the original training set (this doesn't mean that all the samples are the same, if unclear think again about sampling with replacement).\n",
        "\n",
        "*Run the code below.*"
      ]
    },
    {
      "cell_type": "code",
      "execution_count": null,
      "metadata": {
        "id": "8HDZ_xq8TKKN"
      },
      "outputs": [],
      "source": [
        "# Get number of observations\n",
        "n_samples = data_train.shape[0]\n",
        "\n",
        "# Create 10 bootstrap samples\n",
        "bootsamp_01 = data_train.sample(replace=True, n=n_samples)\n",
        "bootsamp_01_X = bootsamp_01.drop(columns=\"Decision\")\n",
        "bootsamp_01_y = bootsamp_01[\"Decision\"]\n",
        "bootsamp_02 = data_train.sample(replace=True, n=n_samples)\n",
        "bootsamp_02_X = bootsamp_02.drop(columns=\"Decision\")\n",
        "bootsamp_02_y = bootsamp_02[\"Decision\"]\n",
        "bootsamp_03 = data_train.sample(replace=True, n=n_samples)\n",
        "bootsamp_03_X = bootsamp_03.drop(columns=\"Decision\")\n",
        "bootsamp_03_y = bootsamp_03[\"Decision\"]\n",
        "bootsamp_04 = data_train.sample(replace=True, n=n_samples)\n",
        "bootsamp_04_X = bootsamp_04.drop(columns=\"Decision\")\n",
        "bootsamp_04_y = bootsamp_04[\"Decision\"]\n",
        "bootsamp_05 = data_train.sample(replace=True, n=n_samples)\n",
        "bootsamp_05_X = bootsamp_05.drop(columns=\"Decision\")\n",
        "bootsamp_05_y = bootsamp_05[\"Decision\"]\n",
        "bootsamp_06 = data_train.sample(replace=True, n=n_samples)\n",
        "bootsamp_06_X = bootsamp_06.drop(columns=\"Decision\")\n",
        "bootsamp_06_y = bootsamp_06[\"Decision\"]\n",
        "bootsamp_07 = data_train.sample(replace=True, n=n_samples)\n",
        "bootsamp_07_X = bootsamp_07.drop(columns=\"Decision\")\n",
        "bootsamp_07_y = bootsamp_07[\"Decision\"]\n",
        "bootsamp_08 = data_train.sample(replace=True, n=n_samples)\n",
        "bootsamp_08_X = bootsamp_08.drop(columns=\"Decision\")\n",
        "bootsamp_08_y = bootsamp_08[\"Decision\"]\n",
        "bootsamp_09 = data_train.sample(replace=True, n=n_samples)\n",
        "bootsamp_09_X = bootsamp_09.drop(columns=\"Decision\")\n",
        "bootsamp_09_y = bootsamp_09[\"Decision\"]\n",
        "bootsamp_10 = data_train.sample(replace=True, n=n_samples)\n",
        "bootsamp_10_X = bootsamp_10.drop(columns=\"Decision\")\n",
        "bootsamp_10_y = bootsamp_10[\"Decision\"]"
      ]
    },
    {
      "cell_type": "markdown",
      "metadata": {
        "id": "hn7Ml82mTKKN"
      },
      "source": [
        "### Grow 10 classification trees, each on a different bootstrap sample\n",
        "\n",
        "Then we train a decision trees on each sample, resulting in ten models.\n",
        "\n",
        "*Run the code below.*"
      ]
    },
    {
      "cell_type": "code",
      "execution_count": null,
      "metadata": {
        "id": "ZbOOkOv-TKKN"
      },
      "outputs": [],
      "source": [
        "from sklearn.tree import DecisionTreeClassifier\n",
        "\n",
        "model_01 = DecisionTreeClassifier(random_state=42).fit(bootsamp_01_X, bootsamp_01_y)\n",
        "model_02 = DecisionTreeClassifier(random_state=42).fit(bootsamp_02_X, bootsamp_02_y)\n",
        "model_03 = DecisionTreeClassifier(random_state=42).fit(bootsamp_03_X, bootsamp_03_y)\n",
        "model_04 = DecisionTreeClassifier(random_state=42).fit(bootsamp_04_X, bootsamp_04_y)\n",
        "model_05 = DecisionTreeClassifier(random_state=42).fit(bootsamp_05_X, bootsamp_05_y)\n",
        "model_06 = DecisionTreeClassifier(random_state=42).fit(bootsamp_06_X, bootsamp_06_y)\n",
        "model_07 = DecisionTreeClassifier(random_state=42).fit(bootsamp_07_X, bootsamp_07_y)\n",
        "model_08 = DecisionTreeClassifier(random_state=42).fit(bootsamp_08_X, bootsamp_08_y)\n",
        "model_09 = DecisionTreeClassifier(random_state=42).fit(bootsamp_09_X, bootsamp_09_y)\n",
        "model_10 = DecisionTreeClassifier(random_state=42).fit(bootsamp_10_X, bootsamp_10_y)"
      ]
    },
    {
      "cell_type": "markdown",
      "metadata": {
        "id": "UO82n29YTKKN"
      },
      "source": [
        "### Plot individual trees\n",
        "\n",
        "We can look at the resulting trees by plotting them.\n",
        "\n",
        "*Run the code below.*"
      ]
    },
    {
      "cell_type": "code",
      "execution_count": null,
      "metadata": {
        "id": "Q0WRDTuWTKKN"
      },
      "outputs": [],
      "source": [
        "import matplotlib.pyplot as plt\n",
        "from sklearn.tree import plot_tree\n",
        "\n",
        "models = [model_01, model_02, model_03, model_04, model_05, model_06, model_07, model_08, model_09, model_10]\n",
        "plot_size = (60, 30)  #define size of plot\n",
        "for model in models:\n",
        "    # Create a new figure\n",
        "    fig, ax = plt.subplots(figsize=plot_size)\n",
        "    # Plot the tree\n",
        "    plot_tree(model, ax=ax, feature_names=data_train.drop(columns=\"Decision\").columns, impurity=False, filled=True, rounded=True, proportion=True, class_names=True, fontsize=10)"
      ]
    },
    {
      "cell_type": "markdown",
      "metadata": {
        "id": "UXA6ooFjTKKO"
      },
      "source": [
        "### Make and aggregate individual predictions\n",
        "\n",
        "After we trained our models, we use them to make individual predictions on the test data.\n",
        "\n",
        "*Run the code below.*"
      ]
    },
    {
      "cell_type": "code",
      "execution_count": null,
      "metadata": {
        "id": "uFKqBk-_TKKO"
      },
      "outputs": [],
      "source": [
        "predictions_test_01 = model_01.predict_proba(X_test)\n",
        "predictions_test_01_binary = np.where(predictions_test_01[:, 1] > 0.5, 1, 0)\n",
        "predictions_test_02 = model_02.predict_proba(X_test)\n",
        "predictions_test_02_binary = np.where(predictions_test_02[:, 1] > 0.5, 1, 0)\n",
        "predictions_test_03 = model_03.predict_proba(X_test)\n",
        "predictions_test_03_binary = np.where(predictions_test_03[:, 1] > 0.5, 1, 0)\n",
        "predictions_test_04 = model_04.predict_proba(X_test)\n",
        "predictions_test_04_binary = np.where(predictions_test_04[:, 1] > 0.5, 1, 0)\n",
        "predictions_test_05 = model_05.predict_proba(X_test)\n",
        "predictions_test_05_binary = np.where(predictions_test_05[:, 1] > 0.5, 1, 0)\n",
        "predictions_test_06 = model_06.predict_proba(X_test)\n",
        "predictions_test_06_binary = np.where(predictions_test_06[:, 1] > 0.5, 1, 0)\n",
        "predictions_test_07 = model_07.predict_proba(X_test)\n",
        "predictions_test_07_binary = np.where(predictions_test_07[:, 1] > 0.5, 1, 0)\n",
        "predictions_test_08 = model_08.predict_proba(X_test)\n",
        "predictions_test_08_binary = np.where(predictions_test_08[:, 1] > 0.5, 1, 0)\n",
        "predictions_test_09 = model_09.predict_proba(X_test)\n",
        "predictions_test_09_binary = np.where(predictions_test_09[:, 1] > 0.5, 1, 0)\n",
        "predictions_test_10 = model_10.predict_proba(X_test)\n",
        "predictions_test_10_binary = np.where(predictions_test_10[:, 1] > 0.5, 1, 0)\n",
        "\n",
        "# Aggregate the predictions\n",
        "predictions_test_agg = (predictions_test_01[:, 1] + predictions_test_02[:, 1] + predictions_test_03[:, 1] + predictions_test_04[:, 1] + predictions_test_05[:, 1] + predictions_test_06[:, 1] + predictions_test_07[:, 1] + predictions_test_08[:, 1] + predictions_test_09[:, 1] + predictions_test_10[:, 1]) / 10\n",
        "predictions_test_agg_binary = np.where(predictions_test_agg > 0.5, 1, 0)\n",
        "\n",
        "data_test_w_preds = X_test.copy()\n",
        "data_test_w_preds['predictions_test_agg_binary'] = predictions_test_agg_binary\n",
        "data_test_w_preds['predictions_test_01_binary'] = predictions_test_01_binary\n",
        "data_test_w_preds['predictions_test_02_binary'] = predictions_test_02_binary\n",
        "data_test_w_preds['predictions_test_03_binary'] = predictions_test_03_binary\n",
        "data_test_w_preds['predictions_test_04_binary'] = predictions_test_04_binary\n",
        "data_test_w_preds['predictions_test_05_binary'] = predictions_test_05_binary\n",
        "data_test_w_preds['predictions_test_06_binary'] = predictions_test_06_binary\n",
        "data_test_w_preds['predictions_test_07_binary'] = predictions_test_07_binary\n",
        "data_test_w_preds['predictions_test_08_binary'] = predictions_test_08_binary\n",
        "data_test_w_preds['predictions_test_09_binary'] = predictions_test_09_binary\n",
        "data_test_w_preds['predictions_test_10_binary'] = predictions_test_10_binary"
      ]
    },
    {
      "cell_type": "markdown",
      "metadata": {
        "id": "VWeZ5yKGTKKO"
      },
      "source": [
        "### Calculate mean accuracy of the 10 individual models on test set\n",
        "\n",
        "Lastly, we calculate two different accuracies. First we calculate the __mean accuracy over all models__.\n",
        "\n",
        "*Run the code below.*"
      ]
    },
    {
      "cell_type": "code",
      "execution_count": null,
      "metadata": {
        "id": "3DlTMvSLTKKO"
      },
      "outputs": [],
      "source": [
        "from sklearn.metrics import accuracy_score\n",
        "\n",
        "accuracy_mean = np.mean([accuracy_score(y_test, predictions_test_01_binary),\n",
        "                         accuracy_score(y_test, predictions_test_02_binary),\n",
        "                         accuracy_score(y_test, predictions_test_03_binary),\n",
        "                         accuracy_score(y_test, predictions_test_04_binary),\n",
        "                         accuracy_score(y_test, predictions_test_05_binary),\n",
        "                         accuracy_score(y_test, predictions_test_06_binary),\n",
        "                         accuracy_score(y_test, predictions_test_07_binary),\n",
        "                         accuracy_score(y_test, predictions_test_08_binary),\n",
        "                         accuracy_score(y_test, predictions_test_09_binary),\n",
        "                         accuracy_score(y_test, predictions_test_10_binary)])\n",
        "\n",
        "print(\"Mean accuracy over all models: \", accuracy_mean)"
      ]
    },
    {
      "cell_type": "markdown",
      "metadata": {
        "id": "qhYQpDc1TKKO"
      },
      "source": [
        "### Calculate accuracy of the bagged trees on test set\n",
        "\n",
        "And secondly we calculate the __accuracy of the aggregated (averaged) predictions on the test set__.\n",
        "\n",
        "*Run the code below.*"
      ]
    },
    {
      "cell_type": "code",
      "execution_count": null,
      "metadata": {
        "id": "HC7hmsoTTKKO"
      },
      "outputs": [],
      "source": [
        "accuracy_agg = accuracy_score(y_test, predictions_test_agg_binary)\n",
        "\n",
        "print(\"Accuracy of the aggregated (averaged) predictions:\", accuracy_agg)"
      ]
    },
    {
      "cell_type": "markdown",
      "metadata": {
        "id": "n7swnIo3TKKO"
      },
      "source": [
        "We clearly see the difference in accuracy and validate our assumptions that bagging leads to more stable and more accurate models.\n",
        "\n",
        "## Random Forest\n",
        "\n",
        "If we go back to the bagged trees, that we just created and look closely we will see that even though they were trained on different sets there are a lot of similarities between the trees. This is due to the fact, that there are a few very strong independent variables in our dataset that are chosen for most of the upper splits. Since our goal is to create as diverse models as possible this isn't a desired behavior.  \n",
        "\n",
        "Here __Random Forests__ come into play. Additionally to __Bagging__ they also __restrict the number of predictors__ that can be considered for each split in a tree. This is achieved by __randomly selecting a subset__ of all predictors __for each split__.\n",
        "\n",
        "### Grow random forest on training data\n",
        "\n",
        "*Run the code below.*"
      ]
    },
    {
      "cell_type": "code",
      "execution_count": null,
      "metadata": {
        "id": "opetqLwbTKKO"
      },
      "outputs": [],
      "source": [
        "from sklearn.ensemble import RandomForestClassifier\n",
        "# Random Forests\n",
        "rf_01 = RandomForestClassifier(n_estimators=500, random_state=42).fit(X_train, y_train)"
      ]
    },
    {
      "cell_type": "markdown",
      "metadata": {
        "id": "sxrkiNw3TKKO"
      },
      "source": [
        "### Show results\n",
        "\n",
        "We can see that there are different parameters that have to be specified in order to train a random forest. The __Number of trees__ (n_estimators) for example tells us how many trees have been trained.   \n",
        "For a complete list of the `RandomForestClassifier` functions parameters, you can have a look at its [documentation](https://scikit-learn.org/stable/modules/generated/sklearn.ensemble.RandomForestClassifier.html).\n",
        "\n",
        "*Run the code below.*"
      ]
    },
    {
      "cell_type": "code",
      "execution_count": null,
      "metadata": {
        "id": "XUQG9TsHTKKO"
      },
      "outputs": [],
      "source": [
        "print(\"Parameters:\", rf_01.get_params())"
      ]
    },
    {
      "cell_type": "markdown",
      "metadata": {
        "id": "NLQENKOyTKKO"
      },
      "source": [
        "### Make predictions and calculate evaluation metrics on test set\n",
        "\n",
        "Similarly to last week, we can make predictions on the test set and calculate different evaluation metrics.\n",
        "\n",
        "*Run the code below.*"
      ]
    },
    {
      "cell_type": "code",
      "execution_count": null,
      "metadata": {
        "id": "fHDqtBf1TKKO"
      },
      "outputs": [],
      "source": [
        "from sklearn.metrics import ConfusionMatrixDisplay\n",
        "\n",
        "predictions_testset_rf01 = rf_01.predict_proba(X_test)[:, 1]\n",
        "predictions_testset_rf01_binary = np.where(predictions_testset_rf01 > 0.5, 1, 0)\n",
        "\n",
        "# Calculate Accuracy\n",
        "accuracy_rf = accuracy_score(y_test, predictions_testset_rf01_binary)\n",
        "print(\"Accuracy (Random Forests):\", accuracy_rf)\n",
        "\n",
        "# Create the confusion matrix\n",
        "ConfusionMatrixDisplay.from_predictions(y_test, predictions_testset_rf01_binary)"
      ]
    },
    {
      "cell_type": "markdown",
      "metadata": {
        "id": "y57JZibMTKKO"
      },
      "source": [
        "### ROC and Auc\n",
        "\n",
        "Plot ROC curve and calculate AUC on test set.\n",
        "With __binary__ classification we get relatively straight lines. With the classification __probability__ we can map the distribution better. That is why we use the classification probability (e.g., predictions_testset_rf01) to calculate the AUC.\n",
        "\n",
        "*Run the code below.*"
      ]
    },
    {
      "cell_type": "code",
      "execution_count": null,
      "metadata": {
        "id": "C5_-E-ndTKKO"
      },
      "outputs": [],
      "source": [
        "from sklearn.metrics import RocCurveDisplay, roc_auc_score\n",
        "\n",
        "# Calculate and Print the AUC score\n",
        "auc_score = roc_auc_score(y_test, predictions_testset_rf01)\n",
        "print(\"AUC Score:\", auc_score)\n",
        "\n",
        "#plot ROC curve\n",
        "RocCurveDisplay.from_predictions(y_test, predictions_testset_rf01, plot_chance_level=True)"
      ]
    },
    {
      "cell_type": "markdown",
      "metadata": {
        "id": "eJZhCa9yTKKP"
      },
      "source": [
        "## Hyperparameter Tuning\n",
        "\n",
        "If we look at the documentation of the `RandomForestClassifier` function we see that there are multiple __hyperparameters__ that can be specified and which will have an influence on our model's performance.   \n",
        "Instead of randomly choosing or adjusting these parameters we can make use of automated __Hyperparameter Tuning__.\n",
        "\n",
        "Tune __max_features__, __max_depth__ and __min_impurity_decrease__ hyperparameters, calculate the time it took for the hyperparameter tuning and use AUC as accuracy metric.\n",
        "\n",
        "*Run the code below.*"
      ]
    },
    {
      "cell_type": "code",
      "execution_count": null,
      "metadata": {
        "id": "vuoOhgP1TKKP"
      },
      "outputs": [],
      "source": [
        "import time\n",
        "from sklearn.model_selection import RandomizedSearchCV\n",
        "\n",
        "start_time = time.time()\n",
        "\n",
        "# Define parameter grid\n",
        "max_features = list(range(1, X_train.shape[1])) # Number of features to consider at every split\n",
        "max_depth = list(range(10, 20)) # Maximum number of levels in tree\n",
        "max_depth.append(None)\n",
        "min_impurity_decrease = [0.0, 0.01, 0.005] #A node will be split if this split induces a decrease of the impurity greater than or equal to this value.\n",
        "\n",
        "param_grid = {\n",
        "    'max_features': max_features,\n",
        "    'max_depth': max_depth,\n",
        "    \"min_impurity_decrease\": min_impurity_decrease,\n",
        "}\n",
        "\n",
        "# Tune hyperparameters\n",
        "rfc = RandomForestClassifier(n_estimators=500, random_state=42)\n",
        "rfc_random = RandomizedSearchCV(estimator=rfc, param_distributions=param_grid, n_iter=10, cv=5, scoring=\"roc_auc\", verbose=2, random_state=42, n_jobs=-1)\n",
        "rfc_random.fit(X_train, y_train)\n",
        "end_time = time.time()\n",
        "\n",
        "# Print the best hyperparameters and the time taken\n",
        "print(\"Best parameters found:\", rfc_random.best_params_)\n",
        "print(\"Time taken for tuning:\", end_time - start_time, \"seconds\")"
      ]
    },
    {
      "cell_type": "markdown",
      "metadata": {
        "id": "WovplMdeTKKP"
      },
      "source": [
        "#### Show tuning results.\n",
        "\n",
        "After the tuning is done, we can look at the results that show us the obtained scores of different hyperparameter combinations.\n",
        "\n",
        "*Run the code below.*"
      ]
    },
    {
      "cell_type": "code",
      "execution_count": null,
      "metadata": {
        "id": "gbFxRoEwTKKP"
      },
      "outputs": [],
      "source": [
        "results = pd.DataFrame(rfc_random.cv_results_)\n",
        "print(results[['params', 'mean_test_score']])"
      ]
    },
    {
      "cell_type": "markdown",
      "metadata": {
        "id": "kcBCwuD4TKKP"
      },
      "source": [
        "#### Apply the best hyperparameter combination.\n",
        "\n",
        "Additionally we can directly extract the best values and the best model.\n",
        "\n",
        "*Run the code below.*"
      ]
    },
    {
      "cell_type": "code",
      "execution_count": null,
      "metadata": {
        "id": "MXtPEpoXTKKP"
      },
      "outputs": [],
      "source": [
        "print(rfc_random.best_params_)"
      ]
    },
    {
      "cell_type": "code",
      "execution_count": null,
      "metadata": {
        "id": "iWFtU97mTKKP"
      },
      "outputs": [],
      "source": [
        "# Select model with best parameters\n",
        "best_rfc = RandomForestClassifier(**rfc_random.best_params_, n_estimators=500, random_state=42)\n",
        "\n",
        "# Train model on training data\n",
        "best_rfc.fit(X_train, y_train)\n",
        "\n",
        "# Make predictions on test data\n",
        "best_rfc_predictions = best_rfc.predict_proba(X_test)\n",
        "best_rfc_predictions_binary = np.where(best_rfc_predictions[:,1] > 0.5, 1, 0)\n",
        "\n",
        "# Calculate AUC\n",
        "auc_rfc_tuned = roc_auc_score(y_test, best_rfc_predictions[:,1]) # Here we also use the classification probability\n",
        "print(\"AUC Tuned RFC:\", auc_rfc_tuned)"
      ]
    },
    {
      "cell_type": "markdown",
      "metadata": {
        "id": "2KSdja_kTKKP"
      },
      "source": [
        "## Model interpretability\n",
        "\n",
        "### Permutation based feature importance\n",
        "\n",
        "If done correctly, more complex ML models usually increase predictive performance, but on the other hand they drastically decrease transparency. This means that we can observe a model's in- and outputs but we are not able to understand how the model derived the outputs given the inputs. There are different __Interpretability approaches__ that try to reason about a model's behavior.   __Permutation based feature importance__ is one such approach.\n",
        "\n",
        "\"*Permutation feature importance measures the increase in the prediction error of the model after we permuted the feature's values, which breaks the relationship between the feature and the true outcome.*\"\n",
        "\n",
        "The permutation feature importance algorithm based on Fisher, Rudin, and Dominici (2018):\n",
        "\n",
        "Input: Trained model f, feature matrix X, target vector y, error measure L(y,f).\n",
        "\n",
        "1. Estimate the original model error e<sub>orig</sub> = L(y, f(X)) (e.g. mean squared error)  \n",
        "2. For each feature j = 1,...,p do:  \n",
        "    * Generate feature matrix X<sub>perm</sub> by permuting feature j in the data X. This breaks the association between feature j and true outcome y.  \n",
        "    * Estimate error e<sub>perm</sub> = L(Y,f(X<sub>perm</sub>)) based on the predictions of the permuted data.  \n",
        "    * Calculate permutation feature importance FI<sub>j</sub>= e<sub>perm</sub>/e<sub>orig</sub>.\n",
        "3. Sort features by descending FI.  \n",
        "\n",
        "[__Source: Molnar (2019)__](https://christophm.github.io/interpretable-ml-book/feature-importance.html)\n",
        "\n",
        "\n",
        "*Run the code below.*\n"
      ]
    },
    {
      "cell_type": "code",
      "execution_count": null,
      "metadata": {
        "id": "EAxXdUfsTKKP"
      },
      "outputs": [],
      "source": [
        "from sklearn.inspection import permutation_importance\n",
        "\n",
        "# Calculate permutation-based feature importance\n",
        "result = permutation_importance(rf_01, X_train, y_train, n_repeats=10, random_state=42, n_jobs=-1)\n",
        "\n",
        "# Get feature names from X_train\n",
        "feature_names = X_train.columns\n",
        "\n",
        "# Get the sorted indices of feature importance\n",
        "sorted_idx = result.importances_mean.argsort()\n",
        "\n",
        "# Plot feature importance\n",
        "plt.figure(figsize=(20, 15))\n",
        "plt.barh(range(len(sorted_idx)), result.importances_mean[sorted_idx], xerr=result.importances_std[sorted_idx])\n",
        "plt.yticks(range(len(sorted_idx)), [feature_names[i] for i in sorted_idx])\n",
        "plt.xlabel('Permutation Importance')\n",
        "plt.ylabel('Feature')\n",
        "plt.title('Permutation-based Feature Importance')\n",
        "plt.show()\n"
      ]
    },
    {
      "cell_type": "markdown",
      "metadata": {
        "id": "WfhfuIUlTKKP"
      },
      "source": [
        "## Summary\n",
        "\n",
        "So to sum it up let us have a look what we did in this week's tutorial:\n",
        "\n",
        "1. we learned how __Bagging__ works and how it can improve model performance.\n",
        "2. after that, we had a look at __Random Forests__, which build on bagged trees and extend them by only using a __randomized subset of features__ at each split.\n",
        "3. the more complex the models get, the more __hyperparameters__ are to be defined. Instead of randomly choosing these hyperparameters it makes more sense to systematically try different combinations and choose the best performing one. This process is called __Hyperparameter Tuning__.\n",
        "4. Finally, we looked at __permutation based feature importance__, an attempt to make __blackbox ML models__ more interpretable to humans.\n",
        "\n",
        "\n",
        "\n",
        "*You can use the cell below to build and evaluate different models*"
      ]
    },
    {
      "cell_type": "code",
      "execution_count": 13,
      "metadata": {
        "id": "0hOLe9mYTKKP",
        "outputId": "3b6fa544-84ea-4767-c6f7-f79cec52a8d1",
        "colab": {
          "base_uri": "https://localhost:8080/",
          "height": 918
        }
      },
      "outputs": [
        {
          "output_type": "stream",
          "name": "stdout",
          "text": [
            "AUC Score: 0.8670973696354407\n"
          ]
        },
        {
          "output_type": "execute_result",
          "data": {
            "text/plain": [
              "<sklearn.metrics._plot.roc_curve.RocCurveDisplay at 0x78e3b1a827a0>"
            ]
          },
          "metadata": {},
          "execution_count": 13
        },
        {
          "output_type": "display_data",
          "data": {
            "text/plain": [
              "<Figure size 640x480 with 2 Axes>"
            ],
            "image/png": "[encoded data removed]"
          },
          "metadata": {}
        },
        {
          "output_type": "display_data",
          "data": {
            "text/plain": [
              "<Figure size 640x480 with 1 Axes>"
            ],
            "image/png": "[encoded data removed]"
          },
          "metadata": {}
        }
      ],
      "source": [
        "from sklearn.ensemble import RandomForestClassifier\n",
        "from sklearn.metrics import ConfusionMatrixDisplay\n",
        "from sklearn.metrics import RocCurveDisplay, roc_auc_score\n",
        "\n",
        "# Random Forests\n",
        "rf_01 = RandomForestClassifier(n_estimators=350, random_state=10, min_samples_leaf=5).fit(X_train, y_train)\n",
        "rf_01.seed = 42\n",
        "\n",
        "predictions_testset_rf01 = rf_01.predict_proba(X_test)[:, 1]\n",
        "predictions_testset_rf01_binary = np.where(predictions_testset_rf01 > 0.6, 1, 0)\n",
        "\n",
        "ConfusionMatrixDisplay.from_predictions(y_test, predictions_testset_rf01_binary)\n",
        "\n",
        "\n",
        "# Calculate and Print the AUC score\n",
        "auc_score = roc_auc_score(y_test, predictions_testset_rf01)\n",
        "print(\"AUC Score:\", auc_score)\n",
        "\n",
        "#plot ROC curve\n",
        "RocCurveDisplay.from_predictions(y_test, predictions_testset_rf01, plot_chance_level=True)"
      ]
    }
  ],
  "metadata": {
    "kernelspec": {
      "display_name": "MODS",
      "language": "python",
      "name": "python3"
    },
    "language_info": {
      "codemirror_mode": {
        "name": "ipython",
        "version": 3
      },
      "file_extension": ".py",
      "mimetype": "text/x-python",
      "name": "python",
      "nbconvert_exporter": "python",
      "pygments_lexer": "ipython3",
      "version": "3.12.2"
    },
    "colab": {
      "provenance": []
    }
  },
  "nbformat": 4,
  "nbformat_minor": 0
}