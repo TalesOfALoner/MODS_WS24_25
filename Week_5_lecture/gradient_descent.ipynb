{
 "cells": [
  {
   "cell_type": "code",
   "execution_count": null,
   "metadata": {},
   "outputs": [],
   "source": [
    "# Import the necessary libraries\n",
    "import numpy as np\n",
    "import pandas as pd\n",
    "from statsmodels.formula.api import ols"
   ]
  },
  {
   "cell_type": "code",
   "execution_count": null,
   "metadata": {},
   "outputs": [],
   "source": [
    "# Load data\n",
    "data = pd.read_csv('https://raw.githubusercontent.com/kbrennig/MODS_WS24_25/refs/heads/main/data/Advertising.csv')"
   ]
  },
  {
   "cell_type": "code",
   "execution_count": null,
   "metadata": {},
   "outputs": [],
   "source": [
    "# Extract y an x\n",
    "y = data[\"Sales\"]\n",
    "X = data[\"TV\"]\n",
    "\n",
    "# Converting pandas series to numpy arrays for faster computation\n",
    "X = X.to_numpy()\n",
    "y = y.to_numpy()"
   ]
  },
  {
   "cell_type": "code",
   "execution_count": null,
   "metadata": {},
   "outputs": [],
   "source": [
    "# Random start values for beta0 (intercept) and beta1 (slope)\n",
    "beta0 = np.random.uniform(0, 1)\n",
    "beta1 = np.random.uniform(0, 1)"
   ]
  },
  {
   "cell_type": "code",
   "execution_count": null,
   "metadata": {},
   "outputs": [],
   "source": [
    "# Define learning rate and maximum number of iterations of GD\n",
    "learning_rate = 0.0000001\n",
    "max_iter = 1000000"
   ]
  },
  {
   "cell_type": "code",
   "execution_count": null,
   "metadata": {},
   "outputs": [],
   "source": [
    "print(\"Initial values of beta0 and beta1: \", beta0, beta1)"
   ]
  },
  {
   "cell_type": "code",
   "execution_count": null,
   "metadata": {},
   "outputs": [],
   "source": [
    "# Perform gradient descent\n",
    "for i in range(1, max_iter+1):\n",
    "    # Calculate partial derivatives of loss function with respect to beta0 and beta1\n",
    "    d_beta0 = np.sum(2*(beta0 + beta1 * X - y))\n",
    "    d_beta1 = np.sum(2*X*(beta0 + beta1 * X - y))\n",
    "\n",
    "    # Update values of beta0 and beta1 (i.e., take a step into opposite direction of the gradient)\n",
    "    beta0_new = beta0 - learning_rate*1 * d_beta0\n",
    "    beta1_new = beta1 - learning_rate*1 * d_beta1\n",
    "    beta0 = beta0_new\n",
    "    beta1 = beta1_new\n",
    "\n",
    "    # Print estimates every 10000 steps\n",
    "    if i % 10000 == 0:\n",
    "        print(\"Iteration:\", i, \"|\", \"Estimated intercept:\", round(beta0, 6), \"|\", \"Estimated slope:\", round(beta1, 6))"
   ]
  },
  {
   "cell_type": "code",
   "execution_count": null,
   "metadata": {},
   "outputs": [],
   "source": [
    "# Print final estimated parameter values\n",
    "print(\"Final estimated intercept:\", round(beta0, 6), \"|\", \"Final estimated slope:\", round(beta1, 6))"
   ]
  },
  {
   "cell_type": "code",
   "execution_count": null,
   "metadata": {},
   "outputs": [],
   "source": [
    "# For comparison, let's look at the analytical solution\n",
    "model = ols(formula=\"Sales ~ TV\", data=data).fit()\n",
    "print(model.summary(slim=True))"
   ]
  }
 ],
 "metadata": {
  "kernelspec": {
   "display_name": "venv-teaching",
   "language": "python",
   "name": "python3"
  },
  "language_info": {
   "codemirror_mode": {
    "name": "ipython",
    "version": 3
   },
   "file_extension": ".py",
   "mimetype": "text/x-python",
   "name": "python",
   "nbconvert_exporter": "python",
   "pygments_lexer": "ipython3",
   "version": "3.12.4"
  }
 },
 "nbformat": 4,
 "nbformat_minor": 2
}
