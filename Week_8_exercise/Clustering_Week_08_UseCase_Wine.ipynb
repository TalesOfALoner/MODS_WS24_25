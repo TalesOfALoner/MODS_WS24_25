{
 "cells": [
  {
   "cell_type": "markdown",
   "metadata": {
    "id": "OPiOF1AiKoQ9"
   },
   "source": [
    "## Introduction\n",
    "\n",
    "In this week you are going to implement a clustering on a wine dataset.\n",
    "\n",
    "The data results of a chemical analysis of wines grown in the same region in Italy but derived from three different cultivars. The analysis determined 13 different Features to use.\n",
    "\n",
    "- **Acohol** Alkoholanteil\n",
    "- **Malic_Acid** Anteil an Apfelsäure\n",
    "- **Ash** Asche\n",
    "- **Ash_Alcanity** Alkalinität der Asche\n",
    "- **Magnesium** Anteil an Magnesium im Wein\n",
    "- **Total_Phenols** Gesamtphenole\n",
    "- **Flavanoids** Flavanoide\n",
    "- **Nonflavanoid_Phenols** Nichtflavanoide Phenole\n",
    "- **Proanthocyanins** Proanthocyanine\n",
    "- **Color_Intensity** Farbintensität\n",
    "- **Hue** Farbton\n",
    "- **OD280/OD315 of diluted wines**  OD280 / OD315 von verdünnten Weinen\n",
    "- **Proline** Proline\n",
    "\n",
    "\n",
    "Source: [Wine Dataset](https://www.kaggle.com/harrywang/wine-dataset-for-clustering)"
   ]
  },
  {
   "cell_type": "code",
   "execution_count": null,
   "metadata": {
    "executionInfo": {
     "elapsed": 5202,
     "status": "ok",
     "timestamp": 1730388532256,
     "user": {
      "displayName": "Arthur S",
      "userId": "06175255907682516412"
     },
     "user_tz": -60
    },
    "id": "zu5q4fxfKOFg"
   },
   "outputs": [],
   "source": [
    "# Load the necessary packages\n",
    "import pandas as pd\n",
    "from sklearn.preprocessing import StandardScaler\n",
    "from sklearn.cluster import KMeans\n",
    "from sklearn.metrics import silhouette_score\n",
    "import numpy as np\n",
    "import random\n",
    "\n",
    "# Set seed for reproducibility\n",
    "np.random.seed(42)  # Set seed for NumPy\n",
    "random.seed(42) # Set seed for random module\n",
    "\n",
    "# Load the dataset\n",
    "data = pd.read_csv(\"https://raw.githubusercontent.com/kbrennig/MODS_WS24_25/refs/heads/main/data/wine-clustering.csv\")"
   ]
  },
  {
   "cell_type": "markdown",
   "metadata": {
    "id": "aVCe7KnLLomS"
   },
   "source": [
    "## Exercise\n",
    "\n",
    "Follow the steps below to divide the data to different cluster.\n",
    "\n",
    "The whole Dataset is saved in the variable data\n",
    "\n",
    "1. For the clustering we only want to consider the Features **Alcohol**, **Ash**, **Color_Intensity** and **OD280**. Create a new dataset containing only the desired Features.\n",
    "\n",
    "2. Standaridize the Features of the created subset.\n",
    "\n",
    "3. Create a clustering model with **two centers**, **n_init** set to auto and **max_iter** equal to 300. Aswell take a closer look to the build clusters and centroids.\n",
    "\n",
    "4. Evaluate the build model with the silhouette score, calculate each score for each cluster and the average silhouette score\n",
    "\n",
    "After building and evaluating the first model we want to take a closer look at which kind of hyperparameters fit the model the best.\n",
    "\n",
    "5. Create a loop or any kind of code to find out the best number of clusters.\n",
    "\n",
    "*Write your code into the given cell below to build and evaluate your clustering.*"
   ]
  },
  {
   "cell_type": "code",
   "execution_count": null,
   "metadata": {
    "colab": {
     "base_uri": "https://localhost:8080/"
    },
    "executionInfo": {
     "elapsed": 549,
     "status": "ok",
     "timestamp": 1730388582363,
     "user": {
      "displayName": "Arthur S",
      "userId": "06175255907682516412"
     },
     "user_tz": -60
    },
    "id": "TuHlSwnKJ-Aq",
    "outputId": "97476fdb-89ac-4d33-855d-f4dcfbdcbda7"
   },
   "outputs": [],
   "source": [
    "# Enter your Code here!"
   ]
  }
 ],
 "metadata": {
  "colab": {
   "provenance": []
  },
  "kernelspec": {
   "display_name": "MODS",
   "language": "python",
   "name": "python3"
  },
  "language_info": {
   "codemirror_mode": {
    "name": "ipython",
    "version": 3
   },
   "file_extension": ".py",
   "mimetype": "text/x-python",
   "name": "python",
   "nbconvert_exporter": "python",
   "pygments_lexer": "ipython3",
   "version": "3.12.2"
  }
 },
 "nbformat": 4,
 "nbformat_minor": 0
}
